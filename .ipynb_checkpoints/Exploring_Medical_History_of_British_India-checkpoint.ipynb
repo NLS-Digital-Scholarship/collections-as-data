{
 "cells": [
  {
   "cell_type": "markdown",
   "metadata": {},
   "source": [
    "# Exploring A Medical History of British India\n",
    "Created in July-September 2020 for the National Library of Scotland's Data Foundry by Lucy Havens, Digital Library Research Intern"
   ]
  },
  {
   "cell_type": "markdown",
   "metadata": {},
   "source": [
    "### About the *A Medical History of British India* Dataset\n",
    "The dataset consists of 468 official publications from British India, mainly from 1850-1950, that report on public health, disease mapping, vaccination efforts, veterinary experiments, and other medical topics.  The publications are a subset of a larger collection of 40,000 volumes that report on the administration of British India.  The Wellcome Trust funded the digitisation of the medical history volumes in this dataset.\n",
    "* Data format: digitised text\n",
    "* Data creation process: Optical Character Recognition (OCR) and manual cleaning\n",
    "* Data source: https://data.nls.uk/data/digitised-collections/a-medical-history-of-british-india/\n",
    "***\n",
    "### Table of Contents\n",
    "0. [Preparation](#0.-Preparation)\n",
    "1. [Data Cleaning and Standardisation](#1.-Data-Cleaning-and-Standardisation)\n",
    "2. [Summary Statistics](#2.-Summary-Statistics)\n",
    "3. [Exploratory Analysis](#3.-Exploratory-Analysis)\n",
    "***"
   ]
  },
  {
   "cell_type": "markdown",
   "metadata": {},
   "source": [
    "### 0. Preparation"
   ]
  },
  {
   "cell_type": "markdown",
   "metadata": {},
   "source": [
    "Import libraries to use for cleaning, summarising and exploring the data:"
   ]
  },
  {
   "cell_type": "code",
   "execution_count": 20,
   "metadata": {},
   "outputs": [],
   "source": [
    "# To prevent SSL certificate failure\n",
    "import os, ssl\n",
    "if (not os.environ.get('PYTHONHTTPSVERIFY', '') and\n",
    "    getattr(ssl, '_create_unverified_context', None)):\n",
    "    ssl._create_default_https_context = ssl._create_unverified_context\n",
    "\n",
    "# Libraries for data loading\n",
    "import pandas as pd\n",
    "import numpy as np\n",
    "import string\n",
    "import re\n",
    "\n",
    "# Libraries for visualization\n",
    "import altair as alt\n",
    "import matplotlib.pyplot as plt\n",
    "\n",
    "# Libraries for text analysis\n",
    "import nltk\n",
    "from nltk.tokenize import word_tokenize, sent_tokenize\n",
    "nltk.download('punkt')\n",
    "from nltk.corpus import PlaintextCorpusReader\n",
    "nltk.download('wordnet')\n",
    "from nltk.corpus import wordnet\n",
    "from nltk.corpus import stopwords\n",
    "from nltk.text import Text\n",
    "from nltk.stem.porter import PorterStemmer\n",
    "from nltk.probability import FreqDist\n",
    "nltk.download('averaged_perceptron_tagger')\n",
    "from nltk.tag import pos_tag\n",
    "nltk.download('tagsets')  # part of speech tags\n",
    "from nltk.draw.dispersion import dispersion_plot as displt"
   ]
  },
  {
   "cell_type": "markdown",
   "metadata": {},
   "source": [
    "To explore the text in the *A Medical History of British India* collection, we'll mainly use the **Natural Language Toolkit (NLTK)**, a library written for the programming language Python.\n",
    "\n",
    "The nls-text-indiaPapers folder (downloadable as *Just the text* data from the website at the top of this notebook) contains TXT files of digitised text with numerical names, as well as a CSV inventory file and a TXT ReadMe file.  Load only the TXT files of digitised text and **tokenise** the text (which splits a string into separate words and punctuation):"
   ]
  },
  {
   "cell_type": "code",
   "execution_count": 2,
   "metadata": {},
   "outputs": [
    {
     "name": "stdout",
     "output_type": "stream",
     "text": [
      "['No', '.', '1111', '(', 'Sanitary', '),', 'dated', 'Ootacamund', ',', 'the']\n"
     ]
    }
   ],
   "source": [
    "corpus_folder = 'data/nls-text-indiaPapers/'\n",
    "wordlists = PlaintextCorpusReader(corpus_folder, '\\d.*', encoding='latin1')\n",
    "corpus_tokens = wordlists.words()\n",
    "print(corpus_tokens[:10])"
   ]
  },
  {
   "cell_type": "markdown",
   "metadata": {},
   "source": [
    "*Note: If you'd like to see how to specify a single TXT file to load as data, check out the Jupyter Notebook for the Britain and UK Handbooks!*\n",
    "\n",
    "It's hard to get a sense of how accurately the text has been digitised from this list of 10 tokens, so let's look at one of these words in context.  To see phrases in which \"India\" is used, we can use the `concordance()` method:"
   ]
  },
  {
   "cell_type": "code",
   "execution_count": 3,
   "metadata": {},
   "outputs": [
    {
     "name": "stdout",
     "output_type": "stream",
     "text": [
      "Displaying 20 of 16495 matches:\n",
      "ffg . Secretary to the Government of India . Resolution of Government of India \n",
      " India . Resolution of Government of India No . 1 - 137 , dated 5th March 1875 \n",
      "rch 1875 . Letter from Government of India No . 486 , dated 5th September 1876 \n",
      "ember 1876 . Letter to Government of India No . 1063 , dated 26th ditto . REFER\n",
      "ffg . Secretary to the Government of India , Home Department . REFERRING to par\n",
      " to paragraph 8 of the Government of India ' s Resolu - tion No . 1 - 136 , dat\n",
      "inion expressed by the Government of India that any measures of segragation and\n",
      "filth with which all the villages in India are surrounded is quite sufficient t\n",
      "the disease in Rajputana and Central India are in the hands of the Presidency S\n",
      "ffg . Secretary to the Government of India , Home Dept . IN continuation of my \n",
      " the Resolution of the Government of India , Home Department ( Medical ), No 1 \n",
      "d by the orders of the Government of India dated 5th March 1876 . Report on lep\n",
      "e to the orders of the Government of India , contained in paragraph 8 of Resolu\n",
      "ries propounded by the Government of India . 5 . In regard to the extent to whi\n",
      " of leprosy in Europeans resident in India which have come to his knowledge - o\n",
      " case of an European lady , who left India in 1875 and suffered with symptoms o\n",
      "ffg . Secretary to the Government of India , Home Dept . IN continuation of let\n",
      "the information of the Government of India , copy of a letter from the Officiat\n",
      "rnment of the Punjab . Government of India No . 141 , dated 5th March 1875 , pa\n",
      "ffg . Secretary to the Government of India , Home Department . IN continuation \n"
     ]
    }
   ],
   "source": [
    "t = Text(corpus_tokens)\n",
    "t.concordance('India', lines=20)  # by default NLTK's concordance method displays 25 lines"
   ]
  },
  {
   "cell_type": "markdown",
   "metadata": {},
   "source": [
    "The *A Medical History of British India* (MHBI) dataset has been digitised and then manually corrected for errors in the digitisation process, so we can be pretty confident in the quality of the text for this dataset.\n",
    "\n",
    "Let's find out just how much text and just how many files we're working with:"
   ]
  },
  {
   "cell_type": "code",
   "execution_count": 22,
   "metadata": {},
   "outputs": [
    {
     "name": "stdout",
     "output_type": "stream",
     "text": [
      "Total...\n",
      "  Characters in Medical History of British India (MHBI) Data: 122297870\n",
      "  Tokens in MHBI Data: 28333479\n",
      "  Sentences in MHBI Data: 1671768\n",
      "  Files in MHBI Data: 468\n"
     ]
    }
   ],
   "source": [
    "def corpusStatistics(plaintext_corpus_read_lists):\n",
    "    total_chars = 0\n",
    "    total_tokens = 0\n",
    "    total_sents = 0\n",
    "    total_files = 0\n",
    "    for fileid in plaintext_corpus_read_lists.fileids():\n",
    "        total_chars += len(plaintext_corpus_read_lists.raw(fileid))\n",
    "        total_tokens += len(plaintext_corpus_read_lists.words(fileid))\n",
    "        total_sents += len(plaintext_corpus_read_lists.sents(fileid))\n",
    "        total_files += 1\n",
    "    print(\"Total...\")\n",
    "    print(\"  Characters in Medical History of British India (MHBI) Data:\", total_chars)\n",
    "    print(\"  Tokens in MHBI Data:\", total_tokens)\n",
    "    print(\"  Sentences in MHBI Data:\", total_sents)\n",
    "    print(\"  Files in MHBI Data:\", total_files)\n",
    "\n",
    "corpusStatistics(wordlists)"
   ]
  },
  {
   "cell_type": "markdown",
   "metadata": {},
   "source": [
    "Note that I've print ``Tokens`` rather than words, though the NLTK method used to count those was ``.words()``.  This is because words in NLTK include punctuation marks and digits, in addition to alphabetic words.\n",
    "\n",
    "The `fileids` are the names of the files in the data's source folder:"
   ]
  },
  {
   "cell_type": "code",
   "execution_count": 5,
   "metadata": {},
   "outputs": [
    {
     "data": {
      "text/plain": [
       "['74457530.txt', '74457800.txt', '74458285.txt']"
      ]
     },
     "execution_count": 5,
     "metadata": {},
     "output_type": "execute_result"
    }
   ],
   "source": [
    "fileids = list(wordlists.fileids())\n",
    "fileids[0:3]"
   ]
  },
  {
   "cell_type": "markdown",
   "metadata": {},
   "source": [
    "We can use the inventory CSV file from the source folder to match the titles of the papers to the corresponding `fileid`:"
   ]
  },
  {
   "cell_type": "code",
   "execution_count": 6,
   "metadata": {},
   "outputs": [
    {
     "data": {
      "text/html": [
       "<div>\n",
       "<style scoped>\n",
       "    .dataframe tbody tr th:only-of-type {\n",
       "        vertical-align: middle;\n",
       "    }\n",
       "\n",
       "    .dataframe tbody tr th {\n",
       "        vertical-align: top;\n",
       "    }\n",
       "\n",
       "    .dataframe thead th {\n",
       "        text-align: right;\n",
       "    }\n",
       "</style>\n",
       "<table border=\"1\" class=\"dataframe\">\n",
       "  <thead>\n",
       "    <tr style=\"text-align: right;\">\n",
       "      <th></th>\n",
       "      <th>fileid</th>\n",
       "      <th>title</th>\n",
       "    </tr>\n",
       "  </thead>\n",
       "  <tbody>\n",
       "    <tr>\n",
       "      <th>0</th>\n",
       "      <td>74457530.txt</td>\n",
       "      <td>Distribution and causation of leprosy in Briti...</td>\n",
       "    </tr>\n",
       "    <tr>\n",
       "      <th>1</th>\n",
       "      <td>74457800.txt</td>\n",
       "      <td>Report of an outbreak of cholera in Suhutwar, ...</td>\n",
       "    </tr>\n",
       "    <tr>\n",
       "      <th>2</th>\n",
       "      <td>74458285.txt</td>\n",
       "      <td>Report of an investigation into the causes of ...</td>\n",
       "    </tr>\n",
       "    <tr>\n",
       "      <th>3</th>\n",
       "      <td>74458388.txt</td>\n",
       "      <td>Account of plague administration in the Bombay...</td>\n",
       "    </tr>\n",
       "    <tr>\n",
       "      <th>4</th>\n",
       "      <td>74458575.txt</td>\n",
       "      <td>Inquiry into the circumstances attending an ou...</td>\n",
       "    </tr>\n",
       "  </tbody>\n",
       "</table>\n",
       "</div>"
      ],
      "text/plain": [
       "         fileid                                              title\n",
       "0  74457530.txt  Distribution and causation of leprosy in Briti...\n",
       "1  74457800.txt  Report of an outbreak of cholera in Suhutwar, ...\n",
       "2  74458285.txt  Report of an investigation into the causes of ...\n",
       "3  74458388.txt  Account of plague administration in the Bombay...\n",
       "4  74458575.txt  Inquiry into the circumstances attending an ou..."
      ]
     },
     "execution_count": 6,
     "metadata": {},
     "output_type": "execute_result"
    }
   ],
   "source": [
    "df = pd.read_csv('data/nls-text-indiaPapers/indiaPapers-inventory.csv', header=None, names=['fileid', 'title'])\n",
    "df.head()  # prints the first 5 rows (df.tail() prints the last 5 rows)"
   ]
  },
  {
   "cell_type": "markdown",
   "metadata": {},
   "source": [
    "We can also create a list of the titles from the dataframe column:"
   ]
  },
  {
   "cell_type": "code",
   "execution_count": 7,
   "metadata": {},
   "outputs": [
    {
     "data": {
      "text/plain": [
       "['Distribution and causation of leprosy in British India 1875 - IP/HA.2',\n",
       " 'Report of an outbreak of cholera in Suhutwar, Bulliah sub-division - IP/30/PI.2',\n",
       " 'Report of an investigation into the causes of the diseases known in Assam as Kála-Azár and Beri-Beri - IP/3/MB.5']"
      ]
     },
     "execution_count": 7,
     "metadata": {},
     "output_type": "execute_result"
    }
   ],
   "source": [
    "titles = list(df['title'])\n",
    "titles[0:3]   # Display the first three titles (from index 0 up to but not including index 3)"
   ]
  },
  {
   "cell_type": "markdown",
   "metadata": {},
   "source": [
    "Variables that store the characters, words, and sentences in our dataset will be useful for future analysis.  Let's create those now:"
   ]
  },
  {
   "cell_type": "code",
   "execution_count": 8,
   "metadata": {},
   "outputs": [],
   "source": [
    "def getCharsWordsSents(plaintext_corpus_read_lists, fileids):\n",
    "    all_chars = []\n",
    "    chars_by_file = dict.fromkeys(fileids)\n",
    "    all_words = []\n",
    "    words_by_file = dict.fromkeys(fileids)\n",
    "    all_words_lower = []\n",
    "    words_lower_by_file = dict.fromkeys(fileids)\n",
    "    all_sents = []\n",
    "    sents_by_file = dict.fromkeys(fileids)\n",
    "    for fileid in plaintext_corpus_read_lists.fileids():\n",
    "        \n",
    "        file_chars = plaintext_corpus_read_lists.raw(fileid)\n",
    "        all_chars += [str(char).lower() for char in file_chars]\n",
    "        chars_by_file[fileid] = all_chars\n",
    "        \n",
    "        file_words = plaintext_corpus_read_lists.words(fileid)\n",
    "        all_words_lower += [str(word).lower() for word in file_words if word.isalpha()]\n",
    "        words_lower_by_file[fileid] = all_words_lower\n",
    "        all_words += [str(word) for word in file_words  if word.isalpha()]\n",
    "        words_by_file[fileid] = all_words\n",
    "        \n",
    "        file_sents = sent_tokenize(plaintext_corpus_read_lists.raw(fileid))  #plaintext_corpus_read_lists.sents(fileid)\n",
    "        all_sents += [str(sent) for sent in file_sents]\n",
    "        sents_by_file[fileid] = all_sents\n",
    "        \n",
    "    return all_chars, chars_by_file, all_words, words_by_file, all_words_lower, words_lower_by_file, all_sents, sents_by_file\n",
    "        \n",
    "mhbi_chars, mhbi_file_chars, mhbi_words, mhbi_file_words, mhbi_words_lower, mhbi_file_lower_words, mhbi_sents, mhbi_file_sents = getCharsWordsSents(wordlists, fileids)"
   ]
  },
  {
   "cell_type": "markdown",
   "metadata": {},
   "source": [
    "To make sure the function worked as expected, we can run some quick tests with the output lists and dictionaries:"
   ]
  },
  {
   "cell_type": "code",
   "execution_count": 9,
   "metadata": {},
   "outputs": [
    {
     "name": "stdout",
     "output_type": "stream",
     "text": [
      "['n', 'o', '.', ' ', '1', '1', '1', '1', ' ', '(']\n",
      "['Government', 'of', 'India', 'No', 'dated', 'March', 'Letter', 'from', 'Government', 'of']\n",
      "['By Assistant Director of Public Health or District Health Officers.', 'By Inspectors of Vaccination or other Inspecting Officers.', 'By Assistant Director of Public Health or District Health Officers.', 'By Inspectors of Vaccination or other Inspecting Officers.', 'Primary.', 'Re- vaccina- tions.', 'Primary.', 'Re- vaccina- tions.', 'Primary.', 'Re- vaccina- tions.']\n"
     ]
    }
   ],
   "source": [
    "print(mhbi_file_chars[fileids[100]][:10])\n",
    "print(mhbi_file_words[fileids[355]][30:40])\n",
    "print(mhbi_file_sents[fileids[-1]][-20:-10])\n",
    "assert(len(mhbi_file_chars) == len(fileids))  # nothing prints if passes, error prints if doesn't pass"
   ]
  },
  {
   "cell_type": "code",
   "execution_count": 10,
   "metadata": {},
   "outputs": [
    {
     "name": "stdout",
     "output_type": "stream",
     "text": [
      "['n', 'o', '.', ' ', '1', '1', '1', '1', ' ', '(', 's', 'a', 'n', 'i', 't', 'a', 'r', 'y', ')', ',', ' ', 'd', 'a', 't', 'e', 'd', ' ', 'o', 'o', 't', 'a', 'c', 'a', 'm', 'u', 'n', 'd', ',', ' ', 't', 'h', 'e', ' ', '6', 't', 'h', ' ', 'o', 'c', 't', 'o', 'b', 'e', 'r', ' ', '1', '8', '7', '6', '.', ' ', 'f', 'r', 'o', 'm', '-', 't', 'h', 'e', ' ', 'h', 'o', 'n', 'o', 'u', 'r', 'a', 'b', 'l', 'e', ' ', 'w', '.', ' ', 'h', 'u', 'd', 'l', 'e', 's', 't', 'o', 'n', ',', ' ', 'c', 'h', 'i', 'e', 'f']\n",
      "['can', 'be', 'de', 'fined', 'as', 'the', 'special', 'home', 'of', 'leprosy', 'And', 'the', 'same', 'remark', 'holds', 'good', 'of', 'all', 'districts', 'It']\n",
      "['APPENDIX A.APPENDICES.', '43 APPENDIX B.44 APPENDICES.', 'APPENDIX B.APPENDICES.', '45 APPENDIX C.(46) APPENDIX D. GRAPHS SHOWING THE VACCINATIONS PERFORMED AND THE DEATHS FORM SMALL-POX IN BURMA (EXCLUDING BACKWARD TRACTS) SINCE THE YEAR 1922-23 [NLS note: a graphic appears here - see image of page] G.B.C.P.O.APPENDIX E. Diagram showing the Proportion of Population protected during the seven official years from 1926-27 to 1932-33 and the Death-rate from Smalt-pox during the year 1982 in districts where full registration is in force.', '[NLS note: a graphic appears here - see image of page] G.B.C.P.O.']\n"
     ]
    }
   ],
   "source": [
    "print(mhbi_chars[:100])\n",
    "print(mhbi_words[6100:6120])\n",
    "print(mhbi_sents[-5:])\n",
    "assert(len(mhbi_words_lower) == len(mhbi_words))  # nothing prints if passes, error prints if doesn't pass"
   ]
  },
  {
   "cell_type": "markdown",
   "metadata": {},
   "source": [
    "Looking good!\n",
    "\n",
    "### 1. Data Cleaning and Standardisation"
   ]
  },
  {
   "cell_type": "markdown",
   "metadata": {},
   "source": [
    "Since the OCR has already been manually cleaned, we'll focus this section on identifying the roots of words and the parts of speech in sentences, rather than getting a sense of how many mistakes were made in the OCR process.\n",
    "\n",
    "#### 1.1 Tokenisation\n",
    "\n",
    "First let's create lists of strings from the NLTK tokens that we can use in future analysis:"
   ]
  },
  {
   "cell_type": "code",
   "execution_count": 11,
   "metadata": {},
   "outputs": [
    {
     "name": "stdout",
     "output_type": "stream",
     "text": [
      "['No', '.', '1111', '(', 'Sanitary', '),', 'dated', 'Ootacamund', ',', 'the']\n",
      "['g', '.', 'b', '.', 'c', '.', 'p', '.', 'o', '.']\n",
      "[',', '424', '705', '491', '214', '8', '11', '5', 'surat', '607']\n",
      "['the', 'twenty', 'cases', 'mentioned', 'above', 'seventeen', 'are', 'said', 'to', 'have']\n"
     ]
    }
   ],
   "source": [
    "str_tokens = [str(word) for word in corpus_tokens]\n",
    "assert(type(str_tokens[0]) == str)  # quick test to make sure the output is as expected\n",
    "print(str_tokens[0:10])\n",
    "\n",
    "# Lowercase text\n",
    "lower_str_tokens = [t.lower() for t in str_tokens]\n",
    "print(lower_str_tokens[-10:])\n",
    "\n",
    "# Exclude stop words (i.e. the, a, is) - note that the input text must be lowercased!\n",
    "eng_stopwords = set(stopwords.words('english'))\n",
    "no_stopwords = [t for t in lower_str_tokens if not t in eng_stopwords]\n",
    "print(no_stopwords[500:510])\n",
    "assert(len(no_stopwords) < len(str_tokens))\n",
    "\n",
    "# Alphabetic tokens only (exclude digits and punctuation)\n",
    "alpha_tokens = [t for t in str_tokens if t.isalpha()]\n",
    "alpha_tokens_lower = [t for t in lower_str_tokens if t.isalpha()]\n",
    "print(alpha_tokens[1000:1010])\n",
    "assert(len(alpha_tokens_lower) == len(alpha_tokens))"
   ]
  },
  {
   "cell_type": "markdown",
   "metadata": {},
   "source": [
    "#### 1.2 Reducing Words to Root Forms\n",
    "Next, we'll **stem** the tokens, or reduce the tokens to their root.  NLTK has two types of stemmers that use different algorithms to determine what the root of a word is.  Here's a sample of what they look like."
   ]
  },
  {
   "cell_type": "markdown",
   "metadata": {},
   "source": [
    "<div class=\"alert alert-block alert-warning\">\n",
    "    <b>Note:</b> This code can take several minutes to run, so you may wish to choose only one stemmer, which is why one of the stemmers has been commented out. You can uncomment the code so that it runs by removing the '#' before each line (highlight all lines and then press CMD + /).\n",
    "</div>"
   ]
  },
  {
   "cell_type": "code",
   "execution_count": 12,
   "metadata": {},
   "outputs": [
    {
     "name": "stdout",
     "output_type": "stream",
     "text": [
      "['the', 'govern', 'of', 'india', 'that', 'ani', 'measur', 'of', 'segrag', 'and', 'medic', 'treatment', 'of', 'leper', 'throughout', 'the', 'countri', 'would', 'be', 'impractic', 'as', 'a', 'state', 'measur', 'but', 'i', 'do', 'hold', 'that', 'the', 'improv', 'of', 'the', 'hygien', 'condit', 'under', 'which', 'the', 'mass', 'of', 'the', 'peopl', 'live', 'is', 'the', 'onli', 'sure', 'method', 'of', 'stamp', 'out', 'leprosi', 'or', 'ani', 'similar', 'diseas', 'the', 'filth', 'with', 'which', 'all', 'the', 'villag', 'in', 'india', 'are', 'surround', 'is', 'quit', 'suffici', 'to', 'prevent', 'ani', 'hope', 'of', 'success', 'in', 'combat', 'the', 'diseas', 'which', 'it', 'is', 'not', 'difficult', 'to', 'forese', 'will', 'prevail', 'until', 'such', 'an', 'objection', 'state', 'of', 'matter', 'is', 'alter', 'with', 'these']\n"
     ]
    }
   ],
   "source": [
    "# Stem the text (reduce words to their root, whether or not the root is a word itself\n",
    "porter = nltk.PorterStemmer()\n",
    "porter_stemmed = [porter.stem(t) for t in alpha_tokens_lower]\n",
    "print(porter_stemmed[500:600])\n",
    "\n",
    "# lancaster = nltk.LancasterStemmer()\n",
    "# lancaster_stemmed = [lancaster.stem(t) for t in alpha_tokens_lower]\n",
    "# print(lancaster_stemmed[500:600])"
   ]
  },
  {
   "cell_type": "markdown",
   "metadata": {},
   "source": [
    "Another approach to reducing words to their root is to **lemmatise** tokens.  NLTK's WordNet Lemmatizer reduces a token to its root *only* if the reduction of the token results in a word that's recognised as an English word in WordNet.  Here's what that looks like:"
   ]
  },
  {
   "cell_type": "code",
   "execution_count": 13,
   "metadata": {},
   "outputs": [
    {
     "name": "stdout",
     "output_type": "stream",
     "text": [
      "['the', 'government', 'of', 'india', 'that', 'any', 'measure', 'of', 'segragation', 'and', 'medical', 'treatment', 'of', 'leper', 'throughout', 'the', 'country', 'would', 'be', 'impracticable', 'a', 'a', 'state', 'measure', 'but', 'i', 'do', 'hold', 'that', 'the', 'improvement', 'of', 'the', 'hygienic', 'condition', 'under', 'which', 'the', 'mass', 'of', 'the', 'people', 'live', 'is', 'the', 'only', 'sure', 'method', 'of', 'stamping', 'out', 'leprosy', 'or', 'any', 'similar', 'disease', 'the', 'filth', 'with', 'which', 'all', 'the', 'village', 'in', 'india', 'are', 'surrounded', 'is', 'quite', 'sufficient', 'to', 'prevent', 'any', 'hope', 'of', 'success', 'in', 'combating', 'the', 'disease', 'which', 'it', 'is', 'not', 'difficult', 'to', 'foresee', 'will', 'prevail', 'until', 'such', 'an', 'objectionable', 'state', 'of', 'matter', 'is', 'altered', 'with', 'these']\n"
     ]
    }
   ],
   "source": [
    "# Lemmatise the text (reduce words to their root ONLY if the root is considered a word in WordNet)\n",
    "wnl = nltk.WordNetLemmatizer()\n",
    "lemmatized = [wnl.lemmatize(t) for t in alpha_tokens_lower]  # only include alphabetic tokens\n",
    "print(lemmatized[500:600])"
   ]
  },
  {
   "cell_type": "markdown",
   "metadata": {},
   "source": [
    "#### 1.3 Part of Speech Tagging\n",
    "\n",
    "To study the linguistic style of text, analysing the **parts of speech** and their patterns in sentences can be useful.  NLTK has a method for tagging tokens with a part of speech in a sentence.  Let's do that too (note that this can take several minutes to run):"
   ]
  },
  {
   "cell_type": "code",
   "execution_count": 14,
   "metadata": {},
   "outputs": [
    {
     "name": "stdout",
     "output_type": "stream",
     "text": [
      "[[('No', 'DT'), ('.', '.')], [('1111', 'CD'), ('(', '('), ('Sanitary', 'NNP'), ('),', 'NNP'), ('dated', 'VBD'), ('Ootacamund', 'NNP'), (',', ','), ('the', 'DT'), ('6th', 'CD'), ('October', 'NNP'), ('1876', 'CD'), ('.', '.')], [('From', 'IN'), ('-', ':'), ('The', 'DT'), ('Honourable', 'JJ'), ('W', 'NNP'), ('.', '.'), ('HUDLESTON', 'NNP'), (',', ','), ('Chief', 'NNP'), ('Secretary', 'NNP'), ('to', 'TO'), ('the', 'DT'), ('Govern', 'NNP'), ('-', ':'), ('ment', 'NN'), ('of', 'IN'), ('Madras', 'NNP'), ('.', '.')], [('To', 'TO'), ('-', ':'), ('The', 'DT'), ('Offg', 'NNP'), ('.', '.')], [('Secretary', 'NNP'), ('to', 'TO'), ('the', 'DT'), ('Government', 'NNP'), ('of', 'IN'), ('India', 'NNP'), ('.', '.')], [('Resolution', 'NN'), ('of', 'IN'), ('Government', 'NNP'), ('of', 'IN'), ('India', 'NNP'), ('No', 'NNP'), ('.', '.')], [('1', 'CD'), ('-', ':'), ('137', 'CD'), (',', ','), ('dated', 'VBD'), ('5th', 'CD'), ('March', 'NNP'), ('1875', 'CD'), ('.', '.')], [('Letter', 'NN'), ('from', 'IN'), ('Government', 'NNP'), ('of', 'IN'), ('India', 'NNP'), ('No', 'NNP'), ('.', '.')], [('486', 'CD'), (',', ','), ('dated', 'VBD'), ('5th', 'CD'), ('September', 'NNP'), ('1876', 'CD'), ('.', '.')], [('Letter', 'NN'), ('to', 'TO'), ('Government', 'NNP'), ('of', 'IN'), ('India', 'NNP'), ('No', 'NNP'), ('.', '.')]]\n"
     ]
    }
   ],
   "source": [
    "# Tag parts of speech in sentences\n",
    "sentences = wordlists.sents()\n",
    "pos_tagged = [nltk.pos_tag(sent) for sent in sentences]\n",
    "print(pos_tagged[:10])"
   ]
  },
  {
   "cell_type": "markdown",
   "metadata": {},
   "source": [
    "NLTK uses abbreviations to identify parts of speech, such as:\n",
    "* `CD` = numeral, cardinal\n",
    "* `DT` = determiner\n",
    "* `JJ` = adjective\n",
    "* `NN` = singular noun\n",
    "* `RB` = adverb\n",
    "* `VB` = verb\n",
    "\n",
    "More abbreviations are explained [here](https://www.learntek.org/blog/categorizing-pos-tagging-nltk-python/) or can be queried with `nltk.help.upenn_tagset('TAG')` (replace `TAG` with the part-of-speech tag abbreviation of your choice)."
   ]
  },
  {
   "cell_type": "markdown",
   "metadata": {},
   "source": [
    "### 2. Summary Statistics"
   ]
  },
  {
   "cell_type": "markdown",
   "metadata": {},
   "source": [
    "#### 2.1 Frequencies and Sizes\n",
    "Now that we've created some different cuts of the MHBI dataset, let's start investigating the frequency of terms as they appear across the dataset.  One way to do so is with a **frequency distribution**, which is a line chart that shows how many times a token appears in the dataset.\n",
    "\n",
    "First let's visualise a frequency distribution for common alphabetical tokens in the dataset (tokens composed of letters, not punctuation or numbers) EXCEPT stop words (i.e. the, and, a):"
   ]
  },
  {
   "cell_type": "code",
   "execution_count": 15,
   "metadata": {},
   "outputs": [],
   "source": [
    "# Filter one-letter words, two-letter words, and  stop words out of the list of alphabetic tokens\n",
    "min_three_letters = [t for t in alpha_tokens_lower if len(t) > 2]\n",
    "to_exclude = list(set(stopwords.words('english'))) + [\"per\", \"two\", \"one\", \"also\"]\n",
    "filtered_tokens = [t for t in min_three_letters if not t in to_exclude]"
   ]
  },
  {
   "cell_type": "code",
   "execution_count": 16,
   "metadata": {},
   "outputs": [
    {
     "name": "stdout",
     "output_type": "stream",
     "text": [
      "Total tokens in filtered list: 8526376\n"
     ]
    }
   ],
   "source": [
    "# Calculate the frequency distribution for the filtered list of tokens\n",
    "fdist_ft = FreqDist(filtered_tokens)\n",
    "print(\"Total tokens in filtered list:\", fdist_ft.N())"
   ]
  },
  {
   "cell_type": "code",
   "execution_count": 27,
   "metadata": {},
   "outputs": [
    {
     "data": {
      "image/png": "[encoded data removed]",
      "text/plain": [
       "<Figure size 1008x576 with 1 Axes>"
      ]
     },
     "metadata": {
      "needs_background": "light"
     },
     "output_type": "display_data"
    },
    {
     "data": {
      "text/plain": [
       "<matplotlib.axes._subplots.AxesSubplot at 0x65c56c128>"
      ]
     },
     "execution_count": 27,
     "metadata": {},
     "output_type": "execute_result"
    }
   ],
   "source": [
    "# Visualise the frequency distribution for a select number of tokens\n",
    "plt.figure(figsize = (14, 8))                # customise the width and height of the plot\n",
    "plt.rc('font', size=12)                       # customise the font size of the title, axes names, and axes labels\n",
    "fdist_ft.plot(20, title='Frequency Distribution of the 20 Most Common Words in the Medical History of British India Dataset (excluding stop words, 2-letter and 3-letter words)')"
   ]
  },
  {
   "cell_type": "markdown",
   "metadata": {},
   "source": [
    "The medical focus is clear from the top 20 words in the MHBI papers, which includes `cases`, `hospital`, `disease`, `veterinary`, `vaccination`, and `plague`.  Also, the frequency distribution suggests the people writing the papers made an effort to summarise what was going on, since the top three tokens, by far, are `total`, `year`, and `number` (perhaps summarising `cases` by `district`?)."
   ]
  },
  {
   "cell_type": "markdown",
   "metadata": {},
   "source": [
    "Let's create a frequency distribution for *stemmed* words to see if differences arise in the distributions:"
   ]
  },
  {
   "cell_type": "code",
   "execution_count": 28,
   "metadata": {},
   "outputs": [
    {
     "name": "stdout",
     "output_type": "stream",
     "text": [
      "Total tokens in filtered list: 8720609\n"
     ]
    },
    {
     "data": {
      "image/png": "[encoded data removed]",
      "text/plain": [
       "<Figure size 1008x576 with 1 Axes>"
      ]
     },
     "metadata": {
      "needs_background": "light"
     },
     "output_type": "display_data"
    },
    {
     "data": {
      "text/plain": [
       "<matplotlib.axes._subplots.AxesSubplot at 0x653df8d68>"
      ]
     },
     "execution_count": 28,
     "metadata": {},
     "output_type": "execute_result"
    }
   ],
   "source": [
    "# Filter one-letter words, two-letter words, and  stop words out of the list of porter-stemmed tokens\n",
    "min_three_letters = [s for s in porter_stemmed if len(s) > 2]\n",
    "to_exclude = list(set(stopwords.words('english'))) + [\"per\", \"two\", \"one\", \"also\"]\n",
    "filtered_pstems = [s for s in min_three_letters if not s in to_exclude]\n",
    "# Calculate the frequency distribution for the filtered list of tokens\n",
    "fdist_ps = FreqDist(filtered_pstems)\n",
    "print(\"Total tokens in filtered list:\", fdist_ps.N())\n",
    "# Visualise the frequency distribution for a select number of tokens\n",
    "plt.figure(figsize = (14, 8))                # customise the width and height of the plot\n",
    "plt.rc('font', size=12)                       # customise the font size of the title, axes names, and axes labels\n",
    "fdist_ps.plot(20, title='Frequency Distribution of the 20 Most Common Porter-Stemmed Tokens in the Medical History of British India Dataset (excluding stop words)')"
   ]
  },
  {
   "cell_type": "markdown",
   "metadata": {},
   "source": [
    "The slope of the frequency distribution line isn't quite so steep when we look at word stems (using the Porter Stemmer, in this case).  This gives us a better sense of how often a topic appears, such as anything to do with vaccines, rather than a specific form of a word, such as vaccination.  The stem `vaccin` occurs with much higher frequency (about 60,000 times) than in the previous two charts (which record its frequency of occurrences at about 25,000 and 30,000 times).  What other differences can you spot?"
   ]
  },
  {
   "cell_type": "markdown",
   "metadata": {},
   "source": [
    "#### 2.2 Uniqueness and Variety"
   ]
  },
  {
   "cell_type": "markdown",
   "metadata": {},
   "source": [
    "Another way to summarise the MHBI dataset is to look at the uniqueness and variety of word usage.  We can obtain the **vocabulary** of the text by creating a set of unique words (alphabetic tokens) that occur in the dataset, as well as creating a set of unique *lemmatised* words that occur in the dataset."
   ]
  },
  {
   "cell_type": "code",
   "execution_count": null,
   "metadata": {},
   "outputs": [],
   "source": [
    "# Remove duplicate words from the text (obtain the vocabulary of the text)\n",
    "t_vocab = set(alpha_tokens)\n",
    "t_vocab_lower = set(alpha_tokens_lower)\n",
    "lemma_vocab = set(lemmatised)\n",
    "print(\"Unique tokens:\", len(t_vocab))\n",
    "print(\"Unique lowercase tokens:\", len(t_vocab_lower))\n",
    "print(\"Unique lemmatised (lowercase) tokens:\", len(lemma_vocab))"
   ]
  },
  {
   "cell_type": "markdown",
   "metadata": {},
   "source": [
    "We can create a data visualisation that illustrates when specific words are used within the MHBI dataset.  This is called a **Lexical Dispersion Plot**.  We'll pick some terms (the list of `targets`) from the list of the most common 20 words in the dataset:"
   ]
  },
  {
   "cell_type": "code",
   "execution_count": 29,
   "metadata": {},
   "outputs": [
    {
     "data": {
      "text/plain": [
       "[('total', 94009),\n",
       " ('year', 82764),\n",
       " ('number', 63297),\n",
       " ('cases', 39875),\n",
       " ('district', 30462),\n",
       " ('may', 30145),\n",
       " ('report', 29538),\n",
       " ('hospital', 28273),\n",
       " ('government', 26231),\n",
       " ('disease', 25705),\n",
       " ('veterinary', 25575),\n",
       " ('average', 25560),\n",
       " ('years', 24749),\n",
       " ('vaccination', 24190),\n",
       " ('plague', 23489),\n",
       " ('table', 21813),\n",
       " ('males', 21500),\n",
       " ('females', 21153),\n",
       " ('statement', 20794),\n",
       " ('work', 20452)]"
      ]
     },
     "execution_count": 29,
     "metadata": {},
     "output_type": "execute_result"
    }
   ],
   "source": [
    "fdist_ft.most_common(20)"
   ]
  },
  {
   "cell_type": "code",
   "execution_count": 31,
   "metadata": {},
   "outputs": [
    {
     "data": {
      "image/png": "[encoded data removed]",
      "text/plain": [
       "<Figure size 1296x720 with 1 Axes>"
      ]
     },
     "metadata": {
      "needs_background": "light"
     },
     "output_type": "display_data"
    }
   ],
   "source": [
    "corpus_text = Text(filtered_tokens)\n",
    "targets = ['cases', 'report', 'hospital', 'veterinary', 'vaccination', 'plague']\n",
    "plt.figure(figsize=(18,10))\n",
    "plt.rc('font', size=12)\n",
    "displt(corpus_text, targets, ignore_case=True, title='Lexical Dispersion Plot of Select Terms from the MHBI Dataset')"
   ]
  },
  {
   "cell_type": "markdown",
   "metadata": {},
   "source": [
    "### 3. Exploratory Analysis\n",
    "\n",
    "Let's determine the top 20 most common words for each paper (file) in the MHBI dataset:"
   ]
  },
  {
   "cell_type": "code",
   "execution_count": 41,
   "metadata": {},
   "outputs": [],
   "source": [
    "fileids = list(df['fileid'])\n",
    "id_to_title = dict(zip(fileids,titles))"
   ]
  },
  {
   "cell_type": "code",
   "execution_count": 42,
   "metadata": {},
   "outputs": [
    {
     "name": "stdout",
     "output_type": "stream",
     "text": [
      "465\n"
     ]
    }
   ],
   "source": [
    "common_words = {}\n",
    "for file in fileids:\n",
    "    tokens = wordlists.words(file)\n",
    "\n",
    "    # Filter non-alphabetic words and stop words out of the list of tokens\n",
    "    tokens_lower = [t.lower() for t in tokens if t.isalpha()]\n",
    "    to_exclude = list(set(stopwords.words('english'))) + [\"per\", \"two\", \"one\", \"also\"]\n",
    "    filtered_tokens = [t for t in tokens_lower if not t in to_exclude]\n",
    "    \n",
    "    fdist = FreqDist(filtered_tokens)\n",
    "    \n",
    "    title = id_to_title[file]\n",
    "    words = list(fdist.most_common(20))\n",
    "    common_words[title] = words\n",
    "\n",
    "print(len(common_words))"
   ]
  },
  {
   "cell_type": "markdown",
   "metadata": {},
   "source": [
    "Now you can use the title of a paper to find the 20 most common words in that paper:"
   ]
  },
  {
   "cell_type": "code",
   "execution_count": 62,
   "metadata": {},
   "outputs": [
    {
     "name": "stdout",
     "output_type": "stream",
     "text": [
      "[('microbe', 26), ('mr', 15), ('hankin', 14), ('plague', 14), ('bubo', 14), ('h', 13), ('found', 12), ('action', 10), ('l', 9), ('acid', 8), ('infection', 7), ('infected', 7), ('days', 7), ('e', 7), ('rt', 7), ('pneumonia', 7), ('water', 6), ('rec', 6), ('fem', 6), ('b', 6)]\n"
     ]
    }
   ],
   "source": [
    "paper = id_to_tile[fileids[10]]\n",
    "print(common_words[paper])"
   ]
  },
  {
   "cell_type": "markdown",
   "metadata": {},
   "source": [
    "<div class='alert alert-block alert-info'>\n",
    "    <b>Try It!</b> Inspired by questions from MHBI's curator, the questions below offer starting points for topics you could consider exploring in the MHBI dataset!\n",
    "</div>"
   ]
  },
  {
   "cell_type": "markdown",
   "metadata": {},
   "source": [
    "#### 3.1 Which publications are about cholera?  Leprosy?  Malaria?  Plague?  Laboratory medicine?"
   ]
  },
  {
   "cell_type": "code",
   "execution_count": 66,
   "metadata": {},
   "outputs": [
    {
     "name": "stdout",
     "output_type": "stream",
     "text": [
      "Displaying 25 of 8913 matches:\n",
      "son who died at 5 years of age from cholera . Ansthetic leprosy of 15 years ' s\n",
      "f the squamous Goitre rarely seen , cholera variety are very common . breaks ou\n",
      "reaks out in epidemics , Goitre and cholera are endemic . but does not exist th\n",
      " the same sense as typhoid fever or cholera is contagious , though not to the s\n",
      "use 40 1 Police 454 1 Four outlying cholera - infected villages were recently v\n",
      "disease . Father and mother died of cholera . Is living with an uncle . Has no \n",
      "e , reporting a serious outbreak of cholera in the town of Suhutwar , in the Bu\n",
      "fect that 300 persons had died from cholera at this place , but in a subsequent\n",
      " 5 . Placed in this position , with cholera \" raging furiously , \" the Magistra\n",
      "rules in those vil - lages in which cholera may become epidemic .\" 6 . In his c\n",
      "rn - ment whether , in the event of cholera continuing to prevail at Suhutwar ,\n",
      "asonably hope that before that time cholera will have dis - appeared . Should i\n",
      "eceived a report to the effect that cholera was very prevalent at Mouzah Suhutw\n",
      " effect that 300 people had died of cholera . Imme - diately on the report bein\n",
      "roceed at once to Suhutwar , taking cholera pills with them ; that the former w\n",
      "ort the exact number of deaths from cholera that had occuried on each several d\n",
      "not , then , to be wondered at that cholera should become epidemic in such a vi\n",
      "ne rules in those villages in which cholera may become epidemic , so that the s\n",
      " . It is impossible to say how long cholera may continue in Suhutwar , but it i\n",
      "ideration whether , in the event of cholera still being at Suhutwar at the time\n",
      "Sd .) G . B . PASLEY , Magistrate . Cholera Statement of Suhutwar from the 6th \n",
      "e one Sahib Dhoonia was attacked by cholera , and he returned to Suhutwar on th\n",
      "o , reporting a serious outbreak of cholera in the town of Suhutwar , in the Bu\n",
      ", intimating that the prevalence of cholera has subsided to a great extent in M\n",
      "o inform you that the prevalence of cholera has subsided to a great extent in S\n"
     ]
    }
   ],
   "source": [
    "t.concordance(\"cholera\")"
   ]
  },
  {
   "cell_type": "markdown",
   "metadata": {},
   "source": [
    "#### 3.2 How does the language around the people of India change over time?\n",
    "\n",
    "Consider comparing papers from before and after the 1857 rebellion when British East India Company rule in India was taken over by the British Crown.  How does the word choice and sentiment of the language differ before and after?"
   ]
  },
  {
   "cell_type": "code",
   "execution_count": 65,
   "metadata": {},
   "outputs": [
    {
     "name": "stdout",
     "output_type": "stream",
     "text": [
      "Displaying 25 of 12589 matches:\n",
      " suffered from this disease , was a native of the territory beyond the Hubb . \n",
      "ourhood . NEEMUCH . 24th Regiment , Native Infantry , no leprosy . 3rd Queen '\n",
      "es reported from Meerut is one of a Native Chris - tian employed in the Missio\n",
      " he had continued to cohabit with a Native woman after she had been attacked w\n",
      "was only visited rarely by the Jail Native Doctor , to whom an allowance of Rs\n",
      "The patient was 25 years of age , a native of Lucknow , and a pilgrim from Jug\n",
      "ase No . II .- Ukul , a Mussalman , native of Hazaribagh , aged thirteen years\n",
      "III .- Kally Dass , aged twenty , a native of Lucknow and a pilgrim , admitted\n",
      "emale , married , aged 30 years , a native of Gya , admitted as an out - patie\n",
      " V .- Ahmed Ali , aged 35 years , a native of Hazaribagh , admitted as an out \n",
      "ted with mercury by kobirajes . The Native Doctor in charge of the Ghattal Dis\n",
      " 1877 . From - Babu RAJCUMAR Doss , Native Doctor in charge of Ghattal Dis - p\n",
      "ous administration of mercurials by Native quacks . In secondary cases it has \n",
      "1877 . From - Babu SITANATH GUPTO , Native Doctor . To - The Civil Surgeon of \n",
      "s healed with the local use of some Native oil , but the ansthesia still exist\n",
      "om - Babu MODHOO MADHUB MOOKERJEE , Native Doctor , Charitable Dispensary , Co\n",
      "y 1877 . From - Babu HARADHON NAG , Native Doctor . To - The Civil Surgeon of \n",
      " From - Babu PROSUNNO COOMAR SEIN , Native Doctor . To - The Civil Surgeon of \n",
      " by day . KESHUB CHUNDRA MUKERJEE , Native Doctor in charge of Golegram Charit\n",
      "77 . From - Babu KEDARNATH PANDAY , Native Doctor . To - The Civil Surgeon of \n",
      "the disease was arrested . He was a native of this district , had never been o\n",
      "ss . Birth - place and residence .- Native of Moorshedabad one , of Bhagalpur \n",
      "e in one case . Medicaments .- Both Native and European medicines were taken i\n",
      "and wild herbs in a few . Among the Native remedies valued are strychnia , ble\n",
      " pork - eater also ; Mowlabuksh , a native of Tirhoot , of murwah bread ; Budh\n"
     ]
    }
   ],
   "source": [
    "t.concordance(\"Native\")"
   ]
  },
  {
   "cell_type": "markdown",
   "metadata": {},
   "source": [
    "#### 3.3 How does the language around mental hospitals change over time?"
   ]
  },
  {
   "cell_type": "code",
   "execution_count": 43,
   "metadata": {},
   "outputs": [
    {
     "name": "stdout",
     "output_type": "stream",
     "text": [
      "Displaying 25 of 8704 matches:\n",
      "f charas or ganja per diem became a lunatic ; he was harmless and has disappear\n",
      "was in medical charge of the Madras Lunatic Asylum for five years , and during \n",
      "rience as medical officer of Colaba Lunatic Asylum , I can say that I have seen\n",
      "intendent of the Madras and Waltair Lunatic Asylums for a lengthened period , I\n",
      "lent , and was ultimately sent to a lunatic asylum . He had previously shown sy\n",
      "ts consumers are in the end sent to lunatic asylums . When a consumer has no mo\n",
      "d the next - door neighbours of the lunatic , agree in saying that Salik Patick\n",
      "adh , the chaukidar who brought the lunatic to the authorities , is responsible\n",
      "cause , and the state - ment of the lunatic , which gives ganja as the drug he \n",
      " . The only witness examined is the lunatic ' s brother , he , Maghan Gir , bei\n",
      "EMP DRUG CASES OF 1892 . 47 , DACCA LUNATIC ASYLUM . ( SUPERINTENDENT , DR . CO\n",
      "strict , age and register number of lunatic . Alleged cause of insanity . ( Sta\n",
      " HEMP DRUGS ADMITTED INTO THE DACCA LUNATIC ASYLUM DURING 1892 . ( Submitted by\n",
      "ssell , Superintendent of the Dacca Lunatic Asylum , submitting further informa\n",
      "ON , 1893 - 94 . [ APP . BERHAMPORE LUNATIC ASYLUM ( BENGAL ). ( SUPERINTENDENT\n",
      "rict , age , and register number of lunatic . Alleged cause of insanity . ( Sta\n",
      " cases admitted into the Berhampore Lunatic Asylum during the year 1892 . 1 2 3\n",
      " cases admitted into the Berhampore Lunatic Asylum during the year 1892 . 1 2 3\n",
      " cases admitted into the Berhampore Lunatic Asylum during the year 1892 . 1 2 3\n",
      "cause of insanity of one Hari Das , lunatic , I have the honour to submit the f\n",
      "nt for the relatives of the alleged lunatic at first , but it was reported that\n",
      "nd reliable . 3 . They say that the lunatic Hari Das was formerly called Dhamri\n",
      "ut 15 years ago and was sent to the lunatic asylum by name of Damri . He return\n",
      " a day , but on his return from the lunatic asylum he began to smoke twice a da\n",
      "They further state that the alleged lunatic Hari Das was not insane in reality \n"
     ]
    }
   ],
   "source": [
    "t.concordance(\"lunatic\")"
   ]
  },
  {
   "cell_type": "code",
   "execution_count": 44,
   "metadata": {},
   "outputs": [
    {
     "name": "stdout",
     "output_type": "stream",
     "text": [
      "Displaying 25 of 5384 matches:\n",
      "onkeys that I obtained for experi - mental purposes , five months ago , positi\n",
      "th seriously affected by the severe mental and physical strain to which it had\n",
      "ent , and this is followed by utter mental depression , and they are also subj\n",
      "ak in the station . He thought that mental dejection had something to say to t\n",
      "ium . In cases marked by stupor the mental faculties appeared to be paralysed \n",
      " a rule their muscular strength and mental energy ; and buboes are very rarely\n",
      "rmal temperature , and considerable mental excitement ; or in a later stage dr\n",
      " tenderness is present . Cerebral , mental , vaso - motor and nutritive functi\n",
      " the drug by persons suffering from mental anxiety or brain disease to obtain \n",
      "No . 1 . 20 . Total strength2 Yes . Mental anxiety or brain disease has been s\n",
      " smoking produces irritation of the mental power to those who do not take nour\n",
      "nsanity , but it rather excites the mental power by its long - standing use . \n",
      "hitis , men - tal deterioration and mental irritability . Bhang ( which is use\n",
      "ng time , and produces physical and mental weakness . Yes ; man loses flesh an\n",
      "erive temporary relief owing to the mental faculties being stupefied . 42 . Th\n",
      "ation , perhaps , at first to allay mental anxiety ; some - times as an aphrod\n",
      "ere - from is said to be physical , mental and moral . 43 . I have no personal\n",
      "noxious effects , both physical and mental ; but I have not observed any noxio\n",
      "nder men less irritable , acts as a mental and physical stimulant and refreshe\n",
      " noxious effect , either physical , mental , or moral . Stated not to impair c\n",
      "many years it appears to impair the mental , physical and moral powers . Prolo\n",
      "o relieve persons suffer - ing from mental worry and anxiety . I have not been\n",
      "ese drugs will produce bad physical mental and moral effects . Bhang seems to \n",
      "se . Because it causes physical and mental debility . No worship of hemp plant\n",
      "s asthma , bronchitis , emphysema , mental decay and moral aberration . It oft\n"
     ]
    }
   ],
   "source": [
    "t.concordance(\"mental\")"
   ]
  },
  {
   "cell_type": "markdown",
   "metadata": {},
   "source": [
    "#### 3.4 How are women portrayed?\n",
    "\n",
    "Consider lock(ed) hospitals and escapes from them, and prostitution permitted in army barracks."
   ]
  },
  {
   "cell_type": "code",
   "execution_count": 51,
   "metadata": {},
   "outputs": [
    {
     "name": "stdout",
     "output_type": "stream",
     "text": [
      "Displaying 25 of 4232 matches:\n",
      "much more prevalent amongst men than women . The census statement is 8 , 160 ma\n",
      "g 68 28 Lawyers , clerks , brokers 7 women or children ). 29 Dyers 5 6 Beggars \n",
      "irly numerous , and at which men and women are often fertile in this country , \n",
      "ecially of men as distinguished from women . A disease not peculiar to persons \n",
      "ectation of help from relations than women ) have fallen into misery and povert\n",
      ", fell in love with one of the leper women and kept company with her for some t\n",
      "mong men and boys than it does among women and girls ; the proportion of the ma\n",
      "e seen more lepers among men than in women , and more among Muhammadans than am\n",
      "t out . Then again a large number of women afflicted with the disease eluded th\n",
      "curately ascertain the proportion of women thus left out , as I am certain the \n",
      "m certain the cases of young married women were not shown me by the people . If\n",
      "epers I have taken notes of 125 were women . I assume , then , from the census \n",
      "servants 3 Indefinite occupation and women depending entirely on others 18 Tota\n",
      "ate of the number of confirmed leper women . Estimated number of confirmed lepe\n",
      "much more prevalent amongst men than women . I have not seen any children the s\n",
      "onceal leprosy more especially among women leading to understatement of the num\n",
      " more frequently seen among men than women . Thus of 59 cases seen by Surgeon Z\n",
      "isease is more common among men than women , and that the ansthetic form of it \n",
      "ans than Hindus ; amongst men , than women and children ; and amongst the poor \n",
      "e never contracted the disease , and women have lived in cohabitation with thei\n",
      "te people are more liable to it than women and high caste persons . The prevail\n",
      "castes ( Hindus ), 24 are men and 18 women , 25 are married and 17 single : of \n",
      "ual in kla - azr , and that when the women get , kla - azr their menses cease .\n",
      " to the Indian habit , but old men , women , and children , and especially the \n",
      " similar habit is common in pregnant women , and here can only be owing to a so\n"
     ]
    }
   ],
   "source": [
    "t.concordance(\"women\")"
   ]
  },
  {
   "cell_type": "code",
   "execution_count": 64,
   "metadata": {},
   "outputs": [
    {
     "name": "stdout",
     "output_type": "stream",
     "text": [
      "Displaying 25 of 2289 matches:\n",
      " Hospital Assistant in charge of the lock hospital was appointed to take medic\n",
      "ar the balance of ganja under double lock is verified by the tahsildar by actu\n",
      "epared to say that Government should lock up all lunatics . I have seen the pa\n",
      "parties , If a room was locked , the lock was opened by the locksmith , a Poli\n",
      "rt . There it is placed under double lock , one being in the possession of the\n",
      "t he should also be in charge of the Lock Hospital . One of his chief duties w\n",
      "ooden box for inoculation kit , with lock 1 Contents of box . 1 Inoculation sy\n",
      "asy chairs , 1 meatsafe , 1 box with lock and key for stores , 1 table lamp , \n",
      "or drugs and appliances , 1 box with lock and key for poisons , 1 dispensing t\n",
      " friends have even gone so far as to lock their sick up in large wooden chests\n",
      "ndicated . Like opium , they tend to lock up secretions , on the restoration o\n",
      "very first act would be to carefully lock up all brandy , wine , and similar s\n",
      "re 1 2 3 Sappers to each Division to lock up doors . C \" DeBerry 1 2 2 Native \n",
      "t stations of destination . ( 8 ) To lock the carriages before the arrival of \n",
      "own at Raipur , and it is kept under lock and key in the treasury room under c\n",
      "t must be stored and preserved under lock and key of Abkari or Revenue officer\n",
      "rt . There it is placed under double lock , one being in the possession of the\n",
      "Municipal Police Hospital , Calcutta Lock Hospitals . I HAVE the honor to pres\n",
      "d made over to the Superintendent of Lock Hospitals . There is no reason to do\n",
      "place since the establishment of the Lock Hospital , has been brought to light\n",
      " State of the hos - pital . CALCUTTA LOCK HOSPITALS . 39 . IN accordance with \n",
      "t on the medical transactions of the Lock Hospitals under his superintendence \n",
      "A MEDICAL INSTITUTIONS . Cost of the Lock Hospitals . 41 . It is satisfactory \n",
      "lice Hospital , 2nd March . Calcutta Lock Hospitals , 19th April . 42 . I have\n",
      "s pregnant . She aborted and died of lock - jaw . One was discharged for habit\n"
     ]
    }
   ],
   "source": [
    "t.concordance(\"lock\")"
   ]
  },
  {
   "cell_type": "code",
   "execution_count": null,
   "metadata": {},
   "outputs": [],
   "source": []
  },
  {
   "cell_type": "markdown",
   "metadata": {},
   "source": [
    "#### 3.5 What is the rhetoric around vaccinations and, more generally, public health?"
   ]
  },
  {
   "cell_type": "code",
   "execution_count": 54,
   "metadata": {},
   "outputs": [
    {
     "name": "stdout",
     "output_type": "stream",
     "text": [
      "Displaying 25 of 24190 matches:\n",
      " Inoculation or by cohabitation . Vaccination . Attributable to syphilis and us\n",
      " Inoculation or by cohabitation . Vaccination . Attributable to syphilis and us\n",
      "e course of his frequent tours on vaccination work he has met with very few suf\n",
      "for instance by inoculation or by vaccination ; that it is curable in slight ca\n",
      "estion 45 . 315 Superintendent of Vaccination , Eastern Bengal Circle ; Deputy \n",
      "oncld . Leprosy not maintained by vaccination - Lepers never assign this as the\n",
      "g transmitted by vaccina - tion - Vaccination returns - Vaccination becoming mo\n",
      "na - tion - Vaccination returns - Vaccination becoming more popular and leprosy\n",
      "- Between man and wife - Tables - Vaccination - Experiments by Commission - Spr\n",
      "it was practised in preference to vaccination . Inoculation for small - pox in \n",
      "all , or 2 . 0 to each marriage . Vaccination undergone by . . . . 7 Inoculatio\n",
      "surroundings . ( 45 ) Leprosy and Vaccination , by W . \\ ill \\. ( 46 ) Op . cit\n",
      "om outlying regions . Leprosy and Vaccination . It has been maintained that \" t\n",
      "d of leprosy and the extension of vaccination has 128 REPORT OF THE LEPROSY COM\n",
      "me districts , to such a dread of vaccination that every device is resorted to \n",
      "observed , and as time wears on , vaccination becomes more and more readily acc\n",
      "ingle instance did a leper accuse vaccination as the cause of his misfortune , \n",
      "ferred on him and his children by vaccination . Such statements as those quoted\n",
      "e . ( 47 ) W . Tebb , Leprosy and Vaccination , page 13 . Distribution of Lepro\n",
      "rves fuller consideration . Since vaccination is said to diffuse leprosy in Ind\n",
      "spreading the disease by means of vaccination , as though the method of protect\n",
      "tion were uniform , and as though vaccination were ex - clusively practised fro\n",
      "n this manner , it can only be by vaccination with human lymph or through the u\n",
      " as possible a complete system of vaccination involving the use of animal vacci\n",
      "purely human diseases by means of vaccination allowance must be made for the fa\n"
     ]
    }
   ],
   "source": [
    "t.concordance(\"vaccination\")"
   ]
  },
  {
   "cell_type": "code",
   "execution_count": null,
   "metadata": {},
   "outputs": [],
   "source": []
  }
 ],
 "metadata": {
  "kernelspec": {
   "display_name": "Python 3",
   "language": "python",
   "name": "python3"
  },
  "language_info": {
   "codemirror_mode": {
    "name": "ipython",
    "version": 3
   },
   "file_extension": ".py",
   "mimetype": "text/x-python",
   "name": "python",
   "nbconvert_exporter": "python",
   "pygments_lexer": "ipython3",
   "version": "3.6.3"
  }
 },
 "nbformat": 4,
 "nbformat_minor": 4
}
