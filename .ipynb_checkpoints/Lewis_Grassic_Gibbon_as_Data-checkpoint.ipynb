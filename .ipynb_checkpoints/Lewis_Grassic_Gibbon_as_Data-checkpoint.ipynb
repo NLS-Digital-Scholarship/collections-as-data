{
 "cells": [
  {
   "cell_type": "markdown",
   "metadata": {},
   "source": [
    "# Exploring Lewis Grassic Gibbon First Editions\n",
    "Created August-September 2020 for the National Library of Scotland's Data Foundry by Lucy Havens, Digital Library Research Intern"
   ]
  },
  {
   "cell_type": "markdown",
   "metadata": {},
   "source": [
    "### About the Lewis Grassic Gibbon First Editions Dataset\n",
    "Lewis Grassic Gibbon is an early 20th century Scottish novelist who also published under his birth name, James Leslie Mitchell.  He was an  prolific writer for the short period of time (5 years) that he published fiction and non-fiction, and the NLS collection contains first editions of all his published books.  Gibbon's stories often featured strong central female characters, unusual for an early 20th century writer.  Gibbon's literary influence continues to be felt today: his book A Sunset Song was voted Scotland's favorite novel in 2016, and contemporary Scottish writers such as Ali Smith and E.L. Kennedy have noted Gibbon's influence on their own writing.\n",
    "\n",
    "* Data format: digitised text\n",
    "* Data creation process: Optical Character Recognition (OCR)\n",
    "* Data source: https://data.nls.uk/data/digitised-collections/lewis-grassic-gibbon-first-editions/\n",
    "***\n",
    "### Table of Contents\n",
    "0. [Preparation](#0.-Preparation)\n",
    "1. [Data Cleaning and Standardisation](#1.-Data-Cleaning-and-Standardisation)\n",
    "2. [Summary Statistics](#2.-Summary-Statistics)\n",
    "3. [Exploratory Analysis](#3.-Exploratory-Analysis)\n",
    "***"
   ]
  },
  {
   "cell_type": "markdown",
   "metadata": {},
   "source": [
    "### 0. Preparation\n",
    "Import libraries to use for cleaning, summarising and exploring the data:"
   ]
  },
  {
   "cell_type": "code",
   "execution_count": 2,
   "metadata": {},
   "outputs": [
    {
     "name": "stderr",
     "output_type": "stream",
     "text": [
      "[nltk_data] Downloading package punkt to /Users/lucy/nltk_data...\n",
      "[nltk_data]   Package punkt is already up-to-date!\n",
      "[nltk_data] Downloading package wordnet to /Users/lucy/nltk_data...\n",
      "[nltk_data]   Package wordnet is already up-to-date!\n",
      "[nltk_data] Downloading package averaged_perceptron_tagger to\n",
      "[nltk_data]     /Users/lucy/nltk_data...\n",
      "[nltk_data]   Package averaged_perceptron_tagger is already up-to-\n",
      "[nltk_data]       date!\n",
      "[nltk_data] Downloading package tagsets to /Users/lucy/nltk_data...\n",
      "[nltk_data]   Package tagsets is already up-to-date!\n"
     ]
    }
   ],
   "source": [
    "# To prevent SSL certificate failure\n",
    "import os, ssl\n",
    "if (not os.environ.get('PYTHONHTTPSVERIFY', '') and\n",
    "    getattr(ssl, '_create_unverified_context', None)):\n",
    "    ssl._create_default_https_context = ssl._create_unverified_context\n",
    "\n",
    "# Libraries for data loading\n",
    "import pandas as pd\n",
    "import numpy as np\n",
    "import string\n",
    "import re\n",
    "from collections import defaultdict\n",
    "\n",
    "# Libraries for visualization\n",
    "import altair as alt\n",
    "import matplotlib.pyplot as plt\n",
    "\n",
    "# Libraries for text analysis\n",
    "import nltk\n",
    "from nltk.tokenize import word_tokenize, sent_tokenize\n",
    "nltk.download('punkt')\n",
    "from nltk.corpus import PlaintextCorpusReader\n",
    "nltk.download('wordnet')\n",
    "from nltk.corpus import wordnet\n",
    "from nltk.corpus import stopwords\n",
    "from nltk.text import Text\n",
    "from nltk.stem.porter import PorterStemmer\n",
    "from nltk.probability import FreqDist\n",
    "nltk.download('averaged_perceptron_tagger')\n",
    "from nltk.tag import pos_tag\n",
    "nltk.download('tagsets')  # part of speech tags\n",
    "from nltk.draw.dispersion import dispersion_plot as displt"
   ]
  },
  {
   "cell_type": "markdown",
   "metadata": {},
   "source": [
    "To explore the text in the Lewis Grassic Gibbon First Editions collection, we'll mainly use the **Natural Language Toolkit (NLTK)**, a library written for the programming language Python.\n",
    "\n",
    "The nls-text-gibbon folder (downloadable as *Just the text* data from the website at the top of this notebook) contains TXT files of digitised text, with numerical names, as well as a CSV inventory file and a TXT ReadMe file.  Load only the TXT files of digitised text and **tokenise** the text (which splits the text into a list of its individual words and punctuation in the order they appear):"
   ]
  },
  {
   "cell_type": "code",
   "execution_count": 3,
   "metadata": {},
   "outputs": [
    {
     "name": "stdout",
     "output_type": "stream",
     "text": [
      "['BY', 'ROBERT', 'MACLEHOSE', 'AND', 'CO', '.', 'LTD', '.', 'THE', 'UNIVERSITY', 'PRESS', ',', 'GLASGOW', 'ALL', 'RIGHTS']\n"
     ]
    }
   ],
   "source": [
    "corpus_folder = 'data/nls-text-gibbon/'\n",
    "wordlists = PlaintextCorpusReader(corpus_folder, '\\d.*', encoding='latin1')\n",
    "corpus_tokens = wordlists.words()\n",
    "print(corpus_tokens[100:115])"
   ]
  },
  {
   "cell_type": "markdown",
   "metadata": {},
   "source": [
    "*Note: If you'd like to see how to specify a single TXT file to load as data, check out the Jupyter Notebook for the Britain and UK Handbooks!*\n",
    "\n",
    "It's hard to get a sense of how accurately the text has been digitised from this list of 15 tokens, so let's look at one of these words in context.  To see phrases in which \"Scots\" is used, we can use the concordance() method:"
   ]
  },
  {
   "cell_type": "code",
   "execution_count": 4,
   "metadata": {},
   "outputs": [
    {
     "name": "stdout",
     "output_type": "stream",
     "text": [
      "Displaying 25 of 72 matches:\n",
      "UTHOR Novels forming the trilogy , A Scots Quair Part I . Sunset Song ( 1932 ) \n",
      "igins of that son . He had the usual Scots passion for educationâ  that passi\n",
      "Â ¬ thing of the same quality , this Scots desire and pride in education , that\n",
      "hood . Because second - sight in the Scots was a fiction not yet invented in th\n",
      "us these were the lesser gods of the Scots pantheon , witches and wizards and k\n",
      " the ambition and intention of every Scots farmer to produce at least one son w\n",
      "ad litde relevance to religion . The Scots are not a religious people : long be\n",
      "is the function and privilege of the Scots minister : he is less a priest than \n",
      "e tenebrous imaginings of fear . The Scots ballads could have widened his geogr\n",
      " and climes , where beasts were un - Scots and untamed , and in blue waters str\n",
      "racteristic of one great division of Scots as Burns was of another . He saw the\n",
      "scular , with the solid frame of the Scots peasant redeemed of its usual squatn\n",
      " appreciation of 54 such niceties in Scots law . They blandly retorted that it \n",
      "corn . Hearing of this , Mungo , his Scots sentiment not yet withered , desired\n",
      "ew the splendours of summer from the Scots earth and flung them , palely colour\n",
      "ung them , palely colourful , into a Scots sky , he found perhaps the first tru\n",
      "e are many such curious words in the Scots dialects , pathetic reminders of the\n",
      "of gawkish puns ), and Mary Queen of Scots , whose blood was lapped by a dog . \n",
      "hy was no dull subject , and , being Scots , they found English fascinating eno\n",
      "ken to . . . . Speak English , never Scots . . . . Keep your mouth closed ( all\n",
      "e unattractive set of kings than the Scots from Bruce to James VI . They seemed\n",
      "vative sheet , a kind of ineffective Scots Morning Post . Northcliffism had har\n",
      " only Miss Domina . â  The Lowland Scots of Chapel oâ  Seddel , like that o\n",
      "eep , I found greater kinship , that Scots - descended Russian Learmont who som\n",
      " into submission . Then revolt among Scots , Australians , days when the little\n"
     ]
    }
   ],
   "source": [
    "t = Text(corpus_tokens)\n",
    "t.concordance(\"Scots\")"
   ]
  },
  {
   "cell_type": "markdown",
   "metadata": {},
   "source": [
    "There are some mistakes but not too many!\n",
    "\n",
    "Note how NLTK's ``concordance`` method works: the word \"Scots\" appears with different meanings, sometimes referring to the language, other times referring to the people.  NLTK has a tagging method that identifies the parts of speech in sentences, so if we wanted to focus on the language Scots, we could look for instances of Scots being used as a noun.  If we wanted to focus on the people Scots, we could look for instances of Scots being used as an adjective.  This method wouldn't return perfect results, though.  For example, we could improve our results by checking for instances of \"Scots\" being used as an adjective before the word \"dialects,\" for example.\n",
    "\n",
    "We'll wait to dive into this sort of text analysis until a bit later, though!  \n",
    "\n",
    "#### 0.1 Dataset Size\n",
    "First, let's get a sense of how much data (in this case, text) we have in the *Lewis Grassic Gibbon First Editions* (LGG) dataset:"
   ]
  },
  {
   "cell_type": "code",
   "execution_count": 5,
   "metadata": {},
   "outputs": [
    {
     "name": "stdout",
     "output_type": "stream",
     "text": [
      "Estimated total...\n",
      "  Characters in LGG Data: 7068578\n",
      "  Tokens in LGG Data: 1506095\n",
      "  Sentences in LGG Data: 70821\n",
      "  Files in LGG Data: 16\n"
     ]
    }
   ],
   "source": [
    "def corpusStatistics(plaintext_corpus_read_lists):\n",
    "    total_chars = 0\n",
    "    total_tokens = 0\n",
    "    total_sents = 0\n",
    "    total_files = 0\n",
    "    for fileid in plaintext_corpus_read_lists.fileids():\n",
    "        total_chars += len(plaintext_corpus_read_lists.raw(fileid))\n",
    "        total_tokens += len(plaintext_corpus_read_lists.words(fileid))\n",
    "        total_sents += len(plaintext_corpus_read_lists.sents(fileid))\n",
    "        total_files += 1\n",
    "    print(\"Estimated total...\")\n",
    "    print(\"  Characters in LGG Data:\", total_chars)\n",
    "    print(\"  Tokens in LGG Data:\", total_tokens)\n",
    "    print(\"  Sentences in LGG Data:\", total_sents)\n",
    "    print(\"  Files in LGG Data:\", total_files)\n",
    "\n",
    "corpusStatistics(wordlists)"
   ]
  },
  {
   "cell_type": "markdown",
   "metadata": {},
   "source": [
    "Note that I've print ``Tokens`` rather than words, though the NLTK method used to count those was ``.words()``.  This is because words in NLTK include punctuation marks and digits, in addition to alphabetic words.\n",
    "\n",
    "#### 0.2 Identifying Subsets of the Data\n",
    "Next, we'll create two subsets of the data, one for each journal.  To do so we first need to load the inventory (CSV file) that lists which file name corresponds with which journal.  When you open the CSV file in Microsoft Excel or a text editor, you can see that there are no column names.  The Python library [Pandas](https://pandas.pydata.org/docs/), which reads CSV files, calls these column names the ``header``.  When we use Pandas to read the inventory, we'll create our own header by specifying that the CSV file as ``None`` and providing a list of column ``names``.\n",
    "\n",
    "When Pandas (abbreviated ``pd`` when we loaded libraries in the first cell of this notebook) reads a CSV file, it creates a table called a **dataframe** from that data.  Let's see what the Gibbon inventory dataframe looks like:"
   ]
  },
  {
   "cell_type": "code",
   "execution_count": 6,
   "metadata": {},
   "outputs": [
    {
     "data": {
      "text/html": [
       "<div>\n",
       "<style scoped>\n",
       "    .dataframe tbody tr th:only-of-type {\n",
       "        vertical-align: middle;\n",
       "    }\n",
       "\n",
       "    .dataframe tbody tr th {\n",
       "        vertical-align: top;\n",
       "    }\n",
       "\n",
       "    .dataframe thead th {\n",
       "        text-align: right;\n",
       "    }\n",
       "</style>\n",
       "<table border=\"1\" class=\"dataframe\">\n",
       "  <thead>\n",
       "    <tr style=\"text-align: right;\">\n",
       "      <th></th>\n",
       "      <th>fileid</th>\n",
       "      <th>title</th>\n",
       "    </tr>\n",
       "  </thead>\n",
       "  <tbody>\n",
       "    <tr>\n",
       "      <th>0</th>\n",
       "      <td>205174241.txt</td>\n",
       "      <td>Niger - R.176.i</td>\n",
       "    </tr>\n",
       "    <tr>\n",
       "      <th>1</th>\n",
       "      <td>205174242.txt</td>\n",
       "      <td>Thirteenth disciple - Vts.137.d</td>\n",
       "    </tr>\n",
       "    <tr>\n",
       "      <th>2</th>\n",
       "      <td>205174243.txt</td>\n",
       "      <td>Three go back - Vts.152.f.22</td>\n",
       "    </tr>\n",
       "    <tr>\n",
       "      <th>3</th>\n",
       "      <td>205174244.txt</td>\n",
       "      <td>Calends of Cairo - Vts.153.c.16</td>\n",
       "    </tr>\n",
       "    <tr>\n",
       "      <th>4</th>\n",
       "      <td>205174245.txt</td>\n",
       "      <td>Lost trumpet - Vts.143.j.8</td>\n",
       "    </tr>\n",
       "    <tr>\n",
       "      <th>5</th>\n",
       "      <td>205174246.txt</td>\n",
       "      <td>Image and superscription - Vts.118.l.16</td>\n",
       "    </tr>\n",
       "    <tr>\n",
       "      <th>6</th>\n",
       "      <td>205174247.txt</td>\n",
       "      <td>Spartacus - Vts.6.k.19</td>\n",
       "    </tr>\n",
       "    <tr>\n",
       "      <th>7</th>\n",
       "      <td>205174248.txt</td>\n",
       "      <td>Persian dawns, Egyptian nights - Vts.148.d.8</td>\n",
       "    </tr>\n",
       "    <tr>\n",
       "      <th>8</th>\n",
       "      <td>205174249.txt</td>\n",
       "      <td>Scots quair - Cloud howe - NF.523.b.30</td>\n",
       "    </tr>\n",
       "    <tr>\n",
       "      <th>9</th>\n",
       "      <td>205174250.txt</td>\n",
       "      <td>Scots quair - Grey granite - NF.523.b.31</td>\n",
       "    </tr>\n",
       "    <tr>\n",
       "      <th>10</th>\n",
       "      <td>205174251.txt</td>\n",
       "      <td>Scots quair - Sunset song - NF.523.b.29</td>\n",
       "    </tr>\n",
       "    <tr>\n",
       "      <th>11</th>\n",
       "      <td>205174252.txt</td>\n",
       "      <td>Hanno, or, The future of exploration - S.114.j.21</td>\n",
       "    </tr>\n",
       "    <tr>\n",
       "      <th>12</th>\n",
       "      <td>205174253.txt</td>\n",
       "      <td>Nine against the unknown - S.72.d.10</td>\n",
       "    </tr>\n",
       "    <tr>\n",
       "      <th>13</th>\n",
       "      <td>205174254.txt</td>\n",
       "      <td>Conquest of the Maya - S.60.c</td>\n",
       "    </tr>\n",
       "    <tr>\n",
       "      <th>14</th>\n",
       "      <td>205174255.txt</td>\n",
       "      <td>Gay hunter - Vts.215.j.26</td>\n",
       "    </tr>\n",
       "    <tr>\n",
       "      <th>15</th>\n",
       "      <td>205202834.txt</td>\n",
       "      <td>Stained radiance - T.204.f</td>\n",
       "    </tr>\n",
       "  </tbody>\n",
       "</table>\n",
       "</div>"
      ],
      "text/plain": [
       "           fileid                                              title\n",
       "0   205174241.txt                                    Niger - R.176.i\n",
       "1   205174242.txt                    Thirteenth disciple - Vts.137.d\n",
       "2   205174243.txt                       Three go back - Vts.152.f.22\n",
       "3   205174244.txt                    Calends of Cairo - Vts.153.c.16\n",
       "4   205174245.txt                         Lost trumpet - Vts.143.j.8\n",
       "5   205174246.txt            Image and superscription - Vts.118.l.16\n",
       "6   205174247.txt                            Spartacus - Vts.6.k.19 \n",
       "7   205174248.txt       Persian dawns, Egyptian nights - Vts.148.d.8\n",
       "8   205174249.txt             Scots quair - Cloud howe - NF.523.b.30\n",
       "9   205174250.txt           Scots quair - Grey granite - NF.523.b.31\n",
       "10  205174251.txt            Scots quair - Sunset song - NF.523.b.29\n",
       "11  205174252.txt  Hanno, or, The future of exploration - S.114.j.21\n",
       "12  205174253.txt               Nine against the unknown - S.72.d.10\n",
       "13  205174254.txt                      Conquest of the Maya - S.60.c\n",
       "14  205174255.txt                          Gay hunter - Vts.215.j.26\n",
       "15  205202834.txt                         Stained radiance - T.204.f"
      ]
     },
     "execution_count": 6,
     "metadata": {},
     "output_type": "execute_result"
    }
   ],
   "source": [
    "df = pd.read_csv('data/nls-text-gibbon/gibbon-inventory.csv', header=None, names=['fileid', 'title'])\n",
    "df"
   ]
  },
  {
   "cell_type": "markdown",
   "metadata": {},
   "source": [
    "Since we only have 16 files, we returned the entire dataframe above.  With larger dataframes you may wish to use  ``df.head()`` or ``df.tail()`` to print only the first 5 or last 5 rows of your CSV file (both of which will include the column names in the dataframe's header).\n",
    "\n",
    "Now that we created a dataframe, if we want to determine the title of a Gibbon work based on it's file ID, we can use the following code:"
   ]
  },
  {
   "cell_type": "code",
   "execution_count": 7,
   "metadata": {},
   "outputs": [
    {
     "name": "stdout",
     "output_type": "stream",
     "text": [
      "List of file IDs:\n",
      " ['205174241.txt', '205174242.txt', '205174243.txt', '205174244.txt', '205174245.txt', '205174246.txt', '205174247.txt', '205174248.txt', '205174249.txt', '205174250.txt', '205174251.txt', '205174252.txt', '205174253.txt', '205174254.txt', '205174255.txt', '205202834.txt']\n",
      "\n",
      "List of titles:\n",
      " ['Niger - R.176.i', 'Thirteenth disciple - Vts.137.d', 'Three go back - Vts.152.f.22', 'Calends of Cairo - Vts.153.c.16', 'Lost trumpet - Vts.143.j.8', 'Image and superscription - Vts.118.l.16', 'Spartacus - Vts.6.k.19 ', 'Persian dawns, Egyptian nights - Vts.148.d.8', 'Scots quair - Cloud howe - NF.523.b.30', 'Scots quair - Grey granite - NF.523.b.31', 'Scots quair - Sunset song - NF.523.b.29', 'Hanno, or, The future of exploration - S.114.j.21', 'Nine against the unknown - S.72.d.10', 'Conquest of the Maya - S.60.c', 'Gay hunter - Vts.215.j.26', 'Stained radiance - T.204.f']\n",
      "\n",
      "Dictionary of file IDs and titles:\n",
      " {'205174241.txt': 'Niger - R.176.i', '205174242.txt': 'Thirteenth disciple - Vts.137.d', '205174243.txt': 'Three go back - Vts.152.f.22', '205174244.txt': 'Calends of Cairo - Vts.153.c.16', '205174245.txt': 'Lost trumpet - Vts.143.j.8', '205174246.txt': 'Image and superscription - Vts.118.l.16', '205174247.txt': 'Spartacus - Vts.6.k.19 ', '205174248.txt': 'Persian dawns, Egyptian nights - Vts.148.d.8', '205174249.txt': 'Scots quair - Cloud howe - NF.523.b.30', '205174250.txt': 'Scots quair - Grey granite - NF.523.b.31', '205174251.txt': 'Scots quair - Sunset song - NF.523.b.29', '205174252.txt': 'Hanno, or, The future of exploration - S.114.j.21', '205174253.txt': 'Nine against the unknown - S.72.d.10', '205174254.txt': 'Conquest of the Maya - S.60.c', '205174255.txt': 'Gay hunter - Vts.215.j.26', '205202834.txt': 'Stained radiance - T.204.f'}\n",
      "\n",
      "The title for the file ID at index 10:\n",
      " Scots quair - Sunset song - NF.523.b.29\n",
      "\n"
     ]
    }
   ],
   "source": [
    "# obtain a list of all file IDs\n",
    "fileids = list(df[\"fileid\"])\n",
    "print(\"List of file IDs:\\n\", fileids)\n",
    "print()\n",
    "\n",
    "# obtain a list of all titles\n",
    "titles = list(df[\"title\"])\n",
    "print(\"List of titles:\\n\", titles)\n",
    "print()\n",
    "\n",
    "# create a dictionary where the keys are file IDs and the values are titles\n",
    "lgg_dict = dict(zip(fileids, titles))\n",
    "print(\"Dictionary of file IDs and titles:\\n\", lgg_dict)\n",
    "print()\n",
    "\n",
    "# pick a file ID by its index number\n",
    "a_file_id = fileids[10]\n",
    "\n",
    "# get the title corresponding with the file ID in the dataframe\n",
    "print(\"The title for the file ID at index 10:\\n\", lgg_dict[a_file_id])\n",
    "print()"
   ]
  },
  {
   "cell_type": "markdown",
   "metadata": {},
   "source": [
    "NLTK stores the lists of tokens in the corpus_tokens variable we created by the file IDs, so it's useful to be able to match the file IDs with their book titles!"
   ]
  },
  {
   "cell_type": "markdown",
   "metadata": {},
   "source": [
    "### 1. Data Cleaning and Standardisation"
   ]
  },
  {
   "cell_type": "markdown",
   "metadata": {},
   "source": [
    "#### 1.1 Tokenisation\n",
    "Variables that store the word tokens and sentence tokens in our dataset will be useful for future analysis.  Let's create those now:"
   ]
  },
  {
   "cell_type": "code",
   "execution_count": 8,
   "metadata": {},
   "outputs": [],
   "source": [
    "def getWordsSents(plaintext_corpus_read_lists):\n",
    "    all_words = []\n",
    "    all_sents = []\n",
    "    for fileid in plaintext_corpus_read_lists.fileids():\n",
    "        \n",
    "        file_words = plaintext_corpus_read_lists.words(fileid)\n",
    "        all_words += [str(word) for word in file_words if word.isalpha()]\n",
    "        \n",
    "        file_sents = sent_tokenize(plaintext_corpus_read_lists.raw(fileid))\n",
    "        all_sents += [str(sent) for sent in file_sents]\n",
    "        \n",
    "    return all_words, all_sents\n",
    "        \n",
    "lgg_words, lgg_sents = getWordsSents(wordlists)"
   ]
  },
  {
   "cell_type": "markdown",
   "metadata": {},
   "source": [
    "For some types of analysis, such as identifying people and places named in Gibbon's works, maintaining the original capitalization is important.  For other types of analysis, such as analysing the vocabulary of Gibbon's works, standardising words by making them lowercase is important.  Let's create a lowercase list of words in the LGG dataset:"
   ]
  },
  {
   "cell_type": "code",
   "execution_count": 9,
   "metadata": {},
   "outputs": [],
   "source": [
    "lgg_words_lower = [word.lower() for word in lgg_words]"
   ]
  },
  {
   "cell_type": "code",
   "execution_count": 10,
   "metadata": {},
   "outputs": [
    {
     "name": "stdout",
     "output_type": "stream",
     "text": [
      "['r', 'o', 'first', 'journey', 'national', 'library', 'of', 'scotland', 'â', 'timbuctoo', 'niger', 'by', 'the', 'same', 'author', 'novels', 'forming', 'the', 'trilogy', 'a']\n",
      "['R', 'o', 'First', 'journey', 'National', 'Library', 'of', 'Scotland', 'â', 'TIMBUCTOO', 'NIGER', 'BY', 'THE', 'SAME', 'AUTHOR', 'Novels', 'forming', 'the', 'trilogy', 'A']\n"
     ]
    }
   ],
   "source": [
    "print(lgg_words_lower[0:20])\n",
    "print(lgg_words[0:20])"
   ]
  },
  {
   "cell_type": "markdown",
   "metadata": {},
   "source": [
    "Perfect!\n",
    "\n",
    "#### 1.2 Reducing to Root Forms\n",
    "In addition to tokenisation, **stemming** is a method of standardising, or \"normalising,\" text.  Stemming reduces words to their root form by removing suffixes.  For example, the word \"troubling\" has a stem of \"troubl.\"  NLTK has two types of stemmers that use different algorithms to determine what the root of a word is.  \n",
    "\n",
    "The stemming algorithms below can take several minutes to run, so two are provided below with one commented out (the lines begin with ``#``) so it won't run.  If you'd like to see how the stemming algorithms differ, uncomment the lines by highlighting them and pressing ``cmd`` + ``/``.\n",
    "\n",
    "First, though, let's see what stems of LGG data look like with the Porter Stemmer:"
   ]
  },
  {
   "cell_type": "code",
   "execution_count": 11,
   "metadata": {},
   "outputs": [
    {
     "name": "stdout",
     "output_type": "stream",
     "text": [
      "['lour', 'of', 'newark', 'across', 'the', 'valley', 'in', 'summer', 'thi', 'wa', 'a', 'countri', 'of', 'green', 'and', 'gold', 'and', 'the', 'blue', 'blur', 'of', 'heath', 'but', 'in', 'winter', 'a', 'frost', 'bitten', 'stretch', 'with', 'the', 'sough', 'of', 'the', 'wind', 'rage', 'down', 'the', 'valley', 'of', 'the', 'yarrow', 'and', 'turn', 'it', 'placid', 'water', 'mottl', 'green', 'and', 'lap', 'it', 'drift', 'mist', 'against', 'the', 'grey', 'whinston', 'wall', 'of', 'the', 'fowlshiel', 'big', 'but', 'for', 'mungo', 'it', 'is', 'probabl', 'neither', 'sun', 'nor', 'storm', 'were', 'agent', 'of', 'colour', 'scenic', 'chang', 'they', 'were', 'fact', 'to', 'be', 'face', 'in', 'hi', 'fight', 'with', 'the', 'dour', 'acr', 'of', 'fowlshiel', 'plough', 'with', 'the', 'wooden', 'plough', 'of']\n"
     ]
    }
   ],
   "source": [
    "# Stem the text (reduce words to their root, whether or not the root is a word itself\n",
    "porter = nltk.PorterStemmer()\n",
    "porter_stemmed = [porter.stem(t) for t in lgg_words_lower if t.isalpha()]  # only include alphabetic tokens\n",
    "print(porter_stemmed[500:600])"
   ]
  },
  {
   "cell_type": "code",
   "execution_count": 12,
   "metadata": {},
   "outputs": [],
   "source": [
    "# lancaster = nltk.LancasterStemmer()\n",
    "# lancaster_stemmed = [lancaster.stem(t) for t in lower_str_tokens if t.isalpha()] # only include alphabetic tokens\n",
    "# print(lancaster_stemmed[500:600])"
   ]
  },
  {
   "cell_type": "markdown",
   "metadata": {},
   "source": [
    "<div class=\"alert alert-block alert-info\">\n",
    "<b>Try It!</b> Uncomment the lines of code in the cell above by removing the `#` before each line to see how a different stemming algorithm works: the Lancaster Stemmer.  What differences do you notice in the sample of stems that are returned?\n",
    "</div>"
   ]
  },
  {
   "cell_type": "markdown",
   "metadata": {},
   "source": [
    "Another approach to reducing words to their root is to **lemmatise** tokens.  NLTK's WordNet Lemmatizer reduces a token to its root *only* if the reduction of the token results in a word that's recognised as an English word in WordNet.  Here's what that looks like:"
   ]
  },
  {
   "cell_type": "code",
   "execution_count": 13,
   "metadata": {},
   "outputs": [
    {
     "name": "stdout",
     "output_type": "stream",
     "text": [
      "['lour', 'of', 'newark', 'across', 'the', 'valley', 'in', 'summer', 'this', 'wa', 'a', 'country', 'of', 'green', 'and', 'gold', 'and', 'the', 'blue', 'blur', 'of', 'heath', 'but', 'in', 'winter', 'a', 'frost', 'bitten', 'stretch', 'with', 'the', 'sough', 'of', 'the', 'wind', 'raging', 'down', 'the', 'valley', 'of', 'the', 'yarrow', 'and', 'turning', 'it', 'placid', 'water', 'mottled', 'green', 'and', 'lapping', 'it', 'drifting', 'mist', 'against', 'the', 'grey', 'whinstone', 'wall', 'of', 'the', 'fowlshiels', 'biggings', 'but', 'for', 'mungo', 'it', 'is', 'probable', 'neither', 'sun', 'nor', 'storm', 'were', 'agent', 'of', 'colourful', 'scenic', 'change', 'they', 'were', 'fact', 'to', 'be', 'faced', 'in', 'his', 'fight', 'with', 'the', 'dour', 'acre', 'of', 'fowlshiels', 'ploughed', 'with', 'the', 'wooden', 'plough', 'of']\n"
     ]
    }
   ],
   "source": [
    "# Lemmatise the text (reduce words to their root ONLY if the root is considered a word in WordNet)\n",
    "wnl = nltk.WordNetLemmatizer()\n",
    "lemmatised = [wnl.lemmatize(t) for t in lgg_words_lower if t.isalpha()]  # only include alphabetic tokens\n",
    "print(lemmatised[500:600])"
   ]
  },
  {
   "cell_type": "markdown",
   "metadata": {},
   "source": [
    "### 2. Summary Statistics"
   ]
  },
  {
   "cell_type": "markdown",
   "metadata": {},
   "source": [
    "#### 2.1 Frequencies and Sizes"
   ]
  },
  {
   "cell_type": "markdown",
   "metadata": {},
   "source": [
    "Now that we've created some different cuts of the LGG dataset, let's start investigating the frequency of terms as they appear across the dataset.  One way to do so is with a **frequency distribution**, which is a line chart that shows how many times a token appears in the dataset.  Let's plot the frequency distribution of alphabetic words in the entire LGG dataset, excluding stop words (for example: a, an, the).\n",
    "\n",
    "**Step 1:** First, let's create a new list of lowercase words in the LGG dataset that excludes stop words and calculate it's frequency distribution:"
   ]
  },
  {
   "cell_type": "code",
   "execution_count": 17,
   "metadata": {},
   "outputs": [
    {
     "name": "stdout",
     "output_type": "stream",
     "text": [
      "Total words after filtering: 621940\n",
      "50 most common words after filtering: [('would', 3240), ('said', 3142), ('came', 2885), ('like', 2861), ('one', 2599), ('great', 2217), ('back', 2098), ('little', 2085), ('went', 1903), ('looked', 1903), ('long', 1874), ('eyes', 1739), ('night', 1730), ('still', 1647), ('time', 1615), ('face', 1581), ('old', 1564), ('though', 1558), ('man', 1498), ('saw', 1493), ('come', 1481), ('well', 1472), ('two', 1428), ('day', 1423), ('could', 1413), ('men', 1385), ('heâ', 1374), ('chris', 1364), ('never', 1363), ('thought', 1339), ('last', 1265), ('heard', 1241), ('head', 1228), ('made', 1223), ('found', 1161), ('years', 1148), ('mungo', 1145), ('first', 1141), ('away', 1125), ('even', 1112), ('hand', 1088), ('life', 1075), ('far', 1071), ('youâ', 1049), ('upon', 1042), ('new', 1026), ('god', 1021), ('stood', 1015), ('three', 1003), ('see', 994)]\n"
     ]
    }
   ],
   "source": [
    "to_exclude = set(stopwords.words('english'))\n",
    "filtered_lower = [w for w in lgg_words_lower if (len(w) > 2 and not w in to_exclude)]\n",
    "# filtered_lower = [w1 for w1 in lgg_words_lower if not w1 in to_exclude]\n",
    "\n",
    "fdist_filtered_lower = FreqDist(filtered_lower)\n",
    "print(\"Total words after filtering:\", fdist_filtered_lower.N())\n",
    "print(\"50 most common words after filtering:\", fdist_filtered_lower.most_common(50))"
   ]
  },
  {
   "cell_type": "markdown",
   "metadata": {},
   "source": [
    "Notice the `â` that appears as the most common token on its own, but also at the end of other common tokens.  This is probably an OCR error (a mistake in the digitisation process).  Let's see what other words appear near `â` to get a sense of its context:"
   ]
  },
  {
   "cell_type": "code",
   "execution_count": 18,
   "metadata": {},
   "outputs": [
    {
     "name": "stdout",
     "output_type": "stream",
     "text": [
      "Displaying 25 of 20332 matches:\n",
      "t journey National Library of Scotland â  B000054136 * TIMBUCTOO NIGER BY THE\n",
      "ngth biography . A much better book is â  H . B . â  s â  Life of Mungo P\n",
      "y . A much better book is â  H . B . â  s â  Life of Mungo Park ( 1835 ),\n",
      "uch better book is â  H . B . â  s â  Life of Mungo Park ( 1835 ), sincer\n",
      " a i woman of great prudence and sense â , â  else indeed she would not hav\n",
      "oman of great prudence and sense â , â  else indeed she would not have surv\n",
      " in the room , and Mungo himÂ ¬ self . â  Youâ  re destroying the book , â \n",
      " â  Youâ  re destroying the book , â  Mungo proÂ ¬ tested . The servant t\n",
      " 4 Theyâ  re only old Flavelâ  s . â  To which the dark - faced boy retor\n",
      "delight of all his bio - 14 graphers , â  Ay , you , or somebody else , will \n",
      "characÂ ¬ teristic , it was national : â  You poor useless thing , do you thi\n",
      "think that you will ever write books ? â  Mungoâ  s retort is not recorded \n",
      "he surrounding hills , he went often , â  to read poetry â . This was mostl\n",
      " , he went often , â  to read poetry â . This was mostly collections of son\n",
      "ms upon the record the affirÂ ¬ mation â  Some sparks of latent spirit which \n",
      "e part of his noisy school - fellows . â  But rather , one can hear their how\n",
      "viÂ ¬ ously qualified by ( yet again ) â  the gravity and steady decorum of h\n",
      "avity and steady decorum of his manner â . And , just as it was the ambition \n",
      "d to study medicine . ! 9 3His gravity â  not altogether thrown awayâ , he \n",
      " mathematics , in both of which he was â  very apt . For the rest he no doubt\n",
      "rote a letter to Anderson in Selkirk : â  I have now got upon the first step \n",
      "the author and finisher of his faith . â  Perhaps teasing Ailie would read th\n",
      "n , just before the Worcester sailed : â  I wish you may be able to look upon\n",
      "han see you anything but a Christian . â  It is almost the most appalling exa\n",
      " the Great River , crocodile - laden , â  dividing Africa as the Danube does \n"
     ]
    }
   ],
   "source": [
    "t = Text(corpus_tokens)\n",
    "t.concordance(\"â\")"
   ]
  },
  {
   "cell_type": "markdown",
   "metadata": {},
   "source": [
    "Hmmm.  `â` seems to appear in many different ways, so we probably shouldn't remove it entirely.  From the sample of text displayed above, it looks as though sometimes it appears in place of `'` or `-`, while other times it seems nothing should  be there at all.  It's not possible to know without comparing each occurrence of `â` to the original text manually.  \n",
    "\n",
    "**Step 2:** Since manual OCR correction is quite a time-consuming effort, for the purposes of a frequency distribution, we'll remove the `â`s for now:"
   ]
  },
  {
   "cell_type": "code",
   "execution_count": 19,
   "metadata": {},
   "outputs": [],
   "source": [
    "to_exclude = set(stopwords.words('english'))\n",
    "for w in lgg_words_lower:\n",
    "    if re.match('â', w):\n",
    "        w = w.replace('â','')\n",
    "    if (len(w) > 2 and not w in to_exclude):\n",
    "        filtered_lower += [w]"
   ]
  },
  {
   "cell_type": "markdown",
   "metadata": {},
   "source": [
    "**Step 3:** Now, we recalculate the frequency distribution and visualise it using NLTK and Matplotlib:"
   ]
  },
  {
   "cell_type": "code",
   "execution_count": 20,
   "metadata": {},
   "outputs": [
    {
     "data": {
      "image/png": "[encoded data removed]",
      "text/plain": [
       "<Figure size 1440x576 with 1 Axes>"
      ]
     },
     "metadata": {
      "needs_background": "light"
     },
     "output_type": "display_data"
    },
    {
     "data": {
      "text/plain": [
       "<matplotlib.axes._subplots.AxesSubplot at 0x10ced5cf8>"
      ]
     },
     "execution_count": 20,
     "metadata": {},
     "output_type": "execute_result"
    }
   ],
   "source": [
    "fdist_filtered_lower = FreqDist(filtered_lower)\n",
    "plt.figure(figsize = (20, 8))\n",
    "plt.rc('font', size=12)\n",
    "number_of_tokens = 20 # Try increasing or decreasing this number to view more or fewer tokens in the visualization\n",
    "fdist_filtered_lower.plot(number_of_tokens, title='Frequency Distribution for ' + str(number_of_tokens) + ' Most Common Tokens in the Standardised LGG Dataset (excluding stop words)')"
   ]
  },
  {
   "cell_type": "markdown",
   "metadata": {},
   "source": [
    "Next, we can look at multiple words at a time.  Using `collocations()`, we can see which pairs of words occur together most often across the LGG dataset:"
   ]
  },
  {
   "cell_type": "code",
   "execution_count": 21,
   "metadata": {},
   "outputs": [
    {
     "name": "stdout",
     "output_type": "stream",
     "text": [
      "GREY GRANITE; STAINED RADIANCE; LOST TRUMPET; Old Empire; THIRTEENTH\n",
      "DISCIPLE; GAY HUNTER; CLOUD HOWE; Sir John; SUNSET SONG; Lady Jane;\n",
      "Long Rob; ART ACU; EGYPTIAN NIGHTS; Abu Zabal; thousand years; PERSIAN\n",
      "DAWNS; New Empire; George Shaw; Ake Ogilvie; ben Sanballat\n"
     ]
    }
   ],
   "source": [
    "t.collocations()"
   ]
  },
  {
   "cell_type": "markdown",
   "metadata": {},
   "source": [
    "``thousand years`` is a common **bigram**, or word pair.  I wonder what other words appear in similar contexts to the word `year`..."
   ]
  },
  {
   "cell_type": "code",
   "execution_count": 22,
   "metadata": {},
   "outputs": [
    {
     "name": "stdout",
     "output_type": "stream",
     "text": [
      "days months time hours men that life night things miles and it him\n",
      "women slaves water â day others them\n"
     ]
    }
   ],
   "source": [
    "t.similar('years')"
   ]
  },
  {
   "cell_type": "markdown",
   "metadata": {},
   "source": [
    "Let's pick a single work of Gibbon's to and see what its collocations are:"
   ]
  },
  {
   "cell_type": "code",
   "execution_count": 23,
   "metadata": {},
   "outputs": [
    {
     "name": "stdout",
     "output_type": "stream",
     "text": [
      "SUNSET SONG; Long Rob; John Guthrie; Bridge End; Mistress Melon; young\n",
      "Ewan; Maggie Jean; Reverend Gibbon; John Brigson; Mistress Munro; Chae\n",
      "Strachan; Standing Stones; folk said; come back; God knows; next day;\n",
      "Ewan Tavendale; Uncle Tam; Mistress Strachan; Alec Mutch\n"
     ]
    }
   ],
   "source": [
    "sunset_song = '205174251.txt'\n",
    "sunset_song_words = wordlists.words(sunset_song)\n",
    "s = Text(sunset_song_words)\n",
    "s.collocations()"
   ]
  },
  {
   "cell_type": "markdown",
   "metadata": {},
   "source": [
    "Many of the most common bigrams are names!"
   ]
  },
  {
   "cell_type": "markdown",
   "metadata": {},
   "source": [
    "#### 2.2 Uniqueness and Variety"
   ]
  },
  {
   "cell_type": "markdown",
   "metadata": {},
   "source": [
    "To measure the uniqueness and variety of words in Gibbon's works, we can calculate the **lexical diversity** of files in the LGG dataset.  Lexical diversity measures the diversity of word choice, calculated by dividing the number of unique words by the total number of words in a work.  Instead of simply counting the number of unique words in each of Gibbon's works, we divide by the total number of words in a work to *normalise* the metric, so we can compare the diversity of word choice of works that are of different lengths.  Let's calculate the lexical diversity for each file in the LGG dataset and add this metric to our inventory DataFrame:"
   ]
  },
  {
   "cell_type": "code",
   "execution_count": 24,
   "metadata": {},
   "outputs": [],
   "source": [
    "# INPUT: wordlists and the fileid of the wordlist to be tokenised\n",
    "# OUTPUT: a list of word tokens (in String format) for the inputted fileid\n",
    "def getWords(plaintext_corpus_read_lists, fileid):\n",
    "    file_words = plaintext_corpus_read_lists.words(fileid)\n",
    "    str_words = [str(word) for word in file_words if word.isalpha()]    \n",
    "    return str_words"
   ]
  },
  {
   "cell_type": "code",
   "execution_count": 25,
   "metadata": {},
   "outputs": [],
   "source": [
    "words_by_file = []\n",
    "for file in fileids:\n",
    "    words_by_file += [getWords(wordlists, file)]"
   ]
  },
  {
   "cell_type": "code",
   "execution_count": 26,
   "metadata": {},
   "outputs": [],
   "source": [
    "# INPUT: a list of words in String format\n",
    "# OUTPUT: the number of unique words divided by\n",
    "#         the total words in the inputted list\n",
    "def lexicalDiversity(str_words_list):\n",
    "    return len(set(str_words_list))/len(str_words_list)"
   ]
  },
  {
   "cell_type": "code",
   "execution_count": 27,
   "metadata": {},
   "outputs": [
    {
     "data": {
      "text/html": [
       "<div>\n",
       "<style scoped>\n",
       "    .dataframe tbody tr th:only-of-type {\n",
       "        vertical-align: middle;\n",
       "    }\n",
       "\n",
       "    .dataframe tbody tr th {\n",
       "        vertical-align: top;\n",
       "    }\n",
       "\n",
       "    .dataframe thead th {\n",
       "        text-align: right;\n",
       "    }\n",
       "</style>\n",
       "<table border=\"1\" class=\"dataframe\">\n",
       "  <thead>\n",
       "    <tr style=\"text-align: right;\">\n",
       "      <th></th>\n",
       "      <th>fileid</th>\n",
       "      <th>title</th>\n",
       "      <th>lexicaldiversity</th>\n",
       "    </tr>\n",
       "  </thead>\n",
       "  <tbody>\n",
       "    <tr>\n",
       "      <th>10</th>\n",
       "      <td>205174251.txt</td>\n",
       "      <td>Scots quair - Sunset song - NF.523.b.29</td>\n",
       "      <td>0.072128</td>\n",
       "    </tr>\n",
       "    <tr>\n",
       "      <th>8</th>\n",
       "      <td>205174249.txt</td>\n",
       "      <td>Scots quair - Cloud howe - NF.523.b.30</td>\n",
       "      <td>0.078885</td>\n",
       "    </tr>\n",
       "    <tr>\n",
       "      <th>6</th>\n",
       "      <td>205174247.txt</td>\n",
       "      <td>Spartacus - Vts.6.k.19</td>\n",
       "      <td>0.099382</td>\n",
       "    </tr>\n",
       "    <tr>\n",
       "      <th>9</th>\n",
       "      <td>205174250.txt</td>\n",
       "      <td>Scots quair - Grey granite - NF.523.b.31</td>\n",
       "      <td>0.102243</td>\n",
       "    </tr>\n",
       "    <tr>\n",
       "      <th>5</th>\n",
       "      <td>205174246.txt</td>\n",
       "      <td>Image and superscription - Vts.118.l.16</td>\n",
       "      <td>0.117871</td>\n",
       "    </tr>\n",
       "    <tr>\n",
       "      <th>2</th>\n",
       "      <td>205174243.txt</td>\n",
       "      <td>Three go back - Vts.152.f.22</td>\n",
       "      <td>0.119819</td>\n",
       "    </tr>\n",
       "    <tr>\n",
       "      <th>14</th>\n",
       "      <td>205174255.txt</td>\n",
       "      <td>Gay hunter - Vts.215.j.26</td>\n",
       "      <td>0.121485</td>\n",
       "    </tr>\n",
       "    <tr>\n",
       "      <th>12</th>\n",
       "      <td>205174253.txt</td>\n",
       "      <td>Nine against the unknown - S.72.d.10</td>\n",
       "      <td>0.123527</td>\n",
       "    </tr>\n",
       "    <tr>\n",
       "      <th>0</th>\n",
       "      <td>205174241.txt</td>\n",
       "      <td>Niger - R.176.i</td>\n",
       "      <td>0.129199</td>\n",
       "    </tr>\n",
       "    <tr>\n",
       "      <th>3</th>\n",
       "      <td>205174244.txt</td>\n",
       "      <td>Calends of Cairo - Vts.153.c.16</td>\n",
       "      <td>0.130086</td>\n",
       "    </tr>\n",
       "    <tr>\n",
       "      <th>4</th>\n",
       "      <td>205174245.txt</td>\n",
       "      <td>Lost trumpet - Vts.143.j.8</td>\n",
       "      <td>0.132837</td>\n",
       "    </tr>\n",
       "    <tr>\n",
       "      <th>13</th>\n",
       "      <td>205174254.txt</td>\n",
       "      <td>Conquest of the Maya - S.60.c</td>\n",
       "      <td>0.135153</td>\n",
       "    </tr>\n",
       "    <tr>\n",
       "      <th>7</th>\n",
       "      <td>205174248.txt</td>\n",
       "      <td>Persian dawns, Egyptian nights - Vts.148.d.8</td>\n",
       "      <td>0.143383</td>\n",
       "    </tr>\n",
       "    <tr>\n",
       "      <th>15</th>\n",
       "      <td>205202834.txt</td>\n",
       "      <td>Stained radiance - T.204.f</td>\n",
       "      <td>0.148124</td>\n",
       "    </tr>\n",
       "    <tr>\n",
       "      <th>1</th>\n",
       "      <td>205174242.txt</td>\n",
       "      <td>Thirteenth disciple - Vts.137.d</td>\n",
       "      <td>0.151357</td>\n",
       "    </tr>\n",
       "    <tr>\n",
       "      <th>11</th>\n",
       "      <td>205174252.txt</td>\n",
       "      <td>Hanno, or, The future of exploration - S.114.j.21</td>\n",
       "      <td>0.258565</td>\n",
       "    </tr>\n",
       "  </tbody>\n",
       "</table>\n",
       "</div>"
      ],
      "text/plain": [
       "           fileid                                              title  \\\n",
       "10  205174251.txt            Scots quair - Sunset song - NF.523.b.29   \n",
       "8   205174249.txt             Scots quair - Cloud howe - NF.523.b.30   \n",
       "6   205174247.txt                            Spartacus - Vts.6.k.19    \n",
       "9   205174250.txt           Scots quair - Grey granite - NF.523.b.31   \n",
       "5   205174246.txt            Image and superscription - Vts.118.l.16   \n",
       "2   205174243.txt                       Three go back - Vts.152.f.22   \n",
       "14  205174255.txt                          Gay hunter - Vts.215.j.26   \n",
       "12  205174253.txt               Nine against the unknown - S.72.d.10   \n",
       "0   205174241.txt                                    Niger - R.176.i   \n",
       "3   205174244.txt                    Calends of Cairo - Vts.153.c.16   \n",
       "4   205174245.txt                         Lost trumpet - Vts.143.j.8   \n",
       "13  205174254.txt                      Conquest of the Maya - S.60.c   \n",
       "7   205174248.txt       Persian dawns, Egyptian nights - Vts.148.d.8   \n",
       "15  205202834.txt                         Stained radiance - T.204.f   \n",
       "1   205174242.txt                    Thirteenth disciple - Vts.137.d   \n",
       "11  205174252.txt  Hanno, or, The future of exploration - S.114.j.21   \n",
       "\n",
       "    lexicaldiversity  \n",
       "10          0.072128  \n",
       "8           0.078885  \n",
       "6           0.099382  \n",
       "9           0.102243  \n",
       "5           0.117871  \n",
       "2           0.119819  \n",
       "14          0.121485  \n",
       "12          0.123527  \n",
       "0           0.129199  \n",
       "3           0.130086  \n",
       "4           0.132837  \n",
       "13          0.135153  \n",
       "7           0.143383  \n",
       "15          0.148124  \n",
       "1           0.151357  \n",
       "11          0.258565  "
      ]
     },
     "execution_count": 27,
     "metadata": {},
     "output_type": "execute_result"
    }
   ],
   "source": [
    "lexdiv_by_file = []\n",
    "for words in words_by_file:\n",
    "    lexdiv_by_file += [lexicalDiversity(words)]\n",
    "\n",
    "df['lexicaldiversity'] = lexdiv_by_file\n",
    "df_lexdiv = df.sort_values(by=['lexicaldiversity', 'title'], inplace=False, ascending=True)\n",
    "df_lexdiv"
   ]
  },
  {
   "cell_type": "code",
   "execution_count": 28,
   "metadata": {},
   "outputs": [
    {
     "name": "stdout",
     "output_type": "stream",
     "text": [
      "Lexical diversity of the entire LGG dataset:  0.034381642818617345\n"
     ]
    }
   ],
   "source": [
    "print(\"Lexical diversity of the entire LGG dataset: \", lexicalDiversity(lgg_words_lower))"
   ]
  },
  {
   "cell_type": "markdown",
   "metadata": {},
   "source": [
    "To make it easier to compare the lexical diversity scores, let's visualise them!"
   ]
  },
  {
   "cell_type": "code",
   "execution_count": 29,
   "metadata": {},
   "outputs": [
    {
     "data": {
      "text/html": [
       "\n",
       "<div id=\"altair-viz-82ed6662dfec4e189e4e8373fab8202d\"></div>\n",
       "<script type=\"text/javascript\">\n",
       "  (function(spec, embedOpt){\n",
       "    let outputDiv = document.currentScript.previousElementSibling;\n",
       "    if (outputDiv.id !== \"altair-viz-82ed6662dfec4e189e4e8373fab8202d\") {\n",
       "      outputDiv = document.getElementById(\"altair-viz-82ed6662dfec4e189e4e8373fab8202d\");\n",
       "    }\n",
       "    const paths = {\n",
       "      \"vega\": \"https://cdn.jsdelivr.net/npm//vega@5?noext\",\n",
       "      \"vega-lib\": \"https://cdn.jsdelivr.net/npm//vega-lib?noext\",\n",
       "      \"vega-lite\": \"https://cdn.jsdelivr.net/npm//vega-lite@4.8.1?noext\",\n",
       "      \"vega-embed\": \"https://cdn.jsdelivr.net/npm//vega-embed@6?noext\",\n",
       "    };\n",
       "\n",
       "    function loadScript(lib) {\n",
       "      return new Promise(function(resolve, reject) {\n",
       "        var s = document.createElement('script');\n",
       "        s.src = paths[lib];\n",
       "        s.async = true;\n",
       "        s.onload = () => resolve(paths[lib]);\n",
       "        s.onerror = () => reject(`Error loading script: ${paths[lib]}`);\n",
       "        document.getElementsByTagName(\"head\")[0].appendChild(s);\n",
       "      });\n",
       "    }\n",
       "\n",
       "    function showError(err) {\n",
       "      outputDiv.innerHTML = `<div class=\"error\" style=\"color:red;\">${err}</div>`;\n",
       "      throw err;\n",
       "    }\n",
       "\n",
       "    function displayChart(vegaEmbed) {\n",
       "      vegaEmbed(outputDiv, spec, embedOpt)\n",
       "        .catch(err => showError(`Javascript Error: ${err.message}<br>This usually means there's a typo in your chart specification. See the javascript console for the full traceback.`));\n",
       "    }\n",
       "\n",
       "    if(typeof define === \"function\" && define.amd) {\n",
       "      requirejs.config({paths});\n",
       "      require([\"vega-embed\"], displayChart, err => showError(`Error loading script: ${err.message}`));\n",
       "    } else if (typeof vegaEmbed === \"function\") {\n",
       "      displayChart(vegaEmbed);\n",
       "    } else {\n",
       "      loadScript(\"vega\")\n",
       "        .then(() => loadScript(\"vega-lite\"))\n",
       "        .then(() => loadScript(\"vega-embed\"))\n",
       "        .catch(showError)\n",
       "        .then(() => displayChart(vegaEmbed));\n",
       "    }\n",
       "  })({\"config\": {\"view\": {\"continuousWidth\": 400, \"continuousHeight\": 300, \"strokeWidth\": 0}, \"axis\": {\"grid\": false}}, \"data\": {\"name\": \"data-07f15ff8c56ac2c2fb41916bca3f182a\"}, \"mark\": {\"type\": \"bar\", \"size\": 30}, \"encoding\": {\"order\": {\"type\": \"quantitative\", \"field\": \"Lexdiv\", \"sort\": \"ascending\"}, \"x\": {\"type\": \"nominal\", \"axis\": {\"title\": \"Lewis Grassic Gibbon Work\"}, \"field\": \"Title\", \"sort\": null}, \"y\": {\"type\": \"quantitative\", \"axis\": {\"format\": \"%\", \"title\": \"Lexical Diversity\"}, \"field\": \"Lexdiv\"}}, \"title\": \"Lexical Diversity of Gibbon's Works\", \"width\": 500, \"$schema\": \"https://vega.github.io/schema/vega-lite/v4.8.1.json\", \"datasets\": {\"data-07f15ff8c56ac2c2fb41916bca3f182a\": [{\"Title\": \"Scots quair - Sunset song - NF.523.b.29\", \"Lexdiv\": 0.07212843277059662}, {\"Title\": \"Scots quair - Cloud howe - NF.523.b.30\", \"Lexdiv\": 0.07888469295798824}, {\"Title\": \"Spartacus - Vts.6.k.19 \", \"Lexdiv\": 0.09938161401329917}, {\"Title\": \"Scots quair - Grey granite - NF.523.b.31\", \"Lexdiv\": 0.10224279188921381}, {\"Title\": \"Image and superscription - Vts.118.l.16\", \"Lexdiv\": 0.11787067504237711}, {\"Title\": \"Three go back - Vts.152.f.22\", \"Lexdiv\": 0.11981942181848303}, {\"Title\": \"Gay hunter - Vts.215.j.26\", \"Lexdiv\": 0.12148489920236426}, {\"Title\": \"Nine against the unknown - S.72.d.10\", \"Lexdiv\": 0.1235267502837095}, {\"Title\": \"Niger - R.176.i\", \"Lexdiv\": 0.12919928751915827}, {\"Title\": \"Calends of Cairo - Vts.153.c.16\", \"Lexdiv\": 0.1300862155821351}, {\"Title\": \"Lost trumpet - Vts.143.j.8\", \"Lexdiv\": 0.1328374535112667}, {\"Title\": \"Conquest of the Maya - S.60.c\", \"Lexdiv\": 0.13515289127603416}, {\"Title\": \"Persian dawns, Egyptian nights - Vts.148.d.8\", \"Lexdiv\": 0.14338320620135847}, {\"Title\": \"Stained radiance - T.204.f\", \"Lexdiv\": 0.1481236315494679}, {\"Title\": \"Thirteenth disciple - Vts.137.d\", \"Lexdiv\": 0.15135747652745016}, {\"Title\": \"Hanno, or, The future of exploration - S.114.j.21\", \"Lexdiv\": 0.25856542882404954}]}}, {\"mode\": \"vega-lite\"});\n",
       "</script>"
      ],
      "text/plain": [
       "alt.Chart(...)"
      ]
     },
     "execution_count": 29,
     "metadata": {},
     "output_type": "execute_result"
    }
   ],
   "source": [
    "sorted_titles = list(df_lexdiv['title'])\n",
    "sorted_lexdiv = list(df_lexdiv['lexicaldiversity'])\n",
    "source = pd.DataFrame({\n",
    "    'Title': sorted_titles,\n",
    "    'Lexdiv': sorted_lexdiv\n",
    "})\n",
    "\n",
    "alt.Chart(source, title=\"Lexical Diversity of Gibbon's Works\").mark_bar(size=30).encode(\n",
    "    alt.X('Title', axis=alt.Axis(title='Lewis Grassic Gibbon Work'), type='nominal', sort=None),  # If sort unspecified, chart will sort x-axis values alphabetically\n",
    "    alt.Y('Lexdiv', axis=alt.Axis(format='%', title='Lexical Diversity')),\n",
    "    alt.Order(\n",
    "      # Sort the segments of the bars by this field\n",
    "      'Lexdiv',\n",
    "      sort='ascending'\n",
    "    )\n",
    ").configure_axis(\n",
    "    grid=False\n",
    ").configure_view(\n",
    "    strokeWidth=0\n",
    ").properties(\n",
    "    width=500\n",
    ")\n"
   ]
  },
  {
   "cell_type": "markdown",
   "metadata": {},
   "source": [
    "This makes it clear that *Hanno, or, The future of exploration* is by far the most lexically diverse in the collection.  Interestingly, this was the [first book](https://digital.nls.uk/lewis-grassic-gibbon-books/archive/205174252#?c=0&m=0&s=0&cv=0&xywh=-1008%2C-135%2C3640%2C2698) he wrote (it was published in 1928)!"
   ]
  },
  {
   "cell_type": "markdown",
   "metadata": {},
   "source": [
    "### 3. Exploratory Analysis"
   ]
  },
  {
   "cell_type": "markdown",
   "metadata": {},
   "source": [
    "#### 3.1 How does Gibbon's word choice evolve throughout his publishing life?\n",
    "Using information from the [digital.nls.uk](digital.nls.uk) website, we can quickly find and add the publication dates to Gibbon's works.  Since this LGG dataset is first editions, we know that the publication dates of Gibbon's books at the NLS will be the initial, original dates."
   ]
  },
  {
   "cell_type": "code",
   "execution_count": 30,
   "metadata": {},
   "outputs": [
    {
     "data": {
      "text/html": [
       "<div>\n",
       "<style scoped>\n",
       "    .dataframe tbody tr th:only-of-type {\n",
       "        vertical-align: middle;\n",
       "    }\n",
       "\n",
       "    .dataframe tbody tr th {\n",
       "        vertical-align: top;\n",
       "    }\n",
       "\n",
       "    .dataframe thead th {\n",
       "        text-align: right;\n",
       "    }\n",
       "</style>\n",
       "<table border=\"1\" class=\"dataframe\">\n",
       "  <thead>\n",
       "    <tr style=\"text-align: right;\">\n",
       "      <th></th>\n",
       "      <th>fileid</th>\n",
       "      <th>title</th>\n",
       "      <th>lexicaldiversity</th>\n",
       "      <th>published</th>\n",
       "    </tr>\n",
       "  </thead>\n",
       "  <tbody>\n",
       "    <tr>\n",
       "      <th>11</th>\n",
       "      <td>205174252.txt</td>\n",
       "      <td>Hanno, or, The future of exploration - S.114.j.21</td>\n",
       "      <td>0.258565</td>\n",
       "      <td>1928</td>\n",
       "    </tr>\n",
       "    <tr>\n",
       "      <th>15</th>\n",
       "      <td>205202834.txt</td>\n",
       "      <td>Stained radiance - T.204.f</td>\n",
       "      <td>0.148124</td>\n",
       "      <td>1930</td>\n",
       "    </tr>\n",
       "    <tr>\n",
       "      <th>3</th>\n",
       "      <td>205174244.txt</td>\n",
       "      <td>Calends of Cairo - Vts.153.c.16</td>\n",
       "      <td>0.130086</td>\n",
       "      <td>1931</td>\n",
       "    </tr>\n",
       "    <tr>\n",
       "      <th>1</th>\n",
       "      <td>205174242.txt</td>\n",
       "      <td>Thirteenth disciple - Vts.137.d</td>\n",
       "      <td>0.151357</td>\n",
       "      <td>1931</td>\n",
       "    </tr>\n",
       "    <tr>\n",
       "      <th>4</th>\n",
       "      <td>205174245.txt</td>\n",
       "      <td>Lost trumpet - Vts.143.j.8</td>\n",
       "      <td>0.132837</td>\n",
       "      <td>1932</td>\n",
       "    </tr>\n",
       "  </tbody>\n",
       "</table>\n",
       "</div>"
      ],
      "text/plain": [
       "           fileid                                              title  \\\n",
       "11  205174252.txt  Hanno, or, The future of exploration - S.114.j.21   \n",
       "15  205202834.txt                         Stained radiance - T.204.f   \n",
       "3   205174244.txt                    Calends of Cairo - Vts.153.c.16   \n",
       "1   205174242.txt                    Thirteenth disciple - Vts.137.d   \n",
       "4   205174245.txt                         Lost trumpet - Vts.143.j.8   \n",
       "\n",
       "    lexicaldiversity  published  \n",
       "11          0.258565       1928  \n",
       "15          0.148124       1930  \n",
       "3           0.130086       1931  \n",
       "1           0.151357       1931  \n",
       "4           0.132837       1932  "
      ]
     },
     "execution_count": 30,
     "metadata": {},
     "output_type": "execute_result"
    }
   ],
   "source": [
    "published = [1932, 1933, 1933, 1934, 1933, 1932, 1934, 1934, 1934, 1931, 1932, 1934, 1932, 1930, 1931, 1928]\n",
    "df_lexdiv['published'] = published\n",
    "df_pub = df_lexdiv.sort_values(by=['published', 'title'], inplace=False, ascending=True)\n",
    "df_pub.head()"
   ]
  },
  {
   "cell_type": "markdown",
   "metadata": {},
   "source": [
    "Now let's create another visualisation of the lexical diversity of Gibbon's works, but this time we'll sort the data by chronologically by `published` date:"
   ]
  },
  {
   "cell_type": "code",
   "execution_count": 31,
   "metadata": {},
   "outputs": [
    {
     "data": {
      "text/html": [
       "\n",
       "<div id=\"altair-viz-5b1bb12de69143c4a05e3ef5641a3448\"></div>\n",
       "<script type=\"text/javascript\">\n",
       "  (function(spec, embedOpt){\n",
       "    let outputDiv = document.currentScript.previousElementSibling;\n",
       "    if (outputDiv.id !== \"altair-viz-5b1bb12de69143c4a05e3ef5641a3448\") {\n",
       "      outputDiv = document.getElementById(\"altair-viz-5b1bb12de69143c4a05e3ef5641a3448\");\n",
       "    }\n",
       "    const paths = {\n",
       "      \"vega\": \"https://cdn.jsdelivr.net/npm//vega@5?noext\",\n",
       "      \"vega-lib\": \"https://cdn.jsdelivr.net/npm//vega-lib?noext\",\n",
       "      \"vega-lite\": \"https://cdn.jsdelivr.net/npm//vega-lite@4.8.1?noext\",\n",
       "      \"vega-embed\": \"https://cdn.jsdelivr.net/npm//vega-embed@6?noext\",\n",
       "    };\n",
       "\n",
       "    function loadScript(lib) {\n",
       "      return new Promise(function(resolve, reject) {\n",
       "        var s = document.createElement('script');\n",
       "        s.src = paths[lib];\n",
       "        s.async = true;\n",
       "        s.onload = () => resolve(paths[lib]);\n",
       "        s.onerror = () => reject(`Error loading script: ${paths[lib]}`);\n",
       "        document.getElementsByTagName(\"head\")[0].appendChild(s);\n",
       "      });\n",
       "    }\n",
       "\n",
       "    function showError(err) {\n",
       "      outputDiv.innerHTML = `<div class=\"error\" style=\"color:red;\">${err}</div>`;\n",
       "      throw err;\n",
       "    }\n",
       "\n",
       "    function displayChart(vegaEmbed) {\n",
       "      vegaEmbed(outputDiv, spec, embedOpt)\n",
       "        .catch(err => showError(`Javascript Error: ${err.message}<br>This usually means there's a typo in your chart specification. See the javascript console for the full traceback.`));\n",
       "    }\n",
       "\n",
       "    if(typeof define === \"function\" && define.amd) {\n",
       "      requirejs.config({paths});\n",
       "      require([\"vega-embed\"], displayChart, err => showError(`Error loading script: ${err.message}`));\n",
       "    } else if (typeof vegaEmbed === \"function\") {\n",
       "      displayChart(vegaEmbed);\n",
       "    } else {\n",
       "      loadScript(\"vega\")\n",
       "        .then(() => loadScript(\"vega-lite\"))\n",
       "        .then(() => loadScript(\"vega-embed\"))\n",
       "        .catch(showError)\n",
       "        .then(() => displayChart(vegaEmbed));\n",
       "    }\n",
       "  })({\"config\": {\"view\": {\"continuousWidth\": 400, \"continuousHeight\": 300, \"strokeWidth\": 0}, \"axis\": {\"grid\": false, \"labelAngle\": -45, \"labelFontSize\": 12, \"titleFontSize\": 12}, \"title\": {\"fontSize\": 14}}, \"data\": {\"name\": \"data-ac1dd47742e35b62b6983d933aba1faf\"}, \"mark\": {\"type\": \"bar\", \"size\": 30}, \"encoding\": {\"color\": {\"type\": \"ordinal\", \"field\": \"Published\", \"legend\": {\"title\": \"Date Published\"}}, \"order\": {\"type\": \"quantitative\", \"field\": \"Lexdiv\", \"sort\": \"descending\"}, \"tooltip\": {\"type\": \"nominal\", \"field\": \"Title\"}, \"x\": {\"type\": \"nominal\", \"axis\": {\"title\": \"Title of Lewis Grassic Gibbon Work\"}, \"field\": \"Title\", \"sort\": null}, \"y\": {\"type\": \"quantitative\", \"axis\": {\"format\": \"%\", \"title\": \"Lexical Diversity\"}, \"field\": \"Lexdiv\"}}, \"title\": \"Lexical Diversity of Gibbon's Works\", \"width\": 500, \"$schema\": \"https://vega.github.io/schema/vega-lite/v4.8.1.json\", \"datasets\": {\"data-ac1dd47742e35b62b6983d933aba1faf\": [{\"Title\": \"Hanno, or, The future of exploration - S.114.j.21\", \"Lexdiv\": 0.25856542882404954, \"Published\": 1928}, {\"Title\": \"Stained radiance - T.204.f\", \"Lexdiv\": 0.1481236315494679, \"Published\": 1930}, {\"Title\": \"Calends of Cairo - Vts.153.c.16\", \"Lexdiv\": 0.1300862155821351, \"Published\": 1931}, {\"Title\": \"Thirteenth disciple - Vts.137.d\", \"Lexdiv\": 0.15135747652745016, \"Published\": 1931}, {\"Title\": \"Lost trumpet - Vts.143.j.8\", \"Lexdiv\": 0.1328374535112667, \"Published\": 1932}, {\"Title\": \"Persian dawns, Egyptian nights - Vts.148.d.8\", \"Lexdiv\": 0.14338320620135847, \"Published\": 1932}, {\"Title\": \"Scots quair - Sunset song - NF.523.b.29\", \"Lexdiv\": 0.07212843277059662, \"Published\": 1932}, {\"Title\": \"Three go back - Vts.152.f.22\", \"Lexdiv\": 0.11981942181848303, \"Published\": 1932}, {\"Title\": \"Image and superscription - Vts.118.l.16\", \"Lexdiv\": 0.11787067504237711, \"Published\": 1933}, {\"Title\": \"Scots quair - Cloud howe - NF.523.b.30\", \"Lexdiv\": 0.07888469295798824, \"Published\": 1933}, {\"Title\": \"Spartacus - Vts.6.k.19 \", \"Lexdiv\": 0.09938161401329917, \"Published\": 1933}, {\"Title\": \"Conquest of the Maya - S.60.c\", \"Lexdiv\": 0.13515289127603416, \"Published\": 1934}, {\"Title\": \"Gay hunter - Vts.215.j.26\", \"Lexdiv\": 0.12148489920236426, \"Published\": 1934}, {\"Title\": \"Niger - R.176.i\", \"Lexdiv\": 0.12919928751915827, \"Published\": 1934}, {\"Title\": \"Nine against the unknown - S.72.d.10\", \"Lexdiv\": 0.1235267502837095, \"Published\": 1934}, {\"Title\": \"Scots quair - Grey granite - NF.523.b.31\", \"Lexdiv\": 0.10224279188921381, \"Published\": 1934}]}}, {\"mode\": \"vega-lite\"});\n",
       "</script>"
      ],
      "text/plain": [
       "alt.Chart(...)"
      ]
     },
     "execution_count": 31,
     "metadata": {},
     "output_type": "execute_result"
    }
   ],
   "source": [
    "sorted_titles = list(df_pub['title'])\n",
    "sorted_lexdiv = list(df_pub['lexicaldiversity'])\n",
    "sorted_published = list(df_pub['published'])\n",
    "source = pd.DataFrame({\n",
    "    'Title': sorted_titles,\n",
    "    'Lexdiv': sorted_lexdiv,\n",
    "    'Published': sorted_published\n",
    "})\n",
    "\n",
    "alt.Chart(source, title=\"Lexical Diversity of Gibbon's Works\").mark_bar(size=30).encode(\n",
    "    alt.X('Title', axis=alt.Axis(title='Title of Lewis Grassic Gibbon Work'), type='nominal', sort=None),  # If sort unspecified, chart will sort x-axis values alphabetically\n",
    "    alt.Y('Lexdiv', axis=alt.Axis(format='%', title='Lexical Diversity')),\n",
    "    alt.Order(\n",
    "      # Sort the segments of the bars by this field\n",
    "      'Lexdiv',\n",
    "      sort='descending'\n",
    "    ),\n",
    "    color=alt.Color('Published:O', legend = alt.Legend(title='Date Published')),\n",
    "    tooltip='Title:N'\n",
    ").configure_axis(\n",
    "    grid=False,\n",
    "    labelFontSize=12,\n",
    "    titleFontSize=12,\n",
    "    labelAngle=-45\n",
    ").configure_title(\n",
    "    fontSize=14,\n",
    ").configure_view(\n",
    "    strokeWidth=0\n",
    ").properties(\n",
    "    width=500\n",
    ")\n"
   ]
  },
  {
   "cell_type": "markdown",
   "metadata": {},
   "source": [
    "Since we don't know the months in which Gibbon's works were published, let's calculate Gibbon's yearly lexical diversity to get a better sense of the trend over time.\n",
    "\n",
    "**Step 1:** First, we need to group Gibbon's works by the year in which they were published:"
   ]
  },
  {
   "cell_type": "code",
   "execution_count": 32,
   "metadata": {},
   "outputs": [
    {
     "name": "stdout",
     "output_type": "stream",
     "text": [
      "{1928: ['205174252.txt'], 1930: ['205202834.txt'], 1931: ['205174244.txt', '205174242.txt'], 1932: ['205174245.txt', '205174248.txt', '205174251.txt', '205174243.txt'], 1933: ['205174246.txt', '205174249.txt', '205174247.txt'], 1934: ['205174254.txt', '205174255.txt', '205174241.txt', '205174253.txt', '205174250.txt']}\n"
     ]
    }
   ],
   "source": [
    "pub_yr = {1928: [], 1930: [], 1931: [], 1932: [], 1933: [], 1934: []}\n",
    "for index,row in df_pub.iterrows():\n",
    "    pub_yr[row[3]] += [row[0]]\n",
    "print(pub_yr)"
   ]
  },
  {
   "cell_type": "markdown",
   "metadata": {},
   "source": [
    "Perfect!\n",
    "\n",
    "**Step 2:** Now we'll calculate the lexical diversity across all works published each year from 1928 through 1934 (excluding 1929, since the LGG dataset doesn't include any works published that year):"
   ]
  },
  {
   "cell_type": "code",
   "execution_count": 33,
   "metadata": {},
   "outputs": [
    {
     "name": "stdout",
     "output_type": "stream",
     "text": [
      "[0.23601900972590628, 0.13228779469423085, 0.1292755998169271, 0.10706277290694641, 0.09077813517219867, 0.11163986470867093]\n"
     ]
    }
   ],
   "source": [
    "lexdiv_by_year = []\n",
    "for key,value in pub_yr.items():\n",
    "    lexdiv_by_file = []\n",
    "    for fileid in value:\n",
    "        file_words = wordlists.words(fileid)\n",
    "        str_words = [str(w.lower()) for w in file_words if w.isalpha()]\n",
    "        lexdiv_by_file += [lexicalDiversity(str_words)]\n",
    "    lexdiv_by_year += [sum(lexdiv_by_file)/len(lexdiv_by_file)]\n",
    "print(lexdiv_by_year)"
   ]
  },
  {
   "cell_type": "code",
   "execution_count": 34,
   "metadata": {},
   "outputs": [
    {
     "data": {
      "text/plain": [
       "{1928: 0.23601900972590628,\n",
       " 1930: 0.13228779469423085,\n",
       " 1931: 0.1292755998169271,\n",
       " 1932: 0.10706277290694641,\n",
       " 1933: 0.09077813517219867,\n",
       " 1934: 0.11163986470867093}"
      ]
     },
     "execution_count": 34,
     "metadata": {},
     "output_type": "execute_result"
    }
   ],
   "source": [
    "pub_years = [1928, 1930, 1931, 1932, 1933, 1934]\n",
    "pub_lex = dict(zip(pub_years, lexdiv_by_year))\n",
    "pub_lex"
   ]
  },
  {
   "cell_type": "code",
   "execution_count": 35,
   "metadata": {},
   "outputs": [
    {
     "data": {
      "text/html": [
       "\n",
       "<div id=\"altair-viz-a506e82fcb0642a6bef36ea681f7f2fa\"></div>\n",
       "<script type=\"text/javascript\">\n",
       "  (function(spec, embedOpt){\n",
       "    let outputDiv = document.currentScript.previousElementSibling;\n",
       "    if (outputDiv.id !== \"altair-viz-a506e82fcb0642a6bef36ea681f7f2fa\") {\n",
       "      outputDiv = document.getElementById(\"altair-viz-a506e82fcb0642a6bef36ea681f7f2fa\");\n",
       "    }\n",
       "    const paths = {\n",
       "      \"vega\": \"https://cdn.jsdelivr.net/npm//vega@5?noext\",\n",
       "      \"vega-lib\": \"https://cdn.jsdelivr.net/npm//vega-lib?noext\",\n",
       "      \"vega-lite\": \"https://cdn.jsdelivr.net/npm//vega-lite@4.8.1?noext\",\n",
       "      \"vega-embed\": \"https://cdn.jsdelivr.net/npm//vega-embed@6?noext\",\n",
       "    };\n",
       "\n",
       "    function loadScript(lib) {\n",
       "      return new Promise(function(resolve, reject) {\n",
       "        var s = document.createElement('script');\n",
       "        s.src = paths[lib];\n",
       "        s.async = true;\n",
       "        s.onload = () => resolve(paths[lib]);\n",
       "        s.onerror = () => reject(`Error loading script: ${paths[lib]}`);\n",
       "        document.getElementsByTagName(\"head\")[0].appendChild(s);\n",
       "      });\n",
       "    }\n",
       "\n",
       "    function showError(err) {\n",
       "      outputDiv.innerHTML = `<div class=\"error\" style=\"color:red;\">${err}</div>`;\n",
       "      throw err;\n",
       "    }\n",
       "\n",
       "    function displayChart(vegaEmbed) {\n",
       "      vegaEmbed(outputDiv, spec, embedOpt)\n",
       "        .catch(err => showError(`Javascript Error: ${err.message}<br>This usually means there's a typo in your chart specification. See the javascript console for the full traceback.`));\n",
       "    }\n",
       "\n",
       "    if(typeof define === \"function\" && define.amd) {\n",
       "      requirejs.config({paths});\n",
       "      require([\"vega-embed\"], displayChart, err => showError(`Error loading script: ${err.message}`));\n",
       "    } else if (typeof vegaEmbed === \"function\") {\n",
       "      displayChart(vegaEmbed);\n",
       "    } else {\n",
       "      loadScript(\"vega\")\n",
       "        .then(() => loadScript(\"vega-lite\"))\n",
       "        .then(() => loadScript(\"vega-embed\"))\n",
       "        .catch(showError)\n",
       "        .then(() => displayChart(vegaEmbed));\n",
       "    }\n",
       "  })({\"config\": {\"view\": {\"continuousWidth\": 400, \"continuousHeight\": 300, \"strokeWidth\": 0}, \"axis\": {\"grid\": false, \"labelAngle\": 0, \"labelFontSize\": 12, \"titleFontSize\": 12}, \"title\": {\"fontSize\": 14}}, \"data\": {\"name\": \"data-605a6fa27e1e9b8c424fd7f329a4fae4\"}, \"mark\": {\"type\": \"bar\", \"size\": 60}, \"encoding\": {\"x\": {\"type\": \"ordinal\", \"axis\": {\"title\": \"Year of Publication\"}, \"field\": \"Year\"}, \"y\": {\"type\": \"quantitative\", \"axis\": {\"format\": \"%\", \"title\": \"Average Lexical Diversity\"}, \"field\": \"Average Lexical Diversity\"}}, \"title\": \"Average Yearly Lexical Diversity of Gibbon First Editions\", \"width\": 365, \"$schema\": \"https://vega.github.io/schema/vega-lite/v4.8.1.json\", \"datasets\": {\"data-605a6fa27e1e9b8c424fd7f329a4fae4\": [{\"Year\": 1928, \"Average Lexical Diversity\": 0.23601900972590628}, {\"Year\": 1930, \"Average Lexical Diversity\": 0.13228779469423085}, {\"Year\": 1931, \"Average Lexical Diversity\": 0.1292755998169271}, {\"Year\": 1932, \"Average Lexical Diversity\": 0.10706277290694641}, {\"Year\": 1933, \"Average Lexical Diversity\": 0.09077813517219867}, {\"Year\": 1934, \"Average Lexical Diversity\": 0.11163986470867093}]}}, {\"mode\": \"vega-lite\"});\n",
       "</script>"
      ],
      "text/plain": [
       "alt.Chart(...)"
      ]
     },
     "execution_count": 35,
     "metadata": {},
     "output_type": "execute_result"
    }
   ],
   "source": [
    "source = pd.DataFrame({\n",
    "    'Year': pub_years,\n",
    "    'Average Lexical Diversity': lexdiv_by_year\n",
    "})\n",
    "\n",
    "alt.Chart(source, title=\"Average Yearly Lexical Diversity of Gibbon First Editions\").mark_bar(size=60).encode(\n",
    "    alt.X('Year', axis=alt.Axis(title='Year of Publication'), type='ordinal'),\n",
    "    alt.Y('Average Lexical Diversity', axis=alt.Axis(format='%', title='Average Lexical Diversity'))\n",
    ").configure_axis(\n",
    "    grid=False,\n",
    "    labelFontSize=12,\n",
    "    titleFontSize=12,\n",
    "    labelAngle=0\n",
    ").configure_title(\n",
    "    fontSize=14,\n",
    ").configure_view(\n",
    "    strokeWidth=0\n",
    ").properties(\n",
    "    width=365\n",
    ")\n"
   ]
  },
  {
   "cell_type": "markdown",
   "metadata": {},
   "source": [
    "So Gibbon's lexical diversity does decrease over time, excepting a small increase in the last year he published, 1934!"
   ]
  }
 ],
 "metadata": {
  "kernelspec": {
   "display_name": "Python 3",
   "language": "python",
   "name": "python3"
  },
  "language_info": {
   "codemirror_mode": {
    "name": "ipython",
    "version": 3
   },
   "file_extension": ".py",
   "mimetype": "text/x-python",
   "name": "python",
   "nbconvert_exporter": "python",
   "pygments_lexer": "ipython3",
   "version": "3.6.3"
  }
 },
 "nbformat": 4,
 "nbformat_minor": 4
}
