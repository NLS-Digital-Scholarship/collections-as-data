{
 "cells": [
  {
   "cell_type": "markdown",
   "metadata": {},
   "source": [
    "# Britain and UK Handbooks as Data\n",
    "\n",
    "Created in July and August 2020 for the National Library of Scotland's Data Foundry by Lucy Havens, Digital Library Research Intern"
   ]
  },
  {
   "cell_type": "markdown",
   "metadata": {},
   "source": [
    "### About the Britain and UK Handbooks Dataset\n",
    "The data consists of digitized text from select Britain and UK Handbooks produced between 1954 and 2005.  A central statistics bureau produced the Handbooks each year to communicate information about the UK that would impress international diplomats.\n",
    "* Data format: digitized text\n",
    "* Data creation process: Optical Character Recognition (OCR)\n",
    "* Data source: https://data.nls.uk/digitised-collections/britain-uk-handbooks/"
   ]
  },
  {
   "cell_type": "markdown",
   "metadata": {},
   "source": [
    "### 0. Preparation\n",
    "Import libraries to use for cleaning, summarizing and exploring the data:"
   ]
  },
  {
   "cell_type": "code",
   "execution_count": 22,
   "metadata": {},
   "outputs": [
    {
     "name": "stderr",
     "output_type": "stream",
     "text": [
      "[nltk_data] Downloading package punkt to /Users/lucy/nltk_data...\n",
      "[nltk_data]   Package punkt is already up-to-date!\n"
     ]
    }
   ],
   "source": [
    "# To prevent SSL certificate failure\n",
    "import os, ssl\n",
    "if (not os.environ.get('PYTHONHTTPSVERIFY', '') and\n",
    "    getattr(ssl, '_create_unverified_context', None)):\n",
    "    ssl._create_default_https_context = ssl._create_unverified_context\n",
    "\n",
    "# Libraries for data loading\n",
    "import pandas as pd\n",
    "import numpy as np\n",
    "import string\n",
    "import re\n",
    "\n",
    "# Libraries for visualization\n",
    "import altair as alt\n",
    "import matplotlib.pyplot as plt\n",
    "\n",
    "# Libraries for text analysis\n",
    "import nltk\n",
    "from nltk.tokenize import word_tokenize\n",
    "nltk.download('punkt')\n",
    "from nltk.corpus import PlaintextCorpusReader\n",
    "from nltk.text import Text"
   ]
  },
  {
   "cell_type": "markdown",
   "metadata": {},
   "source": [
    "The nls-text-handbooks folder contains TXT files of digitized text, with numerical names, as well as a CSV inventory file and a TXT ReadMe file.  Load only the TXT files of digitized text:"
   ]
  },
  {
   "cell_type": "code",
   "execution_count": 19,
   "metadata": {},
   "outputs": [
    {
     "name": "stdout",
     "output_type": "stream",
     "text": [
      "['BRITAIN', '1979', '3W', '+', 'L', 'Capita', '!', 'Edinburgh', 'Population', '5']\n"
     ]
    }
   ],
   "source": [
    "corpus_folder = 'data/nls-text-handbooks/'\n",
    "wordlists = PlaintextCorpusReader(corpus_folder, '\\d.*', encoding='latin1')\n",
    "corpus_tokens = wordlists.words()\n",
    "print(corpus_tokens[:10])"
   ]
  },
  {
   "cell_type": "markdown",
   "metadata": {},
   "source": [
    "It's hard to get a sense of how accurately the text has been digitized from this list of 10 words, so let's look at one of these words in context.  To see phrases in which \"Edinburgh\" is used, we can use the concordance() method:"
   ]
  },
  {
   "cell_type": "code",
   "execution_count": 23,
   "metadata": {},
   "outputs": [
    {
     "name": "stdout",
     "output_type": "stream",
     "text": [
      "Displaying 50 of 2579 matches:\n",
      "BRITAIN 1979 3W + L Capita ! Edinburgh Population 5 , 196 / GOO ENGLAND A\n",
      "ondon WC1V 6HB 13a Castle Street , Edinburgh EH2 3AR 41 The Hayes , Cardiff CF1\n",
      "ield Liverpool Manchester Bradford Edinburgh Bristol Belfast Coventry Cardiff s\n",
      "Counsellors of State ( the Duke of Edinburgh , the four adult persons next in s\n",
      "ments , accompanied by the Duke of Edinburgh , and undertakes lengthy tours in \n",
      "y government bookshops in London , Edinburgh , Cardiff , Belfast , Manchester ,\n",
      "five Scottish departments based in Edinburgh and known as the Scottish Office .\n",
      " is centred in the Crown Office in Edinburgh . The Parliamentary Draftsmen for \n",
      ". The main seat of the court is in Edinburgh where all appeals are heard . All \n",
      " The Court of Session sits only in Edinburgh , and has jurisdiction to deal wit\n",
      "ersities are : Aberdeen , Dundee , Edinburgh , Glasgow , Heriot - Watt ( Edinbu\n",
      "nburgh , Glasgow , Heriot - Watt ( Edinburgh ), St . Andrews , Stirling , and S\n",
      ". Andrews , Glasgow , Aberdeen and Edinburgh from the fifteenth and sixteenth c\n",
      "the Pentland Hills to the south of Edinburgh . Over 98 per cent of the land in \n",
      " , a major commercial centre , and Edinburgh , Scotland s capital , an administ\n",
      " , bife and Dundee , as well as in Edinburgh , where this and other modern indu\n",
      "c Services Station , East Craigs , Edinburgh , provide scientific and technical\n",
      "similar service between London and Edinburgh in May 1978 and the construction o\n",
      "t England and on the route linking Edinburgh , Newcastle upon Tyne , Birmingham\n",
      "e been introduced from Heathrow to Edinburgh and Belfast . Joint shuttle servic\n",
      "n the south - east , and Glasgow , Edinburgh , Prestwick and Aberdeen in Scotla\n",
      "ties at Aldergrove . Conditions at Edinburgh airport have been improved conside\n",
      "ducted by the Philatelic Bureau in Edinburgh . The British Postal Consultancy S\n",
      "in London , Birmingham , Cardiff , Edinburgh , Leeds , Manchester and Norwich .\n",
      " Sussex ), the Royal Observatory , Edinburgh , and the Rutherford Laboratory at\n",
      "vatory and the Royal Observatory , Edinburgh , under the SRC . Instruments incl\n",
      "and research work at East Craigs , Edinburgh , by the Agricultural Scientific S\n",
      "n Research Station , Roslin , near Edinburgh . By means of grants , aid is also\n",
      "lants . The Royal Botanic Garden , Edinburgh ( founded in 1670 ), has , since 1\n",
      "her well - known zoos are those at Edinburgh , Bristol , Chester , Dudley , Che\n",
      "tivals held in Bath , Cheltenham , Edinburgh and other centres are also well kn\n",
      "ouncil is applied to activities in Edinburgh . In Northern Ireland there is an \n",
      "s ; among the better known are the Edinburgh International Festival , the Royal\n",
      "e Swansea Philharmonic Choir , the Edinburgh Royal Choral Union and the Belfast\n",
      "rts Councils maintain galleries in Edinburgh , Glasgow , and Cardiff respective\n",
      "ional museums and art galleries in Edinburgh : the National Museum of Antiquiti\n",
      "cademy holds annual exhibitions in Edinburgh . An increasing number of amateur \n",
      "h as those of the Signet Library , Edinburgh , and the London Library , there a\n",
      " Libraries THE ARTS 403 Society of Edinburgh , the British Theatre Association \n",
      " , and the university libraries of Edinburgh and Glasgow have over 1 million vo\n",
      "00 , are The Scotsman published in Edinburgh ; the Glasgow Herald ', the Daily \n",
      " , 000 and are the Evening News of Edinburgh , Glasgowâ  s Evening Times , Du\n",
      "bank Sports Centre administered by Edinburgh District Council ) cater for a wid\n",
      "8510 6 Housing Return for Scotland Edinburgh , HMSO Housing Summary Tables Cens\n",
      " , 106 mineral rights 241 Office , Edinburgh 53 , 83 Crown , The see Monarchy a\n",
      " of Cornwall 23 Dudley 197 Duke of Edinburgh 22 Duke of Edinburgh ' s Award Sch\n",
      "y 197 Duke of Edinburgh 22 Duke of Edinburgh ' s Award Scheme 155 Dumbarton 256\n",
      "s , Finance , Industry anc / Trade Edinburgh 11 , 50 , 85 , 95 , 146 , 200 , 20\n",
      "ege of Nursing 120 o Observatory : Edinburgh , Royal 374 , 375 Royal Greenwich \n",
      "ondon WC1V 6HB 13a Castle Street , Edinburgh EH2 3AR 41 The Hayes , Cardiff CF1\n"
     ]
    }
   ],
   "source": [
    "t = Text(corpus_tokens)\n",
    "t.concordance('Edinburgh', lines=50)"
   ]
  },
  {
   "cell_type": "markdown",
   "metadata": {},
   "source": [
    "I'm guessing \"bife\" should be \"Fife\" as it's closely followed by \"Dundee,\" but overall not so bad!\n",
    "\n",
    "We can also load individual files from the nls-text-handbooks folder:"
   ]
  },
  {
   "cell_type": "code",
   "execution_count": 17,
   "metadata": {},
   "outputs": [
    {
     "data": {
      "text/plain": [
       "['GH', '.', 'fl-', '[', 'IASG0', '>', 'J^RSEI', 'nice', ']', 'ROME']"
      ]
     },
     "execution_count": 17,
     "metadata": {},
     "output_type": "execute_result"
    }
   ],
   "source": [
    "file = open('data/nls-text-handbooks/205336772.txt', 'r')\n",
    "sample_text = file.read()\n",
    "sample_tokens = word_tokenize(sample_text)\n",
    "sample_tokens[:10]"
   ]
  },
  {
   "cell_type": "markdown",
   "metadata": {},
   "source": [
    "However, in this Notebook, we're interested in the entire dataset, so we'll stick "
   ]
  },
  {
   "cell_type": "markdown",
   "metadata": {},
   "source": [
    "### 1. Data Cleaning"
   ]
  },
  {
   "cell_type": "markdown",
   "metadata": {},
   "source": [
    "[Code cells in this section will have one function each, preceded by comments as markdown above the cell to narrate the cleaning process]"
   ]
  },
  {
   "cell_type": "code",
   "execution_count": null,
   "metadata": {},
   "outputs": [],
   "source": [
    "# code goes here"
   ]
  },
  {
   "cell_type": "markdown",
   "metadata": {},
   "source": [
    "### 2. Summary Statistics\n",
    "[Code cells in this section will have one function each, preceded with comments in a markdown cell narrating the summarization process]"
   ]
  },
  {
   "cell_type": "markdown",
   "metadata": {},
   "source": [
    "#### 2.1 Dataset Size"
   ]
  },
  {
   "cell_type": "markdown",
   "metadata": {},
   "source": [
    "[Narration]"
   ]
  },
  {
   "cell_type": "code",
   "execution_count": null,
   "metadata": {},
   "outputs": [],
   "source": [
    "# code goes here"
   ]
  },
  {
   "cell_type": "markdown",
   "metadata": {},
   "source": [
    "#### 2.2 Uniqueness and Variety"
   ]
  },
  {
   "cell_type": "markdown",
   "metadata": {},
   "source": [
    "[Narration]"
   ]
  },
  {
   "cell_type": "code",
   "execution_count": null,
   "metadata": {},
   "outputs": [],
   "source": [
    "# code goes here"
   ]
  },
  {
   "cell_type": "markdown",
   "metadata": {},
   "source": [
    "### 3. Exploratory Analysis (this section will be included for 2-3 datasets)\n",
    "[Code cells in this section will have one function each, preceded with comments in a markdown cell posing an exploratory research question]"
   ]
  },
  {
   "cell_type": "markdown",
   "metadata": {},
   "source": [
    "#### 3.1 [exploratory research question 1]"
   ]
  },
  {
   "cell_type": "code",
   "execution_count": 2,
   "metadata": {},
   "outputs": [],
   "source": [
    "# code goes here"
   ]
  },
  {
   "cell_type": "code",
   "execution_count": null,
   "metadata": {},
   "outputs": [],
   "source": [
    "# visualizations go here"
   ]
  },
  {
   "cell_type": "markdown",
   "metadata": {},
   "source": [
    "#### 3.2 [exploratory research question 2]"
   ]
  },
  {
   "cell_type": "code",
   "execution_count": 2,
   "metadata": {},
   "outputs": [],
   "source": [
    "# code goes here"
   ]
  },
  {
   "cell_type": "code",
   "execution_count": 3,
   "metadata": {},
   "outputs": [],
   "source": [
    "# visualizations go here"
   ]
  }
 ],
 "metadata": {
  "kernelspec": {
   "display_name": "Python 3",
   "language": "python",
   "name": "python3"
  },
  "language_info": {
   "codemirror_mode": {
    "name": "ipython",
    "version": 3
   },
   "file_extension": ".py",
   "mimetype": "text/x-python",
   "name": "python",
   "nbconvert_exporter": "python",
   "pygments_lexer": "ipython3",
   "version": "3.6.3"
  }
 },
 "nbformat": 4,
 "nbformat_minor": 4
}
