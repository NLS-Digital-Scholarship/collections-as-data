{
 "cells": [
  {
   "cell_type": "markdown",
   "metadata": {},
   "source": [
    "# Britain and UK Handbooks as Data\n",
    "\n",
    "Created in July-September 2020 for the National Library of Scotland's Data Foundry by Lucy Havens, Digital Library Research Intern"
   ]
  },
  {
   "cell_type": "markdown",
   "metadata": {},
   "source": [
    "### About the *Britain and UK Handbooks* Dataset\n",
    "The data consists of digitized text from select Britain and UK Handbooks produced between 1954 and 2005.  A central statistics bureau (the Central Statistical Office until 1 April 1966, when it merged with the Office of Population Censuses and Surveys and became the Office for National Statistics) produced the Handbooks each year to communicate information about the UK that would impress international diplomats.  The Handbooks provide a factual skeleton of the UK, focusing on reporting quantitative information and a civil service perspective.\n",
    "\n",
    "* Data format: digitized text\n",
    "* Data creation process: Optical Character Recognition (OCR)\n",
    "* Data source: https://data.nls.uk/digitised-collections/britain-uk-handbooks/\n",
    "\n",
    "***\n",
    "### Table of Contents\n",
    "0. [Preparation](#0.-Preparation)\n",
    "1. [Data Cleaning and Standardisation](#1.-Data-Cleaning-and-Standardisation)\n",
    "2. [Summary Statistics](#2.-Summary-Statistics)\n",
    "3. [Exploratory Analysis](#3.-Exploratory-Analysis)\n",
    "***"
   ]
  },
  {
   "cell_type": "markdown",
   "metadata": {},
   "source": [
    "### 0. Preparation\n",
    "Import libraries to use for cleaning, summarizing and exploring the data:"
   ]
  },
  {
   "cell_type": "code",
   "execution_count": 2,
   "metadata": {},
   "outputs": [
    {
     "name": "stderr",
     "output_type": "stream",
     "text": [
      "[nltk_data] Downloading package punkt to /Users/lucy/nltk_data...\n",
      "[nltk_data]   Package punkt is already up-to-date!\n",
      "[nltk_data] Downloading package wordnet to /Users/lucy/nltk_data...\n",
      "[nltk_data]   Package wordnet is already up-to-date!\n",
      "[nltk_data] Downloading package averaged_perceptron_tagger to\n",
      "[nltk_data]     /Users/lucy/nltk_data...\n",
      "[nltk_data]   Package averaged_perceptron_tagger is already up-to-\n",
      "[nltk_data]       date!\n",
      "[nltk_data] Downloading package tagsets to /Users/lucy/nltk_data...\n",
      "[nltk_data]   Package tagsets is already up-to-date!\n"
     ]
    }
   ],
   "source": [
    "# To prevent SSL certificate failure\n",
    "import os, ssl\n",
    "if (not os.environ.get('PYTHONHTTPSVERIFY', '') and\n",
    "    getattr(ssl, '_create_unverified_context', None)):\n",
    "    ssl._create_default_https_context = ssl._create_unverified_context\n",
    "\n",
    "# Libraries for data loading\n",
    "import pandas as pd\n",
    "import numpy as np\n",
    "import string\n",
    "import re\n",
    "\n",
    "# Libraries for visualization\n",
    "import altair as alt\n",
    "import matplotlib.pyplot as plt\n",
    "\n",
    "# Libraries for text analysis\n",
    "import nltk\n",
    "from nltk.tokenize import word_tokenize, sent_tokenize\n",
    "nltk.download('punkt')\n",
    "from nltk.corpus import PlaintextCorpusReader\n",
    "nltk.download('wordnet')\n",
    "from nltk.corpus import wordnet\n",
    "from nltk.corpus import stopwords\n",
    "from nltk.text import Text\n",
    "from nltk.stem.porter import PorterStemmer\n",
    "from nltk.probability import FreqDist\n",
    "nltk.download('averaged_perceptron_tagger')\n",
    "from nltk.tag import pos_tag\n",
    "nltk.download('tagsets')  # part of speech tags\n",
    "from nltk.draw.dispersion import dispersion_plot as displt"
   ]
  },
  {
   "cell_type": "markdown",
   "metadata": {},
   "source": [
    "The nls-text-handbooks folder (downloadable as *Just the text* data from the website at the top of this notebook) contains TXT files of digitised text, with numerical names, as well as a CSV inventory file and a TXT ReadMe file.  Load only the TXT files of digitised text and **tokenise** the text (which splits a string into separate words, numbers, and punctuation):"
   ]
  },
  {
   "cell_type": "code",
   "execution_count": 3,
   "metadata": {},
   "outputs": [
    {
     "name": "stdout",
     "output_type": "stream",
     "text": [
      "['BRITAIN', '1979', '3W', '+', 'L', 'Capita', '!', 'Edinburgh', 'Population', '5']\n"
     ]
    }
   ],
   "source": [
    "corpus_folder = 'data/nls-text-handbooks/'\n",
    "wordlists = PlaintextCorpusReader(corpus_folder, '\\d.*', encoding='latin1')\n",
    "corpus_tokens = wordlists.words()\n",
    "print(corpus_tokens[:10])"
   ]
  },
  {
   "cell_type": "markdown",
   "metadata": {},
   "source": [
    "It's hard to get a sense of how accurately the text has been digitized from this list of 10 tokens, so let's look at one of these words in context.  To see phrases in which \"Edinburgh\" is used, we can use the concordance() method:"
   ]
  },
  {
   "cell_type": "code",
   "execution_count": 4,
   "metadata": {},
   "outputs": [
    {
     "name": "stdout",
     "output_type": "stream",
     "text": [
      "Displaying 20 of 2579 matches:\n",
      "BRITAIN 1979 3W + L Capita ! Edinburgh Population 5 , 196 / GOO ENGLAND A\n",
      "ondon WC1V 6HB 13a Castle Street , Edinburgh EH2 3AR 41 The Hayes , Cardiff CF1\n",
      "ield Liverpool Manchester Bradford Edinburgh Bristol Belfast Coventry Cardiff s\n",
      "Counsellors of State ( the Duke of Edinburgh , the four adult persons next in s\n",
      "ments , accompanied by the Duke of Edinburgh , and undertakes lengthy tours in \n",
      "y government bookshops in London , Edinburgh , Cardiff , Belfast , Manchester ,\n",
      "five Scottish departments based in Edinburgh and known as the Scottish Office .\n",
      " is centred in the Crown Office in Edinburgh . The Parliamentary Draftsmen for \n",
      ". The main seat of the court is in Edinburgh where all appeals are heard . All \n",
      " The Court of Session sits only in Edinburgh , and has jurisdiction to deal wit\n",
      "ersities are : Aberdeen , Dundee , Edinburgh , Glasgow , Heriot - Watt ( Edinbu\n",
      "nburgh , Glasgow , Heriot - Watt ( Edinburgh ), St . Andrews , Stirling , and S\n",
      ". Andrews , Glasgow , Aberdeen and Edinburgh from the fifteenth and sixteenth c\n",
      "the Pentland Hills to the south of Edinburgh . Over 98 per cent of the land in \n",
      " , a major commercial centre , and Edinburgh , Scotland s capital , an administ\n",
      " , bife and Dundee , as well as in Edinburgh , where this and other modern indu\n",
      "c Services Station , East Craigs , Edinburgh , provide scientific and technical\n",
      "similar service between London and Edinburgh in May 1978 and the construction o\n",
      "t England and on the route linking Edinburgh , Newcastle upon Tyne , Birmingham\n",
      "e been introduced from Heathrow to Edinburgh and Belfast . Joint shuttle servic\n"
     ]
    }
   ],
   "source": [
    "t = Text(corpus_tokens)\n",
    "t.concordance('Edinburgh', lines=20)"
   ]
  },
  {
   "cell_type": "markdown",
   "metadata": {},
   "source": [
    "I'm guessing `bife` should be `Fife` as it's closely followed by `Dundee`, but overall not so bad!\n",
    "\n",
    "We can also load individual files from the nls-text-handbooks folder:"
   ]
  },
  {
   "cell_type": "code",
   "execution_count": 5,
   "metadata": {},
   "outputs": [
    {
     "name": "stdout",
     "output_type": "stream",
     "text": [
      "['GH', '.', 'fl-', '[', 'IASG0', '>', 'J^RSEI', 'nice', ']', 'ROME']\n"
     ]
    }
   ],
   "source": [
    "file = open('data/nls-text-handbooks/205336772.txt', 'r')\n",
    "sample_text = file.read()\n",
    "sample_tokens = word_tokenize(sample_text)\n",
    "print(sample_tokens[:10])"
   ]
  },
  {
   "cell_type": "markdown",
   "metadata": {},
   "source": [
    "However, in this Notebook, we're interested in the entire dataset, so we'll use all its files.  Let's find out just how many files, and just how much text, we're working with.\n",
    "\n",
    "#### 0.1 Dataset Size"
   ]
  },
  {
   "cell_type": "code",
   "execution_count": 6,
   "metadata": {},
   "outputs": [
    {
     "name": "stdout",
     "output_type": "stream",
     "text": [
      "Total...\n",
      "  Characters in Handbooks Data: 90573254\n",
      "  Tokens in Handbooks Data: 16606800\n",
      "  Sentences in Handbooks Data: 584618\n",
      "  Files in Handbooks Data: 50\n"
     ]
    }
   ],
   "source": [
    "def corpusStatistics(plaintext_corpus_read_lists):\n",
    "    total_chars = 0\n",
    "    total_tokens = 0\n",
    "    total_sents = 0\n",
    "    total_files = 0\n",
    "    for fileid in plaintext_corpus_read_lists.fileids():\n",
    "        total_chars += len(plaintext_corpus_read_lists.raw(fileid))\n",
    "        total_tokens += len(plaintext_corpus_read_lists.words(fileid))\n",
    "        total_sents += len(plaintext_corpus_read_lists.sents(fileid))\n",
    "        total_files += 1\n",
    "    print(\"Total...\")\n",
    "    print(\"  Characters in Handbooks Data:\", total_chars)\n",
    "    print(\"  Tokens in Handbooks Data:\", total_tokens)\n",
    "    print(\"  Sentences in Handbooks Data:\", total_sents)\n",
    "    print(\"  Files in Handbooks Data:\", total_files)\n",
    "\n",
    "corpusStatistics(wordlists)"
   ]
  },
  {
   "cell_type": "markdown",
   "metadata": {},
   "source": [
    "Note that I've print ``Tokens`` rather than words, though the NLTK method used to count those was ``.words()``.  This is because words in NLTK include punctuation marks and digits, in addition to alphabetic words.\n",
    "\n",
    "Across the 50 files that make up the Handbooks dataset, there are over 90 million characters (which could be words, numbers, punctuation, abbreviations, etc.), over 16 million words, and nearly 600,000 sentences.  Of course, OCR isn't perfect, so these numbers are estimates, not precise totals."
   ]
  },
  {
   "cell_type": "markdown",
   "metadata": {},
   "source": [
    "Variables that store the characters, words, and sentences in our dataset will be useful for future analysis.  Let's create those now:"
   ]
  },
  {
   "cell_type": "code",
   "execution_count": 7,
   "metadata": {},
   "outputs": [],
   "source": [
    "def getCharsWordsSents(plaintext_corpus_read_lists):\n",
    "    all_chars = []\n",
    "    all_words = []\n",
    "    all_words_lower = []\n",
    "    all_sents = []\n",
    "    for fileid in plaintext_corpus_read_lists.fileids():\n",
    "        \n",
    "        file_chars = plaintext_corpus_read_lists.raw(fileid)\n",
    "        all_chars += [str(char).lower() for char in file_chars]\n",
    "        \n",
    "        file_words = plaintext_corpus_read_lists.words(fileid)\n",
    "        all_words_lower += [str(word).lower() for word in file_words if word.isalpha()]\n",
    "        all_words += [str(word) for word in file_words  if word.isalpha()]\n",
    "        \n",
    "        file_sents = sent_tokenize(plaintext_corpus_read_lists.raw(fileid))  #plaintext_corpus_read_lists.sents(fileid)\n",
    "        all_sents += [str(sent) for sent in file_sents]\n",
    "        \n",
    "    return all_chars, all_words, all_words_lower, all_sents\n",
    "        \n",
    "handbooks_chars, handbooks_words, handbooks_words_lower, handbooks_sents = getCharsWordsSents(wordlists)"
   ]
  },
  {
   "cell_type": "code",
   "execution_count": 8,
   "metadata": {},
   "outputs": [
    {
     "name": "stdout",
     "output_type": "stream",
     "text": [
      "['b', 'r', 'i', 't', 'a', 'i', 'n', ' ', '1', '9']\n",
      "['o', 'r', 'e', 's', 'b', 'y', '%', 't', '\\r', '\\n']\n",
      "\n",
      "['BRITAIN', 'L', 'Capita', 'Edinburgh', 'Population', 'GOO', 'ENGLAND', 'Area', 'km', 'miles']\n",
      "['AIRWAYS', 'ADEN', 'ALWAYS', 'BAHAMAS', 'AIRWAYS', 'ASSOCIATES', 'August', 'r', 'MORESBY', 'T']\n",
      "\n",
      "['britain', 'l', 'capita', 'edinburgh', 'population', 'goo', 'england', 'area', 'km', 'miles']\n",
      "['airways', 'aden', 'always', 'bahamas', 'airways', 'associates', 'august', 'r', 'moresby', 't']\n",
      "\n",
      "Capita! 1979\n",
      "Capita!q.miles.kmGOO\n",
      "^xt:. i - <1.. i 'i&rr\n",
      "u.\n",
      "(between pp 390 and 391).t structure390);olomgssalaries\n",
      "LABI!BOâr\n",
      "CHICAGO!EAIATED BY BRITISH OVERSEAS AIRWAYS-BRITISH EUROPEAN AIRWA YS-TRANS-CANADA AIR LINES â¢ Q ANT AS EMPIRE AIRWAYS\n",
      "GIBRALTAR!\n",
      "GRAND CAYMAN.\n",
      "MORESBY%TN A1RWA VS â¢ TASMAN EMPIRE AIRWA YS- BRITISH WEST INDIAN AIRWAYS-ADEN ALWAYS BAHAMAS AIRWAYS'* ASSOCIATES\n"
     ]
    }
   ],
   "source": [
    "print(handbooks_chars[:10])\n",
    "print(handbooks_chars[-10:])\n",
    "print()\n",
    "print(handbooks_words[:10])\n",
    "print(handbooks_words[-10:])\n",
    "print()\n",
    "print(handbooks_words_lower[:10])\n",
    "print(handbooks_words_lower[-10:])\n",
    "print()\n",
    "sample_sentences = handbooks_sents[:5] + handbooks_sents[-5:]\n",
    "for s in sample_sentences:\n",
    "    # remove new lines and tabs at the start and end of sentences\n",
    "    s = s.strip('\\n')\n",
    "    s = s.strip('\\t')\n",
    "    # remove new lines and tabs in the middle of sentences\n",
    "    s = s.replace('\\n','')\n",
    "    s = s.replace('\\t','')\n",
    "    print(s)"
   ]
  },
  {
   "cell_type": "markdown",
   "metadata": {},
   "source": [
    "`bife` isn't the only word the OCR incorrectly digitised.  To get a sense of how much of the digitised text we can perform meaningful analysis on, let's figure out how many of NLTK's \"words\" are actually recognisable English words.  We'll use [WordNet](https://wordnet.princeton.edu/),* a database of English words, to evaluate which of NLTK's \"words\" are not valid English words.  Section 1. Data Cleaning and Standardisation walks through how to estimate the amount digitisation mistakes.\n",
    "***\n",
    "  **Princeton University \"About WordNet.\" WordNet. Princeton University. 2010.*"
   ]
  },
  {
   "cell_type": "markdown",
   "metadata": {},
   "source": [
    "#### 0.2 Identifying Subsets of the Data\n",
    "Before we move onto cleaning and standardisation, we'll create a lists and dictionary that will help us easily access subsets of the Handbooks data.  First need to load the inventory (CSV file) that lists which file name corresponds with which text in the Handbooks dataset.  When you open the inventory in Microsoft Excel or a text editor, you can see that there are no column names.  The Python library [Pandas](https://pandas.pydata.org/docs/), which reads CSV files, calls these column names the ``header``.  When we use Pandas to read the inventory, we'll create our own header by specifying that the CSV file as ``None`` and providing a list of column ``names``.\n",
    "\n",
    "When Pandas (abbreviated ``pd`` when we loaded libraries in the first cell of this notebook) reads a CSV file, it creates a table called a **DataFrame** from that data.  Let's see what the Handbooks inventory DataFrame looks like:"
   ]
  },
  {
   "cell_type": "code",
   "execution_count": 9,
   "metadata": {},
   "outputs": [
    {
     "data": {
      "text/html": [
       "<div>\n",
       "<style scoped>\n",
       "    .dataframe tbody tr th:only-of-type {\n",
       "        vertical-align: middle;\n",
       "    }\n",
       "\n",
       "    .dataframe tbody tr th {\n",
       "        vertical-align: top;\n",
       "    }\n",
       "\n",
       "    .dataframe thead th {\n",
       "        text-align: right;\n",
       "    }\n",
       "</style>\n",
       "<table border=\"1\" class=\"dataframe\">\n",
       "  <thead>\n",
       "    <tr style=\"text-align: right;\">\n",
       "      <th></th>\n",
       "      <th>fileid</th>\n",
       "      <th>title</th>\n",
       "    </tr>\n",
       "  </thead>\n",
       "  <tbody>\n",
       "    <tr>\n",
       "      <th>0</th>\n",
       "      <td>189742208.txt</td>\n",
       "      <td>Britain: An official handbook - 1979 - GII.11</td>\n",
       "    </tr>\n",
       "    <tr>\n",
       "      <th>1</th>\n",
       "      <td>189742209.txt</td>\n",
       "      <td>Britain: An official handbook - 1980 - GII.11</td>\n",
       "    </tr>\n",
       "    <tr>\n",
       "      <th>2</th>\n",
       "      <td>189742210.txt</td>\n",
       "      <td>Britain: An official handbook - 1981 - GII.11</td>\n",
       "    </tr>\n",
       "    <tr>\n",
       "      <th>3</th>\n",
       "      <td>189742211.txt</td>\n",
       "      <td>Britain: An official handbook - 1982 - GII.11</td>\n",
       "    </tr>\n",
       "    <tr>\n",
       "      <th>4</th>\n",
       "      <td>189742212.txt</td>\n",
       "      <td>Britain: An official handbook - 1983 - GII.11</td>\n",
       "    </tr>\n",
       "  </tbody>\n",
       "</table>\n",
       "</div>"
      ],
      "text/plain": [
       "          fileid                                          title\n",
       "0  189742208.txt  Britain: An official handbook - 1979 - GII.11\n",
       "1  189742209.txt  Britain: An official handbook - 1980 - GII.11\n",
       "2  189742210.txt  Britain: An official handbook - 1981 - GII.11\n",
       "3  189742211.txt  Britain: An official handbook - 1982 - GII.11\n",
       "4  189742212.txt  Britain: An official handbook - 1983 - GII.11"
      ]
     },
     "execution_count": 9,
     "metadata": {},
     "output_type": "execute_result"
    }
   ],
   "source": [
    "df = pd.read_csv('data/nls-text-handbooks/handbooks-inventory.csv', header=None, names=['fileid', 'title'])\n",
    "df.head()  # df.head() returns the first 5 rows of a table, df.tail() returns the last 5 rows of the table, and df returns the entire table"
   ]
  },
  {
   "cell_type": "markdown",
   "metadata": {},
   "source": [
    "It looks like the titles of the handbooks in this collection changes over time!  The returned DataFrame (the inventory table) isn't showing the entire titles, so let's increase the maximum width of the columns:"
   ]
  },
  {
   "cell_type": "code",
   "execution_count": 10,
   "metadata": {},
   "outputs": [
    {
     "data": {
      "text/html": [
       "<div>\n",
       "<style scoped>\n",
       "    .dataframe tbody tr th:only-of-type {\n",
       "        vertical-align: middle;\n",
       "    }\n",
       "\n",
       "    .dataframe tbody tr th {\n",
       "        vertical-align: top;\n",
       "    }\n",
       "\n",
       "    .dataframe thead th {\n",
       "        text-align: right;\n",
       "    }\n",
       "</style>\n",
       "<table border=\"1\" class=\"dataframe\">\n",
       "  <thead>\n",
       "    <tr style=\"text-align: right;\">\n",
       "      <th></th>\n",
       "      <th>fileid</th>\n",
       "      <th>title</th>\n",
       "    </tr>\n",
       "  </thead>\n",
       "  <tbody>\n",
       "    <tr>\n",
       "      <th>45</th>\n",
       "      <td>204486117.txt</td>\n",
       "      <td>Britain: The official yearbook of the United Kingdom - 2001 - GII.11</td>\n",
       "    </tr>\n",
       "    <tr>\n",
       "      <th>46</th>\n",
       "      <td>204882221.txt</td>\n",
       "      <td>UK: The official yearbook of the United Kingdom of Great Britain and Northern Ireland - 2002 - GII.11 SER</td>\n",
       "    </tr>\n",
       "    <tr>\n",
       "      <th>47</th>\n",
       "      <td>204882222.txt</td>\n",
       "      <td>UK: The official yearbook of the United Kingdom of Great Britain and Northern Ireland - 2003 - GII.11 SER</td>\n",
       "    </tr>\n",
       "    <tr>\n",
       "      <th>48</th>\n",
       "      <td>204882223.txt</td>\n",
       "      <td>UK: The official yearbook of the United Kingdom of Great Britain and Northern Ireland - 2005 - GII.11 SER</td>\n",
       "    </tr>\n",
       "    <tr>\n",
       "      <th>49</th>\n",
       "      <td>205336772.txt</td>\n",
       "      <td>Britain: An official handbook - 1955 - GII.11</td>\n",
       "    </tr>\n",
       "  </tbody>\n",
       "</table>\n",
       "</div>"
      ],
      "text/plain": [
       "           fileid  \\\n",
       "45  204486117.txt   \n",
       "46  204882221.txt   \n",
       "47  204882222.txt   \n",
       "48  204882223.txt   \n",
       "49  205336772.txt   \n",
       "\n",
       "                                                                                                        title  \n",
       "45                                       Britain: The official yearbook of the United Kingdom - 2001 - GII.11  \n",
       "46  UK: The official yearbook of the United Kingdom of Great Britain and Northern Ireland - 2002 - GII.11 SER  \n",
       "47  UK: The official yearbook of the United Kingdom of Great Britain and Northern Ireland - 2003 - GII.11 SER  \n",
       "48  UK: The official yearbook of the United Kingdom of Great Britain and Northern Ireland - 2005 - GII.11 SER  \n",
       "49                                                              Britain: An official handbook - 1955 - GII.11  "
      ]
     },
     "execution_count": 10,
     "metadata": {},
     "output_type": "execute_result"
    }
   ],
   "source": [
    "pd.set_option('display.max_colwidth', 150)\n",
    "df.tail()"
   ]
  },
  {
   "cell_type": "markdown",
   "metadata": {},
   "source": [
    "Perfect!  Now we can see the full titles for each Handbook file.  It looks like they're not in chronological order, so let's sort the DataFrame by `title`:"
   ]
  },
  {
   "cell_type": "code",
   "execution_count": 11,
   "metadata": {},
   "outputs": [],
   "source": [
    "df = df.sort_values(by=['title'])\n",
    "# df"
   ]
  },
  {
   "cell_type": "markdown",
   "metadata": {},
   "source": [
    "<div class=\"alert alert-block alert-info\">\n",
    "<b>Try It!</b> Uncomment the last line of code in the cell above by removing the `#` before `df` to see the sorted DataFrame.  Are the titles ordered chronologically?\n",
    "</div>"
   ]
  },
  {
   "cell_type": "markdown",
   "metadata": {},
   "source": [
    "With a DataFrame, we can access individual cells, for example: "
   ]
  },
  {
   "cell_type": "code",
   "execution_count": 12,
   "metadata": {},
   "outputs": [
    {
     "name": "stdout",
     "output_type": "stream",
     "text": [
      "204486084.txt Britain: An official handbook - 1954 - GII.11\n",
      "UK: The official yearbook of the United Kingdom of Great Britain and Northern Ireland - 2005 - GII.11 SER\n",
      "205336772.txt\n"
     ]
    }
   ],
   "source": [
    "# To view the first (index = 0) row's fileid and title:\n",
    "print(df.iloc[0][0], df.iloc[0][1])\n",
    "# To view a title value given a fileid value:\n",
    "print(df[df.fileid == '204882223.txt']['title'].values[0])\n",
    "# To view a fileid value given a title value\n",
    "print(df.loc[df['title'] == 'Britain: An official handbook - 1955 - GII.11'].values[0][0])"
   ]
  },
  {
   "cell_type": "markdown",
   "metadata": {},
   "source": [
    "Now we can create a two dictionaries of fileids and their associated journal titles, so we can easily identify which wordlists correspond with which text in the Handbooks dataset (you can uncomment any lines of code by removing the `#` to see what they print):"
   ]
  },
  {
   "cell_type": "code",
   "execution_count": 13,
   "metadata": {},
   "outputs": [
    {
     "name": "stdout",
     "output_type": "stream",
     "text": [
      "The title for the file ID at index 10:\n",
      " Britain: An official handbook - 1965 - GII.11\n"
     ]
    }
   ],
   "source": [
    "# 1. Obtain a list of all file IDs\n",
    "fileids = list(df[\"fileid\"])\n",
    "# print(\"Sample file IDs from list of file IDs:\\n\", fileids[-5:])\n",
    "# print()\n",
    "\n",
    "# 2. Obtain a list of all titles\n",
    "titles = list(df[\"title\"])\n",
    "# print(\"Sample titles from list of titles:\\n\", titles[-5:])\n",
    "# print()\n",
    "\n",
    "# 3. Create a dictionary where the keys are file IDs and the values are titles\n",
    "inventory = dict(zip(fileids, titles))\n",
    "# print(inventory)\n",
    "# print()\n",
    "\n",
    "# 4. Pick a file ID by its index number...\n",
    "i = 10\n",
    "a_file_id = fileids[i]\n",
    "# ... and get the title corresponding with the file ID in the inventory dictionary\n",
    "print(\"The title for the file ID at index \" + str(i) + \":\\n\", inventory[a_file_id])"
   ]
  },
  {
   "cell_type": "markdown",
   "metadata": {},
   "source": [
    "Python's Natural Language Toolkit (NLTK) library, which we use for text analysis later on, stores the lists of tokens (``worldists`` in the `corpus_tokens` variable we created) by the file IDs, so it's useful to be able to match the file IDs with their handbook text! \n",
    "\n",
    "*However*, the previous `corpus_tokens` is based on the unsorted collection of `wordlists` for the Handbooks dataset.  Let's fix that:"
   ]
  },
  {
   "cell_type": "code",
   "execution_count": 14,
   "metadata": {},
   "outputs": [],
   "source": [
    "def getSortedWordsSents(plaintext_corpus_read_lists):\n",
    "    all_words = []\n",
    "    all_words_lower = []\n",
    "    all_sents = []\n",
    "    \n",
    "    # Iterate through the list of SORTED fileids so that \n",
    "    # the words and sentences are tokenized in chronological order\n",
    "    for fileid in fileids:\n",
    "        file_words = plaintext_corpus_read_lists.words(fileid)\n",
    "        all_words_lower += [str(word).lower() for word in file_words if word.isalpha()]\n",
    "        all_words += [str(word) for word in file_words  if word.isalpha()]\n",
    "        file_sents = sent_tokenize(plaintext_corpus_read_lists.raw(fileid))  \n",
    "        all_sents += [str(sent) for sent in file_sents]\n",
    "        \n",
    "    return all_words, all_words_lower, all_sents\n",
    "        \n",
    "handbooks_words, handbooks_words_lower, handbooks_sents = getSortedWordsSents(wordlists)"
   ]
  },
  {
   "cell_type": "markdown",
   "metadata": {},
   "source": [
    "Now, using the tokens in `handbooks_words`, `handbooks_words_lower`, and `handbooks_sents`, we can analyse changes in the Handbooks dataset over time!"
   ]
  },
  {
   "cell_type": "markdown",
   "metadata": {},
   "source": [
    "### 1. Data Cleaning and Standardisation\n",
    "\n",
    "There are several ways to standardise, or \"normalise,\" text, with each way providing suitable text for different types of analysis.  For example, to study the vocabulary of a text-based dataset, it's useful to remove punctuation and digits, lowercase the remaining alphabetic words, and then reduce those words to their root form (with stemming or lemmatisation - more on this later).  Alternatively, to identify people and places using named entity recognition, it's important to keep capitalisation in words and keep words in the context of their sentences."
   ]
  },
  {
   "cell_type": "markdown",
   "metadata": {},
   "source": [
    "#### 1.1 Tokenisation\n",
    "In section **0. Preparation**, we tokenised the Handbooks dataset when we created the ``corpus_tokens`` list.  ``corpus_tokens`` contains a list of all words, numbers, and punctuation that appear in the Handbooks dataset separated into individual items and organised in the order they appear in the LEDS text files.  In addition to tokenising words, NLTK also provides methods to tokenise sentences.  This is how we counted the number of sentences in section **0.1 Dataset Size**.\n",
    "\n",
    "Tokenized words are helpful when analysing the vocabulary of text. Tokenised sentences are helpful when analysing linguistic patterns of a text.  Let's create lists of tokens as *strings* (String is Python's data format for text) from the LEDS dataset:"
   ]
  },
  {
   "cell_type": "markdown",
   "metadata": {},
   "source": [
    "**Step 1:** First, let's create a list of strings from the words NLTK has identified for us:"
   ]
  },
  {
   "cell_type": "code",
   "execution_count": 15,
   "metadata": {},
   "outputs": [
    {
     "name": "stdout",
     "output_type": "stream",
     "text": [
      "['m', 'Gti', 'i', 'BRITAIN', 'An', 'Official', 'Handbook', 'BRITAIN', 'An', 'Official']\n"
     ]
    }
   ],
   "source": [
    "str_tokens = [str(word) for word in handbooks_words]\n",
    "assert(type(str_tokens[0]) == str)  # quick test to make sure the output is as expected\n",
    "print(str_tokens[0:10])"
   ]
  },
  {
   "cell_type": "markdown",
   "metadata": {},
   "source": [
    "There are digits and punctuation that won't be recognized as words in WordNet but still provide valuable text data for studying the Handbooks.  For example, in the output above, it looks as though the OCR processed the word `Capital` as `Capita!`, which NLTK has split into two.  Furthermore, the word '1979' is a date that puts the text in context, which would enable one to order information in the text by date.\n",
    "\n",
    "**Step 2:** To get an estimate of how accurately OCR digitized the Handbooks, though, we'll use words in the sense that they are recognizable words in the English language.  Let's write a regular expression that can tell us whether a string is a word or abbreviation:"
   ]
  },
  {
   "cell_type": "code",
   "execution_count": 16,
   "metadata": {},
   "outputs": [],
   "source": [
    "isWord = re.compile('[a-zA-z.]+')  # include single letters and abbreviations\n",
    "\n",
    "# ----------- TESTING REGEX -----------\n",
    "# print(isWord.match(\"bife\").group())\n",
    "# print(isWord.match(\"U.S.A.\").group())\n",
    "# print(isWord.match(\"W\").group())\n",
    "# print(isWord.match(\"1979\") == None)"
   ]
  },
  {
   "cell_type": "markdown",
   "metadata": {},
   "source": [
    "**Step 3:** Lastly, let's use that regular expression to write a function to distinguish words recognizable English words from unrecognizable strings:"
   ]
  },
  {
   "cell_type": "code",
   "execution_count": 17,
   "metadata": {},
   "outputs": [],
   "source": [
    "def removeNonEnglishWords(list_of_strings):\n",
    "    english_only = []\n",
    "    nonenglish = []\n",
    "    for s in list_of_strings:\n",
    "        test = isWord.match(s)            # fails if has characters other than letters or a period\n",
    "        if (test != None):\n",
    "            passed = test.group()   # get the matching string\n",
    "            if wordnet.synsets(passed):  # see if WordNet recognizes the matching string\n",
    "                english_only.append(passed)\n",
    "            else:\n",
    "                nonenglish.append(passed)\n",
    "        else:\n",
    "            nonenglish.append(passed)\n",
    "    return english_only, nonenglish\n",
    "                \n",
    "recognised, unrecognised = removeNonEnglishWords(str_tokens)"
   ]
  },
  {
   "cell_type": "code",
   "execution_count": 18,
   "metadata": {},
   "outputs": [
    {
     "name": "stdout",
     "output_type": "stream",
     "text": [
      "Total alphabetic words recognised in WordNet: 9652429\n",
      "Total alphabetic words NOT reccognised in WordNet: 3422753\n",
      "Percentage of alphabetic words that are unrecognised in WordNet: 35.460017369721136 %\n"
     ]
    }
   ],
   "source": [
    "print(\"Total alphabetic words recognised in WordNet:\", len(recognised))\n",
    "print(\"Total alphabetic words NOT reccognised in WordNet:\", len(unrecognised))\n",
    "print(\"Percentage of alphabetic words that are unrecognised in WordNet:\", (len(unrecognised)/len(recognised))*100, \"%\")"
   ]
  },
  {
   "cell_type": "markdown",
   "metadata": {},
   "source": [
    "Note that these totals and percentage should be used as rough estimates, not precise calculations.  WordNet may not recognise some British English terms since it was developed at Princeton, an American university.  There are other data sources that provide lists of valid words to which you could compare words from the Handbooks dataset.  Using a combination of several sources of valid English words could provide more accurate estimates."
   ]
  },
  {
   "cell_type": "markdown",
   "metadata": {},
   "source": [
    "Different types of analysis require different subsets of data, so let's create some now.  To begin, we'll create lists of the handbooks tokens where all words are lowercased:"
   ]
  },
  {
   "cell_type": "code",
   "execution_count": 19,
   "metadata": {},
   "outputs": [],
   "source": [
    "# Lowercase text\n",
    "lower_str_tokens = [t.lower() for t in str_tokens]\n",
    "lower_recognised = [word.lower() for word in recognised]\n",
    "lower_unrecognised = [word.lower() for word in unrecognised]    "
   ]
  },
  {
   "cell_type": "markdown",
   "metadata": {},
   "source": [
    "Next we'll create a list of the lowercase tokens that excludes stop words, such as `as`, `a`, and `the`:"
   ]
  },
  {
   "cell_type": "code",
   "execution_count": 20,
   "metadata": {},
   "outputs": [],
   "source": [
    "# Exclude stop words (i.e. the, a, is) - note that the input text must be lowercased!\n",
    "eng_stopwords = set(stopwords.words('english'))\n",
    "no_stopwords = [t for t in lower_str_tokens if not t in eng_stopwords]\n",
    "assert(len(no_stopwords) < len(str_tokens))"
   ]
  },
  {
   "cell_type": "markdown",
   "metadata": {},
   "source": [
    "#### 1.2 Stemming\n",
    "In addition to tokenisation, **stemming** is a method of standardising, or \"normalising,\" text.  Stemming reduces words to their root form by removing suffixes.  For example, the word \"troubling\" has a stem of \"troubl.\"  NLTK has two types of stemmers that use different algorithms to determine what the root of a word is.  \n",
    "\n",
    "The stemming algorithms can take several minutes to run, so two are provided below with one commented out (the lines begin with ``#``) so it won't run.  If you'd like to see how the stemming algorithms differ, uncomment the lines by highlighting them and pressing ``cmd`` + ``/``.\n",
    "\n",
    "First, though, let's see what stems of Handbooks data look like with the Porter Stemmer:"
   ]
  },
  {
   "cell_type": "code",
   "execution_count": 21,
   "metadata": {},
   "outputs": [
    {
     "name": "stdout",
     "output_type": "stream",
     "text": [
      "['be', 'place', 'on', 'gener', 'sale', 'and', 'it', 'wa', 'final', 'decid', 'to', 'do', 'thi', 'after', 'a', 'recommend', 'by', 'the', 'inter', 'department', 'committe', 'on', 'social', 'and', 'econom', 'research', 'the', 'handbook', 'contain', 'factual', 'and', 'statist', 'inform', 'compil', 'from', 'authorit', 'and', 'offici', 'sourc', 'about', 'the', 'unit', 'kingdom', 'it', 'peopl', 'and', 'it', 'institut', 'it', 'doe', 'not', 'claim', 'to', 'be', 'comprehens', 'it', 'princip', 'purpos', 'is', 'to', 'provid', 'basic', 'data', 'on', 'the', 'main', 'aspect', 'of', 'nation', 'administr', 'and', 'nation', 'economi', 'and', 'to', 'give', 'an', 'account', 'of', 'the', 'part', 'play', 'by', 'the', 'govern', 'in', 'the', 'life', 'of', 'the', 'commun', 'in', 'consid', 'it', 'content', 'reader', 'in', 'the', 'unit', 'kingdom']\n"
     ]
    }
   ],
   "source": [
    "# Stem the text (reduce words to their root, whether or not the root is a word itself\n",
    "porter = nltk.PorterStemmer()\n",
    "porter_stemmed = [porter.stem(t) for t in lower_str_tokens if t.isalpha()]  # only include alphabetic tokens\n",
    "print(porter_stemmed[500:600])"
   ]
  },
  {
   "cell_type": "code",
   "execution_count": null,
   "metadata": {},
   "outputs": [],
   "source": [
    "# lancaster = nltk.LancasterStemmer()\n",
    "# lancaster_stemmed = [lancaster.stem(t) for t in lower_str_tokens if t.isalpha()] # only include alphabetic tokens\n",
    "# print(lancaster_stemmed[500:600])"
   ]
  },
  {
   "cell_type": "markdown",
   "metadata": {},
   "source": [
    "<div class=\"alert alert-block alert-info\">\n",
    "<b>Try It!</b> Uncomment the lines of code in the cell above by removing the `#` before each line to see how a different stemming algorithm works: the Lancaster Stemmer.  What differences do you notice in the sample of stems that are returned?\n",
    "</div>"
   ]
  },
  {
   "cell_type": "markdown",
   "metadata": {},
   "source": [
    "Another approach to reducing words to their root is to **lemmatise** tokens.  NLTK's WordNet Lemmatizer reduces a token to its root *only* if the reduction of the token results in a word that's recognized as an English word in WordNet.  Here's what that looks like:"
   ]
  },
  {
   "cell_type": "code",
   "execution_count": 22,
   "metadata": {},
   "outputs": [
    {
     "name": "stdout",
     "output_type": "stream",
     "text": [
      "['be', 'placed', 'on', 'general', 'sale', 'and', 'it', 'wa', 'finally', 'decided', 'to', 'do', 'this', 'after', 'a', 'recommendation', 'by', 'the', 'inter', 'departmental', 'committee', 'on', 'social', 'and', 'economic', 'research', 'the', 'handbook', 'contains', 'factual', 'and', 'statistical', 'information', 'compiled', 'from', 'authoritative', 'and', 'official', 'source', 'about', 'the', 'united', 'kingdom', 'it', 'people', 'and', 'it', 'institution', 'it', 'doe', 'not', 'claim', 'to', 'be', 'comprehensive', 'it', 'principal', 'purpose', 'is', 'to', 'provide', 'basic', 'data', 'on', 'the', 'main', 'aspect', 'of', 'national', 'administration', 'and', 'national', 'economy', 'and', 'to', 'give', 'an', 'account', 'of', 'the', 'part', 'played', 'by', 'the', 'government', 'in', 'the', 'life', 'of', 'the', 'community', 'in', 'considering', 'it', 'content', 'reader', 'in', 'the', 'united', 'kingdom']\n"
     ]
    }
   ],
   "source": [
    "# Lemmatize the text (reduce words to their root ONLY if the root is considered a word in WordNet)\n",
    "wnl = nltk.WordNetLemmatizer()\n",
    "lemmatised = [wnl.lemmatize(t) for t in lower_str_tokens if t.isalpha()]  # only include alphabetic tokens\n",
    "print(lemmatised[500:600])"
   ]
  },
  {
   "cell_type": "markdown",
   "metadata": {},
   "source": [
    "To study the linguistic style of text, analysing the **parts of speech** and their patterns in sentences can be useful.  NLTK has a method for tagging tokens with a part of speech in a sentence.  Let's do that too:"
   ]
  },
  {
   "cell_type": "code",
   "execution_count": 23,
   "metadata": {},
   "outputs": [
    {
     "name": "stdout",
     "output_type": "stream",
     "text": [
      "[[('BRITAIN', 'NNP'), ('1979', 'CD'), ('3W', 'CD'), ('+', 'NN'), ('L', 'NNP'), ('Capita', 'NNP'), ('!', '.')]]\n"
     ]
    }
   ],
   "source": [
    "# Tag parts of speech in sentences\n",
    "sentences = wordlists.sents()  # sentences = [nltk.word_tokenize(sent) for sent in sentences]\n",
    "pos_tagged = [nltk.pos_tag(sent) for sent in sentences]\n",
    "print(pos_tagged[:1])\n",
    "# less likely to have as many descriptive words as novel, more factual"
   ]
  },
  {
   "cell_type": "markdown",
   "metadata": {},
   "source": [
    "NLTK uses abbreviations to identify parts of speech, such as:\n",
    "* `NN` = singular noun, `NNS` = plural noun, `NNP` = singular proper noun, `NNPS` = plural proper noun\n",
    "* `IN` = preposition\n",
    "* `TO` = preposition or infinitive marker\n",
    "* `DT` = determiner\n",
    "* `CC` = coordinating conjunction\n",
    "* `JJ` = adjective\n",
    "* `VB` = verb\n",
    "* `RB` = adverb\n",
    "\n",
    "More abbreviations are explained [here](https://www.learntek.org/blog/categorizing-pos-tagging-nltk-python/) or can be queried with `nltk.help.upenn_tagset('TAG')`"
   ]
  },
  {
   "cell_type": "markdown",
   "metadata": {},
   "source": [
    "### 2. Summary Statistics"
   ]
  },
  {
   "cell_type": "markdown",
   "metadata": {},
   "source": [
    "#### 2.1 Frequencies and Sizes"
   ]
  },
  {
   "cell_type": "markdown",
   "metadata": {},
   "source": [
    "Now that we've created some different cuts of the Handbooks dataset, let's start investigating the frequency of terms as they appear across the dataset.  One way to do so is with a **frequency distribution**, which is a line chart that shows how many times a token appears in the dataset."
   ]
  },
  {
   "cell_type": "markdown",
   "metadata": {},
   "source": [
    "Let's plot the frequency distribution using tokens that were recognised by WordNet as English words, excluding the same stop words, digits, and punctuation as above:"
   ]
  },
  {
   "cell_type": "code",
   "execution_count": 24,
   "metadata": {},
   "outputs": [
    {
     "data": {
      "text/plain": [
       "7219577"
      ]
     },
     "execution_count": 24,
     "metadata": {},
     "output_type": "execute_result"
    }
   ],
   "source": [
    "rec_min_two_letters = [t for t in lower_recognised if len(t) > 2]\n",
    "to_exclude = set(stopwords.words('english') + list(string.punctuation) + list(string.digits) + ['also', 'per', '000', 'one', 'many', 'may', 'two', 'see'])\n",
    "filtered_rec_tokens = [t for t in rec_min_two_letters if not t in to_exclude]\n",
    "fdist_ft_rec = FreqDist(filtered_rec_tokens)\n",
    "fdist_ft_rec.N()  # count the total tokens after filtering"
   ]
  },
  {
   "cell_type": "code",
   "execution_count": 25,
   "metadata": {},
   "outputs": [
    {
     "data": {
      "image/png": "[encoded data removed]",
      "text/plain": [
       "<Figure size 1440x576 with 1 Axes>"
      ]
     },
     "metadata": {
      "needs_background": "light"
     },
     "output_type": "display_data"
    },
    {
     "data": {
      "text/plain": [
       "<matplotlib.axes._subplots.AxesSubplot at 0x1acaef3c8>"
      ]
     },
     "execution_count": 25,
     "metadata": {},
     "output_type": "execute_result"
    }
   ],
   "source": [
    "plt.figure(figsize = (20, 8))\n",
    "plt.rc('font', size=12)\n",
    "\n",
    "number_of_tokens = 30 # Try increasing or decreasing this number to view more or fewer tokens in the visualization\n",
    "fdist_ft_rec.plot(number_of_tokens, title='Frequency Distribution for ' + str(number_of_tokens) + ' Most Common Tokens among Recognized English Words in the Handbooks Dataset (excluding stop words)')"
   ]
  },
  {
   "cell_type": "markdown",
   "metadata": {},
   "source": [
    "We can create a data visualisation that illustrates when specific words are used within the Handbooks dataset.  This is called a **Lexical Dispersion Plot**.  We'll pick some place names (the list of `targets`) to see when they appear:"
   ]
  },
  {
   "cell_type": "code",
   "execution_count": 26,
   "metadata": {},
   "outputs": [
    {
     "data": {
      "image/png": "[encoded data removed]",
      "text/plain": [
       "<Figure size 1296x720 with 1 Axes>"
      ]
     },
     "metadata": {
      "needs_background": "light"
     },
     "output_type": "display_data"
    }
   ],
   "source": [
    "corpus_text = Text(handbooks_words)\n",
    "targets = ['UK', 'Britain', 'British', 'England', 'English', 'Scotland', 'Scottish', 'Ireland', 'Irish', 'Wales', 'Welsh']\n",
    "plt.figure(figsize=(18,10))\n",
    "plt.rc('font', size=12)\n",
    "displt(corpus_text, targets, ignore_case=True, title='Lexical Dispersion Plot of UK and Ireland Place-related Words in the Handbooks Dataset')\n",
    "\n",
    "# industries (some disappear over time), closure of mines in 80s, sports (football, what others?)\n",
    "# topic remains each year - consistency is part of value, amount of detail is what varies - could pick out where differences occur by comparing sections of text over years? pages devoted to particular topic"
   ]
  },
  {
   "cell_type": "markdown",
   "metadata": {},
   "source": [
    "Since we sorted the Handbooks tokens by date, the lexical dispersion plot is showing changes in the use of our list of target words (tokens) over time, with the earliest publications to the left and the most recent publications to the right!  We can see that the word `UK` is used with increasing frequency over time.  We can also see that `English`, `Welsh`, and `Irish` occur less than `British` and `Scottish`."
   ]
  },
  {
   "cell_type": "markdown",
   "metadata": {},
   "source": [
    "<div class='alert alert-block alert-info'>\n",
    "    <b>Try It!</b> Instead of tokens, visualise the frequency distribution of lemmas or stems, and pick your own list of targets!\n",
    "</div>"
   ]
  },
  {
   "cell_type": "markdown",
   "metadata": {},
   "source": [
    "#### 2.2 Uniqueness and Variety\n",
    "\n",
    "Another way to summarise the Handbooks dataset is to look at the uniqueness and variety of word usage.  We can obtain the **vocabulary** of the text by creating a set of unique tokens that occur in the dataset, as well as creating a set of unique *lemmatised* tokens that occur in the dataset."
   ]
  },
  {
   "cell_type": "code",
   "execution_count": 27,
   "metadata": {},
   "outputs": [
    {
     "name": "stdout",
     "output_type": "stream",
     "text": [
      "Unique tokens: 72489\n",
      "Unique lowercase tokens: 57422\n",
      "Unique lemmatised (lowercase) tokens: 52713\n",
      "\n",
      "Unique recognised words: 36742\n",
      "Unique recognised lowercase words: 25590\n",
      "Unique unrecognised words: 33606\n",
      "Unique unrecognised lowercase words: 30240\n"
     ]
    }
   ],
   "source": [
    "# Remove duplicate tokens from the text (obtain the vocabulary of the text)\n",
    "t_vocab = set(str_tokens)\n",
    "t_vocab_lower = set(lower_str_tokens)\n",
    "lemma_vocab = set(lemmatised)\n",
    "print(\"Unique tokens:\", len(t_vocab))\n",
    "print(\"Unique lowercase tokens:\", len(t_vocab_lower))\n",
    "print(\"Unique lemmatised (lowercase) tokens:\", len(lemma_vocab))\n",
    "print()\n",
    "rec_vocab = set(recognised)\n",
    "rec_vocab_lower = set(lower_recognised)\n",
    "unrec_vocab = set(unrecognised)\n",
    "unrec_vocab_lower = set(lower_unrecognised)\n",
    "print(\"Unique recognised words:\", len(rec_vocab))\n",
    "print(\"Unique recognised lowercase words:\", len(rec_vocab_lower))\n",
    "print(\"Unique unrecognised words:\", len(unrec_vocab))\n",
    "print(\"Unique unrecognised lowercase words:\", len(unrec_vocab_lower))"
   ]
  },
  {
   "cell_type": "markdown",
   "metadata": {},
   "source": [
    "The vocabulary of the entire Handbooks dataset contains 70,922 unique words, 36,780 of which are recognised English words in WordNet. The lemmatised vocabulary of the dataset contains 66,172 words."
   ]
  },
  {
   "cell_type": "code",
   "execution_count": 28,
   "metadata": {},
   "outputs": [
    {
     "name": "stdout",
     "output_type": "stream",
     "text": [
      "['wholesalmg', 'parâ', 'jody', 'ptr', 'reciprocally', 'penal', 'hall', 'html', 'penitentiary', 'dowdâ', 'aexcluding', 'registerâ', 'sheriffdâ', 'hampering', 'correspondence', 'ebfencesearepbeing', 'torridon', 'nua', 'unionst', 'void', 'competitor', 'anglesey', 'pres', 'madley', 'skye', 'aax', 'originâ', 'disappeared', 'victory', 'customerâ', 'sleeping', 'swn', 'sustenance', 'cfm', 'ccta', 'pollutantsâ', 'aldermaston', 'accrued', 'maladministâ', 'stationeiy', 'qatar', 'agâ', 'dj', 'brewing', 'harmonisation', 'thereto', 'reaped', 'scaffolding', 'expe', 'fallâ', 'latvia', 'conscious', 'moval', 'peoplesâ', 'porterw', 'eside', 'oct', 'martinstown', 'crimea', 'trackâ', 'twelve', 'ringway', 'recognizably', 'spoil', 'instrumenâ', 'selected', 'cher', 'nazionali', 'ity', 'tendering', 'americanâ', 'pational', 'internally', 'julius', 'successâ', 'polaris', 'lanark', 'limehouse', 'trevelyan', 'pontypool', 'worse', 'iiq', 'drivenâ', 'tjgl', 'powerger', 'generator', 'iddermir', 'unemploy', 'info', 'basement', 'converting', 'nitrate', 'ncbâ', 'bradbourne', 'effield', 'guildhall', 'localâ', 'professionalsâ', 'speakerâ', 'leach']\n"
     ]
    }
   ],
   "source": [
    "print(list(lemma_vocab)[:100])"
   ]
  },
  {
   "cell_type": "markdown",
   "metadata": {},
   "source": [
    "Since the Handbooks dataset contains multiple publications (one file per year of publication), we could try picking a subset of publications, or even a single publication, and then compare the vocabulary across different publications.  What patterns would you expect to see?"
   ]
  },
  {
   "cell_type": "markdown",
   "metadata": {},
   "source": [
    "### 3. Exploratory Analysis\n",
    "\n",
    "Let's group the Handbooks TXT files into 10-year periods so that we investigate patterns in the Handbooks text over time, comparing one decade to the next.\n",
    "\n",
    "**Step 1:** We'll extract the date from each title of the Handbooks dataset using [Regular Expressions](https://www.w3schools.com/python/python_regex.asp), which enable us to specify patterns to look for that may be a combination of letters, digits, punctuation, or white space:"
   ]
  },
  {
   "cell_type": "code",
   "execution_count": 31,
   "metadata": {},
   "outputs": [
    {
     "name": "stdout",
     "output_type": "stream",
     "text": [
      "[1954, 1955, 1956, 1958, 1959, 1960, 1961, 1962, 1963, 1964, 1965, 1966, 1967, 1968, 1969, 1970, 1971, 1972, 1973, 1974, 1975, 1976, 1977, 1978, 1979, 1980, 1981, 1982, 1983, 1984, 1985, 1986, 1987, 1988, 1989, 1990, 1991, 1992, 1993, 1994, 1995, 1996, 1997, 1998, 1999, 2000, 2001, 2002, 2003, 2005]\n"
     ]
    }
   ],
   "source": [
    "# We can use the 'titles' list we created in 'Section 0. Preparation'\n",
    "dates = []\n",
    "for title in titles:\n",
    "    # Write a Regular Expression to extract the date from the title\n",
    "    # (I find it helpful to text out Regular Expressions with Pythex: https://pythex.org/)\n",
    "    # and turn the date into an Integer, so we can analyse it like a number\n",
    "    yr = int((re.search('\\d{4}', title))[0])\n",
    "    dates += [yr]\n",
    "print(dates)"
   ]
  },
  {
   "cell_type": "markdown",
   "metadata": {},
   "source": [
    "**Step 2:** Now we'll associate the extracted years with their titles and fileids, adding them to the DataFrame in a column named `year`:"
   ]
  },
  {
   "cell_type": "code",
   "execution_count": 34,
   "metadata": {},
   "outputs": [
    {
     "data": {
      "text/html": [
       "<div>\n",
       "<style scoped>\n",
       "    .dataframe tbody tr th:only-of-type {\n",
       "        vertical-align: middle;\n",
       "    }\n",
       "\n",
       "    .dataframe tbody tr th {\n",
       "        vertical-align: top;\n",
       "    }\n",
       "\n",
       "    .dataframe thead th {\n",
       "        text-align: right;\n",
       "    }\n",
       "</style>\n",
       "<table border=\"1\" class=\"dataframe\">\n",
       "  <thead>\n",
       "    <tr style=\"text-align: right;\">\n",
       "      <th></th>\n",
       "      <th>fileid</th>\n",
       "      <th>title</th>\n",
       "      <th>year</th>\n",
       "    </tr>\n",
       "  </thead>\n",
       "  <tbody>\n",
       "    <tr>\n",
       "      <th>12</th>\n",
       "      <td>204486084.txt</td>\n",
       "      <td>Britain: An official handbook - 1954 - GII.11</td>\n",
       "      <td>1954</td>\n",
       "    </tr>\n",
       "    <tr>\n",
       "      <th>49</th>\n",
       "      <td>205336772.txt</td>\n",
       "      <td>Britain: An official handbook - 1955 - GII.11</td>\n",
       "      <td>1955</td>\n",
       "    </tr>\n",
       "    <tr>\n",
       "      <th>13</th>\n",
       "      <td>204486085.txt</td>\n",
       "      <td>Britain: An official handbook - 1956 - GII.11</td>\n",
       "      <td>1956</td>\n",
       "    </tr>\n",
       "    <tr>\n",
       "      <th>14</th>\n",
       "      <td>204486086.txt</td>\n",
       "      <td>Britain: An official handbook - 1958 - GII.11</td>\n",
       "      <td>1958</td>\n",
       "    </tr>\n",
       "    <tr>\n",
       "      <th>15</th>\n",
       "      <td>204486087.txt</td>\n",
       "      <td>Britain: An official handbook - 1959 - GII.11</td>\n",
       "      <td>1959</td>\n",
       "    </tr>\n",
       "  </tbody>\n",
       "</table>\n",
       "</div>"
      ],
      "text/plain": [
       "           fileid                                          title  year\n",
       "12  204486084.txt  Britain: An official handbook - 1954 - GII.11  1954\n",
       "49  205336772.txt  Britain: An official handbook - 1955 - GII.11  1955\n",
       "13  204486085.txt  Britain: An official handbook - 1956 - GII.11  1956\n",
       "14  204486086.txt  Britain: An official handbook - 1958 - GII.11  1958\n",
       "15  204486087.txt  Britain: An official handbook - 1959 - GII.11  1959"
      ]
     },
     "execution_count": 34,
     "metadata": {},
     "output_type": "execute_result"
    }
   ],
   "source": [
    "df['year'] = dates\n",
    "df.head()"
   ]
  },
  {
   "cell_type": "markdown",
   "metadata": {},
   "source": [
    "**Step 3:** We'll group the fileids in the Handbooks dataset by decade:"
   ]
  },
  {
   "cell_type": "code",
   "execution_count": 44,
   "metadata": {},
   "outputs": [],
   "source": [
    "# INPUT: a list of years, and a dictionary with those years (in Integer\n",
    "#        format) as keys and a list of ids (in String format) as values\n",
    "# OUTPUT: a dictionary with a key for every tenth year, beginning with the\n",
    "#         first year in the list, and values that are lists of ids associated\n",
    "#         with the 10-year period\n",
    "def groupByDecade(yrs, yrs_to_ids):\n",
    "    y = yrs[0]\n",
    "    last = yrs[-1] + 10\n",
    "    file_groups = {}\n",
    "    while y <= last:\n",
    "        decade_list = []\n",
    "        for yr,fileid in yrs_to_ids.items():\n",
    "            if yr <= (y + 9):\n",
    "                decade_list += [fileid]\n",
    "        file_groups[y] = decade_list\n",
    "        y += 10\n",
    "    return file_groups\n",
    "\n",
    "# Make a dictionary with years as keys and fileids as values\n",
    "list_of_years = list(df['year'])\n",
    "year_to_fileid = dict(zip(yrs, fileids))\n",
    "\n",
    "# Run the function to get a list of fileids by each 10-year period in the Handbooks, starting with the first year a Handbook was published\n",
    "file_groups = groupByDecade(list_of_years, year_to_fileid)\n",
    "\n",
    "# Uncomment the code lines below to see the files in each 10-year group\n",
    "# (you can quickly comment/uncomment multiple code lines by highlighting them\n",
    "# and pressing, for PCs, 'ctrl' + '/' or, for Macs, 'cmd' + '/')\n",
    "\n",
    "# for key,value in file_groups.items():\n",
    "#     print(key)\n",
    "#     print(value)\n",
    "#     print()"
   ]
  },
  {
   "cell_type": "markdown",
   "metadata": {},
   "source": [
    "**Step 4:** Lastly, we'll word-tokenize and sentence-tokenize the groups of files, so that we can analyze the Handbooks' evolution over 10-year periods:"
   ]
  },
  {
   "cell_type": "code",
   "execution_count": 53,
   "metadata": {},
   "outputs": [],
   "source": [
    "# INPUT: a wordlist (from the PlaintextCorpusReader - see section 0. Preparation) and\n",
    "#        a year and a list of fileids associated with that year\n",
    "# OUTPUT: a list of word tokens and and a list of sentence tokens for fileids from\n",
    "#         with the inputted year through the next 9 years (totalling a 10-year period)\n",
    "def getTokens(plaintext_corpus_read_lists, group_year, year_files):\n",
    "    all_words = []\n",
    "    all_words_lower = []\n",
    "    all_sents = []\n",
    "    for fileid in year_files:\n",
    "        file_words = plaintext_corpus_read_lists.words(fileid)\n",
    "        all_words_lower += [str(word).lower() for word in file_words if word.isalpha()]\n",
    "        all_words += [str(word) for word in file_words  if word.isalpha()]\n",
    "        file_sents = sent_tokenize(plaintext_corpus_read_lists.raw(fileid))  \n",
    "        all_sents += [str(sent) for sent in file_sents]\n",
    "        \n",
    "    return all_words, all_words_lower, all_sents\n",
    "        \n",
    "first_words, first_words_lower, first_sentences = getTokens(wordlists, list_of_years[0], file_groups[list_of_years[0]])"
   ]
  },
  {
   "cell_type": "code",
   "execution_count": null,
   "metadata": {},
   "outputs": [],
   "source": [
    "def tokensByDecade(plaintext_corpus_read_lists, list_of_years, file_groups):\n",
    "    max_i = len(list_of_years)\n",
    "    i = 0\n",
    "    decade_words = {}\n",
    "    decade_words_lower = {}\n",
    "    decade_sents = {}\n",
    "    while i < max_i:\n",
    "        yr = list_of_years[i]\n",
    "        word_tokens, word_lower_tokens, sent_tokens = getTokens(wordlists, yr, file_groups[yr])\n",
    "        decade_words[yr] = word_tokens\n",
    "        decade_words_lower[yr] = word_lower_tokens\n",
    "        decade_sents[yr] = sent_tokens\n",
    "    return decade_words, decade_words_lower, decade_sents\n",
    "\n",
    "decade_words, decade_words_lower, decade_sents = tokensByDecade(wordlists, list_of_years, file_groups)"
   ]
  },
  {
   "cell_type": "markdown",
   "metadata": {},
   "source": [
    "Great!  Now we can analyse the Handbooks dataset by 10-year periods!"
   ]
  },
  {
   "cell_type": "markdown",
   "metadata": {},
   "source": [
    "#### 3.1 How are the United Kingdom and Great Britain portrayed?  How does this change over time?"
   ]
  },
  {
   "cell_type": "markdown",
   "metadata": {},
   "source": [
    "The Handbooks were written for an international audience to impress people with the success and strength of Britain and the UK.  Let's investigate how Britain and the UK are portrayed:"
   ]
  },
  {
   "cell_type": "code",
   "execution_count": null,
   "metadata": {},
   "outputs": [],
   "source": [
    "t = Text(corpus_tokens)\n",
    "t.concordance('Britain', lines=10)"
   ]
  },
  {
   "cell_type": "code",
   "execution_count": null,
   "metadata": {},
   "outputs": [],
   "source": [
    "fdist = FreqDist(str_tokens)\n",
    "print(\"Frequency (percentage) of Britain and the UK in Handbooks dataset:\")\n",
    "print(\" - Britain:\", (fdist.freq('Britain'))*100, \"%\")\n",
    "print(\" - GB:\", (fdist.freq('GB'))*100, \"%\")\n",
    "print(\" - UK:\", (fdist.freq('UK'))*100, \"%\")"
   ]
  },
  {
   "cell_type": "markdown",
   "metadata": {},
   "source": [
    "Let's group the handbooks data into 10-year periods.  We'll use our inventory (the dictionary created in [0.2](#####-0.2-Identifying-Subsets of-the-Data)) to determine the year each handbook was published:"
   ]
  },
  {
   "cell_type": "code",
   "execution_count": null,
   "metadata": {},
   "outputs": [],
   "source": [
    "# economy (monetary terms), how Britain sees itself"
   ]
  },
  {
   "cell_type": "code",
   "execution_count": null,
   "metadata": {},
   "outputs": [],
   "source": [
    "# visualisations go here - frequency of words over time and per volume"
   ]
  },
  {
   "cell_type": "markdown",
   "metadata": {},
   "source": [
    "<div class='alert alert-box alert-info'>\n",
    "    <b>Try It!</b> How is Scotland portrayed?  How does the portrayal of Britain and the UK compare or contrast with the portrayal of Scotland?\n",
    "</div>"
   ]
  },
  {
   "cell_type": "code",
   "execution_count": null,
   "metadata": {},
   "outputs": [],
   "source": [
    "t.concordance('Scotland', lines=10)\n",
    "# t.concordance('Ireland')  # re.search(.{20}'(?<!Northern )Ireland.{20}')\n",
    "# t.concordance('Wales')\n",
    "# t.concordance('England')"
   ]
  },
  {
   "cell_type": "code",
   "execution_count": null,
   "metadata": {},
   "outputs": [],
   "source": [
    "# HINT 1: try using Regular Expressions, like the example below, to search for words related to Scotland and Scottish-ness...\n",
    "\n",
    "# scot_strings = [s for s in lower_str_tokens if (re.search('scot$', s) or re.search('scot[tcls]+', s))]\n",
    "# print(\"Total tokens related to Scotland:\", len(scot_strings))\n",
    "\n",
    "# HINT 2: Sets in Python are similar to Lists except that they can't have repeating items, \n",
    "#         so changing a list to a set is a quick way to remove duplicates from a list!\n",
    "# unique_scot = set(scot_strings)\n",
    "# print(\"Unique tokens related to Scotland:\", len(unique_scot))\n",
    "# print(unique_scot)"
   ]
  }
 ],
 "metadata": {
  "kernelspec": {
   "display_name": "Python 3",
   "language": "python",
   "name": "python3"
  },
  "language_info": {
   "codemirror_mode": {
    "name": "ipython",
    "version": 3
   },
   "file_extension": ".py",
   "mimetype": "text/x-python",
   "name": "python",
   "nbconvert_exporter": "python",
   "pygments_lexer": "ipython3",
   "version": "3.6.3"
  }
 },
 "nbformat": 4,
 "nbformat_minor": 4
}
