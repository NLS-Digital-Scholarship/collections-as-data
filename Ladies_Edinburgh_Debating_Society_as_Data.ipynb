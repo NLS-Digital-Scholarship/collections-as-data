{
 "cells": [
  {
   "cell_type": "markdown",
   "metadata": {},
   "source": [
    "# Ladies' Edinburgh Debating Society as Data\n",
    "Created August-September 2020 for the National Library of Scotland's Data Foundry by Lucy Havens, Digital Library Research Intern"
   ]
  },
  {
   "cell_type": "markdown",
   "metadata": {},
   "source": [
    "### About the *Ladies' Edinburgh Debating Society* Dataset\n",
    "The Ladies' Edinburgh Debating Society (LEDS) was founded by women in 1865 who were members of the upper-middle and higher classes at a time when women had limited higher education opportunities.  Members went on to play significant roles in education, suffrage, philanthropy, and anti-slavery efforts.  The LEDS Dataset contains digitized text from all volumes of two journals the Society published: \"The Attempt\" and \"The Ladies' Edinburgh Magazine.\"  The first journal contains 10 volumes published from 1865 through 1874.  The second journal contains six volumes published from 1875 through 1880.  \n",
    "\n",
    "The Ladies' Edinburgh Debating Society, also known as the Edinburgh Essay Society and the Ladies' Edinburgh Essay Society, was dissolved in 1935.  A year later, in 1936, the National Library of Scotland acquired the volumes that were digitized in this dataset.\n",
    "* Data format: digitised text\n",
    "* Data creation process: Optical Character Recognition (OCR)\n",
    "* Data source: https://data.nls.uk/data/digitised-collections/edinburgh-ladies-debating-society/"
   ]
  },
  {
   "cell_type": "markdown",
   "metadata": {},
   "source": [
    "### 0. Preparation\n",
    "Import libraries to use for cleaning, summarising and exploring the data:"
   ]
  },
  {
   "cell_type": "code",
   "execution_count": 1,
   "metadata": {},
   "outputs": [
    {
     "name": "stderr",
     "output_type": "stream",
     "text": [
      "[nltk_data] Downloading package punkt to /Users/lucy/nltk_data...\n",
      "[nltk_data]   Package punkt is already up-to-date!\n",
      "[nltk_data] Downloading package wordnet to /Users/lucy/nltk_data...\n",
      "[nltk_data]   Package wordnet is already up-to-date!\n",
      "[nltk_data] Downloading package averaged_perceptron_tagger to\n",
      "[nltk_data]     /Users/lucy/nltk_data...\n",
      "[nltk_data]   Package averaged_perceptron_tagger is already up-to-\n",
      "[nltk_data]       date!\n",
      "[nltk_data] Downloading package tagsets to /Users/lucy/nltk_data...\n",
      "[nltk_data]   Package tagsets is already up-to-date!\n"
     ]
    }
   ],
   "source": [
    "# To prevent SSL certificate failure\n",
    "import os, ssl\n",
    "if (not os.environ.get('PYTHONHTTPSVERIFY', '') and\n",
    "    getattr(ssl, '_create_unverified_context', None)):\n",
    "    ssl._create_default_https_context = ssl._create_unverified_context\n",
    "\n",
    "# Libraries for data loading\n",
    "import pandas as pd\n",
    "import numpy as np\n",
    "import string\n",
    "import re\n",
    "from collections import defaultdict\n",
    "\n",
    "# Libraries for visualization\n",
    "import altair as alt\n",
    "import matplotlib.pyplot as plt\n",
    "\n",
    "# Libraries for text analysis\n",
    "import nltk\n",
    "from nltk.tokenize import word_tokenize, sent_tokenize\n",
    "nltk.download('punkt')\n",
    "from nltk.corpus import PlaintextCorpusReader\n",
    "nltk.download('wordnet')\n",
    "from nltk.corpus import wordnet\n",
    "from nltk.corpus import stopwords\n",
    "from nltk.text import Text\n",
    "from nltk.stem.porter import PorterStemmer \n",
    "from nltk.probability import FreqDist\n",
    "nltk.download('averaged_perceptron_tagger')\n",
    "from nltk.tag import pos_tag\n",
    "nltk.download('tagsets')  # part of speech tags\n",
    "from nltk.draw.dispersion import dispersion_plot as displt\n"
   ]
  },
  {
   "cell_type": "markdown",
   "metadata": {},
   "source": [
    "The nls-text-ladiesDebating folder (downloadable as *Just the text* data from the website at the top of this notebook) contains TXT files of digitised text, with numerical names, as well as a CSV inventory file and a TXT ReadMe file.  Load only the TXT files of digitised text and **tokenise** the text (which splits a string into separate words, numbers, and punctuation):"
   ]
  },
  {
   "cell_type": "code",
   "execution_count": 2,
   "metadata": {},
   "outputs": [
    {
     "name": "stdout",
     "output_type": "stream",
     "text": [
      "['â', '\\x80¢*', 'â', '\\x80¢', 'UL', '.', 'u', '^\\\\,', 'THE', 'ATTEMPT']\n"
     ]
    }
   ],
   "source": [
    "corpus_folder = 'data/nls-text-ladiesDebating/'\n",
    "wordlists = PlaintextCorpusReader(corpus_folder, '\\d.*', encoding='latin1')\n",
    "corpus_tokens = wordlists.words()\n",
    "print(corpus_tokens[:10])"
   ]
  },
  {
   "cell_type": "markdown",
   "metadata": {},
   "source": [
    "*Note: If you'd like to see how to specify a single TXT file to load as data, check out the Jupyter Notebook for the Britain and UK Handbooks!*\n",
    "\n",
    "It's hard to get a sense of how accurately the text has been digitized from this list of 10 tokens, so let's look at one of these words in context.  To see phrases in which \"Edinburgh\" is used, we can use the concordance() method:"
   ]
  },
  {
   "cell_type": "code",
   "execution_count": 3,
   "metadata": {},
   "outputs": [
    {
     "name": "stdout",
     "output_type": "stream",
     "text": [
      "Displaying 10 of 2079 matches:\n",
      "UM MELIORIS MVl .\" FEINTED FOR THE EDINBURGH ESSAY SOCIETY . EEID & SON , SHORE\n",
      "atriculated into the University of Edinburgh , where he graduated in Arts , aft\n",
      "pany has been making a stir in the Edinburgh world ), he was making a long spee\n",
      " May proÂ ¬ verbially favours us , Edinburgh holds May one of the dearest of th\n",
      "on of Ecclesiastical Courts met in Edinburgh this month are no less noteworthy \n",
      "wning glory of the month of May in Edinburgh , supplying plenty of gaiety and g\n",
      "go and find out .\" Tlie hair of an Edinburgh cab - owner would stand on end did\n",
      "onal Gallery . Possibly some of my Edinburgh friends may not have had the oppor\n",
      "NE CONDUCTED BY THE MEMBERS OF THE EDINBURGH ESSAY SOCIETY . VOLUME III . \" AUS\n",
      "M MELIORIS uEVI .\" PRINTED FOR THE EDINBURGH ESSAY SOCIETY . COLSTON & SON , ED\n"
     ]
    }
   ],
   "source": [
    "t = Text(corpus_tokens)\n",
    "t.concordance('Edinburgh', lines=10)"
   ]
  },
  {
   "cell_type": "markdown",
   "metadata": {},
   "source": [
    "This dataset has not been manually cleaned after OCR digitised text from \"The Attempt\" and \"The Ladies' Edinburgh Magazine\" so it's not surprising to see some non-words appear in the concordance.\n",
    "\n",
    "#### 0.1 Dataset Size\n",
    "Before we do much analysis, let's get a sense of how much data we're working with:"
   ]
  },
  {
   "cell_type": "code",
   "execution_count": 4,
   "metadata": {},
   "outputs": [
    {
     "name": "stdout",
     "output_type": "stream",
     "text": [
      "Total...\n",
      "  Characters in LEDS Data: 15096132\n",
      "  Words in LEDS Data: 3145535\n",
      "  Sentences in LEDS Data: 108011\n",
      "  Files in LEDS Data: 16\n"
     ]
    }
   ],
   "source": [
    "def corpusStatistics(plaintext_corpus_read_lists):\n",
    "    total_chars = 0\n",
    "    total_tokens = 0\n",
    "    total_sents = 0\n",
    "    total_files = 0\n",
    "    \n",
    "    # fileids are the TXT file names in the nls-text-ladies-Debating folder:\n",
    "    for fileid in plaintext_corpus_read_lists.fileids():\n",
    "        total_chars += len(plaintext_corpus_read_lists.raw(fileid))\n",
    "        total_tokens += len(plaintext_corpus_read_lists.words(fileid))\n",
    "        total_sents += len(plaintext_corpus_read_lists.sents(fileid))\n",
    "        total_files += 1\n",
    "    \n",
    "    print(\"Total...\")\n",
    "    print(\"  Characters in LEDS Data:\", total_chars)\n",
    "    print(\"  Tokens in LEDS Data:\", total_words)\n",
    "    print(\"  Sentences in LEDS Data:\", total_sents)\n",
    "    print(\"  Files in LEDS Data:\", total_files)\n",
    "\n",
    "corpusStatistics(wordlists)"
   ]
  },
  {
   "cell_type": "markdown",
   "metadata": {},
   "source": [
    "Note that I've print ``Tokens`` rather than words, though the NLTK method used to count those was ``.words()``.  This is because words in NLTK include punctuation marks and digits, in addition to alphabetic words."
   ]
  },
  {
   "cell_type": "markdown",
   "metadata": {},
   "source": [
    "#### 0.2 Identifying Subsets of the Data\n",
    "Next, we'll create two subsets of the data, one for each journal.  To do so we first need to load the inventory (CSV file) that lists which file name corresponds with which journal.    When you open the inventory in Microsoft Excel or a text editor, you can see that there are no column names.  The Python library [Pandas](https://pandas.pydata.org/docs/), which reads CSV files, calls these column names the ``header``.  When we use Pandas to read the inventory, we'll create our own header by specifying that the CSV file as ``None`` and providing a list of column ``names``.\n",
    "\n",
    "When Pandas (abbreviated ``pd`` when we loaded libraries in the first cell of this notebook) reads a CSV file, it creates a table called a **dataframe** from that data.  Let's see what the LEDS inventory dataframe looks like:"
   ]
  },
  {
   "cell_type": "code",
   "execution_count": 5,
   "metadata": {},
   "outputs": [
    {
     "data": {
      "text/html": [
       "<div>\n",
       "<style scoped>\n",
       "    .dataframe tbody tr th:only-of-type {\n",
       "        vertical-align: middle;\n",
       "    }\n",
       "\n",
       "    .dataframe tbody tr th {\n",
       "        vertical-align: top;\n",
       "    }\n",
       "\n",
       "    .dataframe thead th {\n",
       "        text-align: right;\n",
       "    }\n",
       "</style>\n",
       "<table border=\"1\" class=\"dataframe\">\n",
       "  <thead>\n",
       "    <tr style=\"text-align: right;\">\n",
       "      <th></th>\n",
       "      <th>fileid</th>\n",
       "      <th>title</th>\n",
       "    </tr>\n",
       "  </thead>\n",
       "  <tbody>\n",
       "    <tr>\n",
       "      <th>0</th>\n",
       "      <td>109857781.txt</td>\n",
       "      <td>Attempt - Volume 1 and Select writings - U.431</td>\n",
       "    </tr>\n",
       "    <tr>\n",
       "      <th>1</th>\n",
       "      <td>103655648.txt</td>\n",
       "      <td>Attempt - Volume 2 - U.431</td>\n",
       "    </tr>\n",
       "    <tr>\n",
       "      <th>2</th>\n",
       "      <td>103655649.txt</td>\n",
       "      <td>Attempt - Volume 3 - U.431</td>\n",
       "    </tr>\n",
       "    <tr>\n",
       "      <th>3</th>\n",
       "      <td>103655650.txt</td>\n",
       "      <td>Attempt - Volume 4 - U.431</td>\n",
       "    </tr>\n",
       "    <tr>\n",
       "      <th>4</th>\n",
       "      <td>103655651.txt</td>\n",
       "      <td>Attempt - Volume 5 - U.431</td>\n",
       "    </tr>\n",
       "    <tr>\n",
       "      <th>5</th>\n",
       "      <td>103655652.txt</td>\n",
       "      <td>Attempt - Volume 6 - U.431</td>\n",
       "    </tr>\n",
       "    <tr>\n",
       "      <th>6</th>\n",
       "      <td>103655653.txt</td>\n",
       "      <td>Attempt - Volume 7 - U.431</td>\n",
       "    </tr>\n",
       "    <tr>\n",
       "      <th>7</th>\n",
       "      <td>103655654.txt</td>\n",
       "      <td>Attempt - Volume 8 - U.431</td>\n",
       "    </tr>\n",
       "    <tr>\n",
       "      <th>8</th>\n",
       "      <td>103655655.txt</td>\n",
       "      <td>Attempt - Volume 9 - U.431</td>\n",
       "    </tr>\n",
       "    <tr>\n",
       "      <th>9</th>\n",
       "      <td>103655656.txt</td>\n",
       "      <td>Attempt - Volume 10 - U.431</td>\n",
       "    </tr>\n",
       "    <tr>\n",
       "      <th>10</th>\n",
       "      <td>103655658.txt</td>\n",
       "      <td>Ladies' Edinburgh Magazine - Volume 1 - U.393</td>\n",
       "    </tr>\n",
       "    <tr>\n",
       "      <th>11</th>\n",
       "      <td>103655659.txt</td>\n",
       "      <td>Ladies' Edinburgh Magazine - Volume 2 - U.393</td>\n",
       "    </tr>\n",
       "    <tr>\n",
       "      <th>12</th>\n",
       "      <td>103655660.txt</td>\n",
       "      <td>Ladies' Edinburgh Magazine - Volume 3 - U.393</td>\n",
       "    </tr>\n",
       "    <tr>\n",
       "      <th>13</th>\n",
       "      <td>103655661.txt</td>\n",
       "      <td>Ladies' Edinburgh Magazine - Volume 4 - U.393</td>\n",
       "    </tr>\n",
       "    <tr>\n",
       "      <th>14</th>\n",
       "      <td>103655662.txt</td>\n",
       "      <td>Ladies' Edinburgh Magazine - Volume 5 - U.393</td>\n",
       "    </tr>\n",
       "    <tr>\n",
       "      <th>15</th>\n",
       "      <td>103655663.txt</td>\n",
       "      <td>Ladies' Edinburgh Magazine - Volume 6 - U.393</td>\n",
       "    </tr>\n",
       "  </tbody>\n",
       "</table>\n",
       "</div>"
      ],
      "text/plain": [
       "           fileid                                           title\n",
       "0   109857781.txt  Attempt - Volume 1 and Select writings - U.431\n",
       "1   103655648.txt                      Attempt - Volume 2 - U.431\n",
       "2   103655649.txt                      Attempt - Volume 3 - U.431\n",
       "3   103655650.txt                      Attempt - Volume 4 - U.431\n",
       "4   103655651.txt                      Attempt - Volume 5 - U.431\n",
       "5   103655652.txt                      Attempt - Volume 6 - U.431\n",
       "6   103655653.txt                      Attempt - Volume 7 - U.431\n",
       "7   103655654.txt                      Attempt - Volume 8 - U.431\n",
       "8   103655655.txt                      Attempt - Volume 9 - U.431\n",
       "9   103655656.txt                     Attempt - Volume 10 - U.431\n",
       "10  103655658.txt   Ladies' Edinburgh Magazine - Volume 1 - U.393\n",
       "11  103655659.txt   Ladies' Edinburgh Magazine - Volume 2 - U.393\n",
       "12  103655660.txt   Ladies' Edinburgh Magazine - Volume 3 - U.393\n",
       "13  103655661.txt   Ladies' Edinburgh Magazine - Volume 4 - U.393\n",
       "14  103655662.txt   Ladies' Edinburgh Magazine - Volume 5 - U.393\n",
       "15  103655663.txt   Ladies' Edinburgh Magazine - Volume 6 - U.393"
      ]
     },
     "execution_count": 5,
     "metadata": {},
     "output_type": "execute_result"
    }
   ],
   "source": [
    "df = pd.read_csv('data/nls-text-ladiesDebating/ladiesDebating-inventory.csv', header=None, names=['fileid', 'title'])\n",
    "df"
   ]
  },
  {
   "cell_type": "markdown",
   "metadata": {},
   "source": [
    "Since we only have 16 files, we'll print the entire dataframe.  With larger dataframes you may wish to use  ``df.head()`` or ``df.tail()`` to print only the first 5 or last 5 rows.\n",
    "\n",
    "Now we can create a two dictionaries of fileids and their associated journal titles, one for The Attempt and one for The Ladies' Edinburgh Magazine:"
   ]
  },
  {
   "cell_type": "code",
   "execution_count": 6,
   "metadata": {},
   "outputs": [
    {
     "name": "stdout",
     "output_type": "stream",
     "text": [
      "The Attempt files:\n",
      "{'109857781.txt': 'Attempt - Volume 1 and Select writings - U.431', '103655648.txt': 'Attempt - Volume 2 - U.431', '103655649.txt': 'Attempt - Volume 3 - U.431', '103655650.txt': 'Attempt - Volume 4 - U.431', '103655651.txt': 'Attempt - Volume 5 - U.431', '103655652.txt': 'Attempt - Volume 6 - U.431', '103655653.txt': 'Attempt - Volume 7 - U.431', '103655654.txt': 'Attempt - Volume 8 - U.431', '103655655.txt': 'Attempt - Volume 9 - U.431', '103655656.txt': 'Attempt - Volume 10 - U.431'}\n",
      "\n",
      " Ladies' Edinburgh Magazine files:\n",
      "{'103655658.txt': \"Ladies' Edinburgh Magazine - Volume 1 - U.393\", '103655659.txt': \"Ladies' Edinburgh Magazine - Volume 2 - U.393\", '103655660.txt': \"Ladies' Edinburgh Magazine - Volume 3 - U.393\", '103655661.txt': \"Ladies' Edinburgh Magazine - Volume 4 - U.393\", '103655662.txt': \"Ladies' Edinburgh Magazine - Volume 5 - U.393\", '103655663.txt': \"Ladies' Edinburgh Magazine - Volume 6 - U.393\"}\n"
     ]
    }
   ],
   "source": [
    "attempts = {}\n",
    "mags = {}\n",
    "for index, row in df.iterrows():\n",
    "    fileid = row['fileid']\n",
    "    title = row['title']\n",
    "    if 'Attempt' in title:\n",
    "        attempts[fileid] = title\n",
    "    else: # if 'Magazine' in title:\n",
    "        mags[fileid] = title\n",
    "print(\"The Attempt files:\")\n",
    "print(attempts)\n",
    "print(\"\\n Ladies' Edinburgh Magazine files:\")  # \\n is a newline character, so this prints a blank line between the attempts dictionary and the 'Ladies Edinburgh Magazine files:' string\n",
    "print(mags)"
   ]
  },
  {
   "cell_type": "markdown",
   "metadata": {},
   "source": [
    "For convenient reference of only fileids, we can also create lists from the dictionaries:"
   ]
  },
  {
   "cell_type": "code",
   "execution_count": 7,
   "metadata": {},
   "outputs": [
    {
     "name": "stdout",
     "output_type": "stream",
     "text": [
      "['103655658.txt', '103655659.txt', '103655660.txt', '103655661.txt', '103655662.txt', '103655663.txt']\n"
     ]
    }
   ],
   "source": [
    "attempt_ids = list(attempts.keys())\n",
    "mag_ids = list(mags.keys())\n",
    "print(mag_ids)"
   ]
  },
  {
   "cell_type": "markdown",
   "metadata": {},
   "source": [
    "NLTK stores the lists of tokens in the corpus_tokens variable we created by the file IDs, so it's useful to be able to match the file IDs with their journal issues!"
   ]
  },
  {
   "cell_type": "markdown",
   "metadata": {},
   "source": [
    "### 1. Data Cleaning and Standardisation"
   ]
  },
  {
   "cell_type": "markdown",
   "metadata": {},
   "source": [
    "There are several ways to standardise, or \"normalise,\" text, with each way providing suitable text for different types of analysis.  For example, to study the vocabulary of a text-based dataset, it's useful to remove punctuation and digits, lowercase the remaining alphabetic words, and then reduce those words to their root form (with stemming or lemmatisation - more on this later).  Alternatively, to identify people and places using named entity recognition, it's important to keep capitalisation in words and keep words in the context of their sentences."
   ]
  },
  {
   "cell_type": "markdown",
   "metadata": {},
   "source": [
    "#### 1.1 Tokenisation\n",
    "In section **0. Preparation**, we tokenised the LEDS dataset when we created the ``corpus_tokens`` list.  ``corpus_tokens`` contains a list of all words, punctuation, and numbers that appear in the LEDS dataset separated into individual items and organised in the order they appear in the LEDS text files.  In addition to tokenising words, NLTK also provides methods to tokenise sentences.  This is how we counted the number of sentences in section **0.1 Dataset Size**.\n",
    "\n",
    "Tokenized words are helpful when analysing the vocabulary of text. Tokenised sentences are helpful when analysing linguistic patterns of a text.  Let's create lists of tokens as *strings* (String is Python's data format for text) from the LEDS dataset:"
   ]
  },
  {
   "cell_type": "code",
   "execution_count": 8,
   "metadata": {},
   "outputs": [
    {
     "name": "stdout",
     "output_type": "stream",
     "text": [
      "['â', '\\x80¢*', 'â', '\\x80¢', 'UL', '.', 'u', '^\\\\,', 'THE', 'ATTEMPT']\n",
      "['January', '.', 'EOISBUROH', ':', 'PRINTED', 'BY', 'COLSTON', 'AND', 'SON', '.']\n",
      "['the', 'Royal', 'Scottish', 'Academy', ',', 'The', ',', 'by', 'M', '.']\n"
     ]
    }
   ],
   "source": [
    "# Create a list of tokens as strings for the entire corpus\n",
    "str_tokens = [str(word) for word in corpus_tokens]\n",
    "print(str_tokens[0:10])\n",
    "\n",
    "# Create a list of tokens as strings for The Attempt\n",
    "attempt_str_tokens = []\n",
    "for fileid in attempt_ids:\n",
    "    attempt_tokens = wordlists.words(fileid)\n",
    "    attempt_str_tokens += [str(t) for t in attempt_tokens]\n",
    "print(attempt_str_tokens[-10:])\n",
    "\n",
    "# Create a list of tokens as strings for Ladies' Edinburgh Magazine\n",
    "mag_str_tokens = []\n",
    "for fileid in mag_ids:\n",
    "    mag_tokens = wordlists.words(fileid)\n",
    "    mag_str_tokens += [str(t) for t in mag_tokens]\n",
    "print(mag_str_tokens[200:210])"
   ]
  },
  {
   "cell_type": "markdown",
   "metadata": {},
   "source": [
    "Let's also create a list of tokens that are most likely to be valid English words by removing non-alphabetic tokens from ``str_tokens`` (e.g. punctuation, numbers):"
   ]
  },
  {
   "cell_type": "code",
   "execution_count": 9,
   "metadata": {},
   "outputs": [
    {
     "name": "stdout",
     "output_type": "stream",
     "text": [
      "['but', 'her', 'friends', 'had', 'no', 'cause', 'to', 'complain', 'of', 'her']\n"
     ]
    }
   ],
   "source": [
    "alpha_tokens = [t for t in str_tokens if t.isalpha()]\n",
    "print(alpha_tokens[1000:1010])"
   ]
  },
  {
   "cell_type": "markdown",
   "metadata": {},
   "source": [
    "Knowing that the digitized text in the LEDS dataset wasn't cleaned up after OCR, there may be words whose letters were incorrectly digitized as punctuation or numbers.  To include those words, we'll put all tokens that each have at least one letter in a ``with_letters`` list:"
   ]
  },
  {
   "cell_type": "code",
   "execution_count": 10,
   "metadata": {},
   "outputs": [
    {
     "name": "stdout",
     "output_type": "stream",
     "text": [
      "['he', 'is', 'THE', 'ATT', 'LSI', 'PT', 'discharged', 'after', 'the', 'trial']\n"
     ]
    }
   ],
   "source": [
    "with_letters = [t for t in str_tokens if re.search(\"[a-zA-z]+\", t)]\n",
    "print(with_letters[2000:2010])"
   ]
  },
  {
   "cell_type": "markdown",
   "metadata": {},
   "source": [
    "Next, we'll create lowercased versions of the previous lists of tokens, which can be useful for studying the vocabulary of a dataset, as explained at the beginning of this section:"
   ]
  },
  {
   "cell_type": "code",
   "execution_count": 11,
   "metadata": {},
   "outputs": [],
   "source": [
    "str_tokens_lower = [(str(word)).lower() for word in corpus_tokens]\n",
    "alpha_tokens_lower = [t for t in str_tokens_lower if t.isalpha()]\n",
    "with_letters_lower = [t for t in str_tokens_lower if re.search(\"[a-zA-z]+\", t)]\n",
    "\n",
    "# Check that the capitalized and lowercased lists of tokens are the same length, as expected\n",
    "assert(len(str_tokens_lower) == len(str_tokens))       # an error will be thrown if something went wrong   \n",
    "assert(len(alpha_tokens_lower) == len(alpha_tokens))   # an error will be thrown if something went wrong\n",
    "assert(len(with_letters_lower) == len(with_letters))   # an error will be thrown if something went wrong"
   ]
  },
  {
   "cell_type": "markdown",
   "metadata": {},
   "source": [
    "As stated at the start of this section, we can also tokenize sentences.  Tokenizing sentences separates sentences in a text into individual items, important when analyzing sentence structure.  Let's create one list of all sentences in the LEDS corpus, and a dictionary of lists for each file in the corpus:"
   ]
  },
  {
   "cell_type": "code",
   "execution_count": 12,
   "metadata": {},
   "outputs": [
    {
     "name": "stdout",
     "output_type": "stream",
     "text": [
      "Sample: ['He reckoned his jokes as a sportsman would count his head of\\r\\ngame, but the effect was drearily oppressive.', 'Fun must be spontaneous to be delightÂ¬\\r\\nful, and no one enjoys a joke when he feels that the joker is scoring it as a hit or a\\r\\nmiss with painful care.', 'Many of the best things ever said are unrecorded, save in the memories of the\\r\\nhearers ; no one chronicles them, and they go floating about the undercurrents of\\r\\ntlie world of talk, making little speaking circles whenever they come to the surface,\\r\\ntill by constant wear the edge is taken off, and they sink for ever among the fossil\\r\\nB\\r\\n10 THE ATTEMPT\\r\\nwitticisms of bygone ages.', 'One such story I have heard of Tliackeray.', 'One Derby\\r\\nDay he was returning by one of the last trains to London, and saw a little man\\r\\nrushing wildly about the platform, exclaiming as he looked into each full carriage,\\r\\n\" Good gracious me !']\n"
     ]
    }
   ],
   "source": [
    "all_sents = []\n",
    "sents_by_file = dict.fromkeys(wordlists.fileids())\n",
    "# Iterate through each file in the LEDS corpus\n",
    "for fileid in wordlists.fileids():\n",
    "    file_sents = sent_tokenize(wordlists.raw(fileid))\n",
    "    all_sents += [str(sent) for sent in file_sents]\n",
    "    sents_by_file[fileid] = all_sents\n",
    "\n",
    "print(\"Sample:\", all_sents[200:205])"
   ]
  },
  {
   "cell_type": "markdown",
   "metadata": {},
   "source": [
    "I wonder if the language changed from The Attempt publication and the Edinburgh Ladies Magazine publication?  Let's create lists of all sentences for each of these publications so the language of the two publications can be compared and contrasted:"
   ]
  },
  {
   "cell_type": "code",
   "execution_count": 13,
   "metadata": {},
   "outputs": [
    {
     "name": "stdout",
     "output_type": "stream",
     "text": [
      "Total sentences from The Attempt: 53053\n",
      "Sample: ['Is there no one\\r\\nwhom we could comfort out of our abundance, and whose precious blessings we might\\r\\nhope to deserve!', 'Gretchen,â\\x80\\x9d he exclaimed, rising up as the thought seized him,\\r\\nâ\\x80\\x9c our old neighbour Dorothea can have but little since her loving son was taken\\r\\naway: it is the duty of the rich to help the poor, and rich we are compared to the\\r\\ndesolate widow.', 'What think you, my wife; would it not be seemly that she should\\r\\npartake of our Christmas bounty!â\\x80\\x9d The kindly housewife did not reply in words,\\r\\nbut looking up in her husbandâ\\x80\\x99s face, gave a pleasant smile and approving nod, and\\r\\nwas soon again busily engaged with her knitting.', 'With the somewhat impetuous\\r\\nCarl Holz, to determine anything was at once to do it; so, rising up, he began to\\r\\nprepare for a walk of some four or five miles through the dense forest in which his\\r\\nwooden hut was situated.', 'Gretchen would have objected.']\n",
      "\n",
      "Total sentences from Ladies' Edinburgh Magazine: 54958\n",
      "Sample: ['Such trials do not injure the body, but they deaden the\\r\\nsoul; they induce a weariness of conflict, and lead into\\r\\nthe reaction of a deliberate refi;sal to feel at all.', 'In a dream once, I found myself choking, stifling in\\r\\ndeep waters; something like great masses of clinging\\r\\nâ\\x96\\xa0weeds imprisoned my feet, so that I could not get out;\\r\\nand the horror of the situation was heiglitened when I\\r\\ndiscovered that this was my own hair, which had all f;illen\\r\\noff.', 'At last 1 struggled on shore, and feebly walked away\\r\\nThe Ladies^ Edinburgh Magazine.', '13\\r\\nfrom the water.', 'After a while, I turned to look at the\\r\\ndepth I had escaped, and behold !']\n"
     ]
    }
   ],
   "source": [
    "attempt_file_sents = dict.fromkeys(attempt_ids)\n",
    "attempt_sents = []\n",
    "# Iterate through each file of a publication of The Attempt\n",
    "for fileid in attempt_ids:\n",
    "    file_sents = sent_tokenize(wordlists.raw(fileid))\n",
    "    attempt_sents += [str(sent) for sent in file_sents]\n",
    "    attempt_file_sents[fileid] = attempt_sents\n",
    "    \n",
    "print(\"Total sentences from The Attempt:\", len(attempt_sents))\n",
    "print(\"Sample:\", attempt_file_sents[\"103655648.txt\"][400:405])\n",
    "print()\n",
    "    \n",
    "mag_file_sents = dict.fromkeys(mag_ids)\n",
    "mag_sents = []\n",
    "# Iterate through each file of a publication of Edinburgh Ladies' Magazine\n",
    "for fileid in mag_ids:\n",
    "    file_sents = sent_tokenize(wordlists.raw(fileid))  \n",
    "    mag_sents += [str(sent) for sent in file_sents]\n",
    "    mag_file_sents[fileid] = mag_sents\n",
    "    \n",
    "print(\"Total sentences from Ladies' Edinburgh Magazine:\", len(mag_sents))\n",
    "print(\"Sample:\", mag_file_sents[\"103655659.txt\"][250:255])"
   ]
  },
  {
   "cell_type": "markdown",
   "metadata": {},
   "source": [
    "#### 1.2 Stemming\n",
    "As we saw in the results of the concordance method, OCR doesn't result in perfectly digitised text.  To get a sense of how many mistakes may have been made in the digitisation process, we can measure how many words in the LEDS dataset are recognizable English words according to a list of words used considered valid in the board game [Scrabble](https://raw.githubusercontent.com/jesstess/Scrabble/master/scrabble/sowpods.txt) (as demonstrated in [this example](https://stackoverflow.com/questions/61362891/python-is-there-an-nltk-corpus-for-english-gb-words)).\n",
    "\n",
    "As mentioned in section **1.1 Tokenisation**, there are several ways to standardise, or \"normalise,\" text, with each way providing suitable text for different types of analysis.  We're concerned with studying vocabulary, since we want to measure how many of the alphabetic tokens NLTK has identified in the LEDS dataset are valid English words, so we'll work with lowercase, alphabetic tokens from our ``alpha_tokens_lower`` list.\n",
    "\n",
    "To efficiently measure the number of valid and invalid English words, we can further standardise our data through *stemming*.  Stemming reduces words to their root form by removing suffixes and prefixes.  For example, the word \"troubling\" has a stem of \"troubl.\"\n",
    "\n",
    "In the next 3 steps we'll load the Scrabble dataset of valid English words, stem the Scrabble dataset and LEDS dataset, and then see if the stems from the LEDS dataset are present in the Scrabble dataset."
   ]
  },
  {
   "cell_type": "markdown",
   "metadata": {},
   "source": [
    "**Step 1:** First we'll load the Scrabble file of words (which helpfully includes British English spellings!) and create a list of those words as a frozen set, which prevents them from being modified accidentally:"
   ]
  },
  {
   "cell_type": "code",
   "execution_count": 14,
   "metadata": {},
   "outputs": [
    {
     "name": "stdout",
     "output_type": "stream",
     "text": [
      "Total words in Scrabble list: 267752\n",
      "Sample of English words from the Scrabble list: ['abattoirs', 'abattu', 'abature', 'abatures', 'abaxial', 'abaxile', 'abaya', 'abayas', 'abb', 'abba', 'abbacies', 'abbacy', 'abbas', 'abbatial', 'abbe', 'abbed', 'abbes', 'abbess', 'abbesses', 'abbey']\n"
     ]
    }
   ],
   "source": [
    "file = open('data/scrabble_words.txt', 'r')\n",
    "scrabble_words = file.read().split('\\n')\n",
    "scrabble_words_lower = [word.lower() for word in scrabble_words]\n",
    "\n",
    "assert(len(scrabble_words) == len(scrabble_words_lower))  # the number of words shouldn't change when the list is lowercased\n",
    "\n",
    "print(\"Total words in Scrabble list:\", len(scrabble_words))\n",
    "print(\"Sample of English words from the Scrabble list:\", scrabble_words_lower[100:120])"
   ]
  },
  {
   "cell_type": "markdown",
   "metadata": {},
   "source": [
    "**Step 2:** Next we'll stem the tokens in the Scrabble list and the LEDS dataset.  There are different algorithms that one can use to determine the root of a word; we will use the Porter Stemmer.  To make our code as efficient as possible, we'll create *sets* of the Scrabble and LEDS stems; sets are a Python data structure that are similar to lists, except that each item in a set is unique (there are no duplicates).  \n",
    "\n",
    "This process should give us a smaller number of words to compare and should enable tokens in LEDS to be recognized as English words even if they appeared in a different form in the Scrabble list."
   ]
  },
  {
   "cell_type": "code",
   "execution_count": 15,
   "metadata": {},
   "outputs": [
    {
     "name": "stdout",
     "output_type": "stream",
     "text": [
      "['conthm', 'wlier', 'lyttletonâ', 'sox', 'osenc', 'uncharit', 'hovis', 'prefer', 'rewai', 'rabbi']\n",
      "['fouler', 'globi', 'undisclos', 'engraff', 'revalid', 'unstop', 'palp', 'runcibl', 'sectori', 'unmew']\n"
     ]
    }
   ],
   "source": [
    "porter = nltk.PorterStemmer()   # NLTK provides other stemming algorithms you can try, too, such as the LancasterStemmer\n",
    "\n",
    "unique_alpha_lower = list(set(alpha_tokens_lower)) # Remove duplicates from the lowercased, alphabetic tokens in the LEDS dataset\n",
    "leds_porter_stemmed = [porter.stem(t) for t in unique_alpha_lower]\n",
    "\n",
    "scrabble_porter_stemmed = [porter.stem(t) for t in scrabble_words_lower]\n",
    "\n",
    "# Remove duplicates from the Scrabble and LEDS lists of stems\n",
    "leds_pstemmed_set = list(set(leds_porter_stemmed))\n",
    "scrabble_pstemmed_set = list(set(scrabble_porter_stemmed))\n",
    "\n",
    "print(leds_pstemmed_set[:10])\n",
    "print(scrabble_pstemmed_set[50:60])"
   ]
  },
  {
   "cell_type": "markdown",
   "metadata": {},
   "source": [
    "**Step 3:**  Lastly, we'll compare the stems (root forms) of LEDS tokens to the stems of Scrabble words to gauge how many LEDS tokens are recognizable English words."
   ]
  },
  {
   "cell_type": "code",
   "execution_count": 16,
   "metadata": {},
   "outputs": [
    {
     "name": "stdout",
     "output_type": "stream",
     "text": [
      "Recognized Stems: 52.320395201129145 %\n"
     ]
    }
   ],
   "source": [
    "recognized_stems = 0\n",
    "for stem in leds_porter_stemmed:\n",
    "    if stem in scrabble_porter_stemmed:\n",
    "        recognized_stems += 1\n",
    "print(\"Recognized Stems:\", (recognized_stems/len(leds_porter_stemmed))*100,\"%\")"
   ]
  },
  {
   "cell_type": "markdown",
   "metadata": {},
   "source": [
    "Rather than comparing stems in the Scrabble and LEDS dataset, you could also compare lemmas or the entire vocabularies (all lowercased, unique tokens).  Comparing the entire vocabularies will take longer than comparing stems and lemmas, though.\n",
    "\n",
    "Anyways, it looks as though just under half the words in the LEDS text aren't recognized...how might we figure out what some of those words are meant to be?"
   ]
  },
  {
   "cell_type": "markdown",
   "metadata": {},
   "source": [
    "#### 1.2 Cleaning Digitization Mistakes\n",
    "Though a manual review of the digitized LEDS text is the most accurate way to correct mistakes in the OCR process, we can use programming to speed up this process and estimate potential words that could take the place of invalid words.  \n",
    "***\n",
    "*For more on the approach used in this subsection, check out [chapter 11, section 3.7 of the NLTK Book](https://www.nltk.org/book/ch11.html#chap-data)*"
   ]
  },
  {
   "cell_type": "code",
   "execution_count": 17,
   "metadata": {},
   "outputs": [],
   "source": [
    "# Code goes here"
   ]
  },
  {
   "cell_type": "markdown",
   "metadata": {},
   "source": [
    " or try: http://www.natcorp.ox.ac.uk/docs/URG/intro.html ???"
   ]
  },
  {
   "cell_type": "markdown",
   "metadata": {},
   "source": [
    "#### 1.3 Lemmatization\n",
    "Another way to standardize words by reducing them to a root form is *lemmatization*.  Lemmatization differs from stemming because, though both reduce words to a root form, lemmas are roots that are valid words on their own while stems may be roots that are not valid words on their own.  For example, the word \"troubling\" has a stem of \"troubl\" and a lemma of \"trouble.\"\n",
    "\n",
    "Let's create lemmas for the entire LEDS dataset and each of its publications, The Attempt and Ladies' Edinburgh Magazine:"
   ]
  },
  {
   "cell_type": "code",
   "execution_count": 18,
   "metadata": {},
   "outputs": [
    {
     "name": "stdout",
     "output_type": "stream",
     "text": [
      "Sample of lemmas from the LEDS dataset:\n",
      " ['in', 'others', 'is', 'evidenced', 'in', 'her', 'own', 'work', 'on', 'the']\n",
      "\n",
      "Sample of lemmas from The Attempt:\n",
      " ['of', 'the', 'age', 'of', 'queen', 'elizabeth', 'contrasted', 'with', 'those', 'of']\n",
      "\n",
      "Sample of lemmas from Ladies' Edinburgh Magazine:\n",
      " ['but', 'that', 'power', 'which', 'in', 'the', 'form', 'of', 'religion', 'can']\n"
     ]
    }
   ],
   "source": [
    "# Get tokens with at least one letter and lowercase them\n",
    "attempt_with_letters_lower = [t.lower() for t in attempt_str_tokens if re.search(\"[a-zA-Z]+\", t)]\n",
    "mag_with_letters_lower = [t.lower() for t in mag_str_tokens if re.search(\"[a-zA-Z]+\", t)]\n",
    "\n",
    "# Lemmatize the text (reduce words to their root ONLY if the root is considered a word in WordNet)\n",
    "wnl = nltk.WordNetLemmatizer()\n",
    "\n",
    "leds_lemmas = [wnl.lemmatize(t) for t in with_letters_lower]\n",
    "print(\"Sample of lemmas from the LEDS dataset:\\n\",leds_lemmas[1050:1060])\n",
    "print()\n",
    "attempt_lemmas = [wnl.lemmatize(t) for t in attempt_with_letters_lower]\n",
    "print(\"Sample of lemmas from The Attempt:\\n\",attempt_lemmas[500:510])\n",
    "print()\n",
    "mag_lemmas = [wnl.lemmatize(t) for t in mag_with_letters_lower]\n",
    "print(\"Sample of lemmas from Ladies' Edinburgh Magazine:\\n\",mag_lemmas[890:900])"
   ]
  },
  {
   "cell_type": "markdown",
   "metadata": {},
   "source": [
    "#### 1.4 Part of Speech Tagging\n",
    "Another form of standardization in text analysis is tagging sentences, or identifying the parts of speech in sentences.  Identifying parts of speech that compose the structure of sentences is important for analyzing linguistic patterns and comparing the writing styles of different texts.  We'll use NLTK's built-in part of speech tagger to tag sentences for the entire corpus and for each publication (The Attempt and Ladies' Edinburgh Magazine):"
   ]
  },
  {
   "cell_type": "code",
   "execution_count": 19,
   "metadata": {},
   "outputs": [
    {
     "name": "stdout",
     "output_type": "stream",
     "text": [
      "[[('2', 'CD'), ('.', '.')], [('A', 'DT'), ('Mistake', 'NNP'), ('.', '.')], [('3', 'CD'), ('.', '.')], [('4', 'CD'), ('.', '.'), ('6', 'CD'), ('.', '.')], [('An', 'DT'), ('Appellation', 'NNP'), ('.', '.'), ('Unfriendly', 'RB'), ('.', '.'), ('Casual', 'JJ'), ('hints', 'NNS'), ('.', '.')]]\n"
     ]
    }
   ],
   "source": [
    "# Get a list of words (as strings) for each sentence in the LEDS dataset\n",
    "leds_sents_lists = wordlists.sents()\n",
    "# Tag parts of speech in sentences for the entire LEDS corpus\n",
    "leds_tags = [nltk.pos_tag(sent) for sent in leds_sents_lists]\n",
    "\n",
    "# # Iterate through each file of a publication of The Attempt to create a \n",
    "# # list of strings of words (as strings) for each sentence\n",
    "# attempt_sents_lists = []\n",
    "# for fileid in attempt_ids:\n",
    "#     file_sents = wordlists.sents(fileid)\n",
    "#     attempt_sents_lists += [str(sent) for sent in file_sents]\n",
    "# # Tag parts of speech in sentences for The Attempt\n",
    "# attempt_tags = [nltk.pos_tag(sent) for sent in attempt_sents_lists]\n",
    "\n",
    "# # Iterate through each file of a publication of Edinburgh Ladies' Magazine to\n",
    "# # create a list of words (as strings) for each sentence\n",
    "# mag_sents_lists = []\n",
    "# for fileid in mag_ids:\n",
    "#     file_sents = wordlists.sents(fileid)\n",
    "#     mag_sents_lists += [str(sent) for sent in file_sents]\n",
    "# # Tag parts of speech in sentences for Ladies' Edinburgh Magazine\n",
    "# mag_tags = [nltk.pos_tag(sent) for sent in mag_sents_lists]\n",
    "\n",
    "print(leds_tags[400:405])\n",
    "# print(attempt_tags[400:405])\n",
    "# print(mag_tags[400:405])"
   ]
  },
  {
   "cell_type": "code",
   "execution_count": null,
   "metadata": {},
   "outputs": [],
   "source": []
  },
  {
   "cell_type": "markdown",
   "metadata": {},
   "source": [
    "See mapping signatures to words to get \"candidate corrections\" for digitization mistakes: https://www.nltk.org/book/ch11.html#chap-data\n",
    "\n",
    "TO DO: try this on all uncleaned OCR datasets!"
   ]
  },
  {
   "cell_type": "code",
   "execution_count": 20,
   "metadata": {},
   "outputs": [],
   "source": [
    "# mapping signatures to words and ranking - section 3.7"
   ]
  },
  {
   "cell_type": "markdown",
   "metadata": {},
   "source": [
    "### 2. Summary Statistics\n",
    "[Code cells in this section will have one function each, preceded with comments in a markdown cell narrating the summarization process]"
   ]
  },
  {
   "cell_type": "markdown",
   "metadata": {},
   "source": [
    "#### 2.1 Frequencies and Sizes\n",
    "Now that we've created some different cuts of the LEDS dataset, let's start investigating the frequency of terms as they appear across the dataset.  One way to do so is with a *frequency distribution*, which is a line chart that shows how many times a token appears in the dataset.  The following 3 steps demonstrate how to visualize frequency distributions.\n",
    "\n",
    "**Step 1:** Filter the tokens in each LEDS publication to exclude one-letter words, two-letter words, and stop words (such as \"and,\" \"a,\", and \"the\"), and lowercase all the tokens:"
   ]
  },
  {
   "cell_type": "code",
   "execution_count": 43,
   "metadata": {},
   "outputs": [
    {
     "name": "stdout",
     "output_type": "stream",
     "text": [
      "Sample The Attempt tokens after filtering: ['katie', 'veronica', '.......', 'royal', 'hospital', 'sick', 'children', 'new', 'yearâ', 'hymn']\n",
      "Sample Ladies' Edinburgh Magazine tokens after filtering: ['profession', 'women', 'eliza', 'dunbar', '383', 'years', 'naomi', 'smith', '....', '380']\n"
     ]
    }
   ],
   "source": [
    "# Use NLTK's provided stop words for the English language\n",
    "to_exclude = list(set(stopwords.words('english')))\n",
    "to_exclude += ['attempt', 'magazine', 'ladies', 'edinburgh']    # add words from the journals' titles\n",
    "\n",
    "# Filter one-letter words, two-letter words, and  stop words out of the list of The Attempt tokens \n",
    "attempt_min_three_letters = []\n",
    "attempt_min_three_letters += [t.lower() for t in attempt_str_tokens if len(t) > 2]\n",
    "attempt_filtered_tokens = [t for t in attempt_min_three_letters if not t in to_exclude]\n",
    "print(\"Sample The Attempt tokens after filtering:\", attempt_filtered_tokens[60:70])\n",
    "\n",
    "# Filter one-letter words, two-letter words, and  stop words out of the list of Ladies' Edinburgh Magazine tokens \n",
    "mag_min_three_letters = []\n",
    "mag_min_three_letters += [t.lower() for t in mag_str_tokens if len(t) > 2]\n",
    "mag_filtered_tokens = [t for t in mag_min_three_letters if not t in to_exclude]\n",
    "print(\"Sample Ladies' Edinburgh Magazine tokens after filtering:\", mag_filtered_tokens[200:210])"
   ]
  },
  {
   "cell_type": "markdown",
   "metadata": {},
   "source": [
    "**Step 2:** Calculate the frequency distribution for each LEDS publication using NLTK's ``FreqDist()`` method:"
   ]
  },
  {
   "cell_type": "code",
   "execution_count": 45,
   "metadata": {},
   "outputs": [
    {
     "name": "stdout",
     "output_type": "stream",
     "text": [
      "The Attempt tokens after filtering: 675377\n",
      "Ladies' Edinburgh Magazine tokens after filtering: 622426\n"
     ]
    }
   ],
   "source": [
    "# Calculate the frequency distribution for each filtered list of tokens\n",
    "attempt_fdist = FreqDist(attempt_filtered_tokens)\n",
    "print(\"The Attempt tokens after filtering:\", attempt_fdist.N())\n",
    "\n",
    "mag_fdist = FreqDist(mag_filtered_tokens)\n",
    "print(\"Ladies' Edinburgh Magazine tokens after filtering:\", mag_fdist.N())"
   ]
  },
  {
   "cell_type": "markdown",
   "metadata": {},
   "source": [
    "**Step 3:** Plot the frequency distributions for each LEDS publication:"
   ]
  },
  {
   "cell_type": "code",
   "execution_count": 46,
   "metadata": {},
   "outputs": [
    {
     "data": {
      "image/png": "[encoded data removed]",
      "text/plain": [
       "<Figure size 1296x576 with 1 Axes>"
      ]
     },
     "metadata": {
      "needs_background": "light"
     },
     "output_type": "display_data"
    },
    {
     "data": {
      "text/plain": [
       "<matplotlib.axes._subplots.AxesSubplot at 0x1aabeb5f8>"
      ]
     },
     "execution_count": 46,
     "metadata": {},
     "output_type": "execute_result"
    }
   ],
   "source": [
    "# Visualise the frequency distribution for a select number of tokens \n",
    "plt.figure(figsize = (18, 8))                # customise the width and height of the plot\n",
    "plt.rc('font', size=12)                       # customise the font size of the title, axes names, and axes labels\n",
    "attempt_fdist.plot(20, title='Frequency Distribution of the 20 Most Common Words in The Attempt (excluding stop words, 1-letter and 2-letter words)')"
   ]
  },
  {
   "cell_type": "code",
   "execution_count": 47,
   "metadata": {},
   "outputs": [
    {
     "data": {
      "image/png": "[encoded data removed]",
      "text/plain": [
       "<Figure size 1296x576 with 1 Axes>"
      ]
     },
     "metadata": {
      "needs_background": "light"
     },
     "output_type": "display_data"
    },
    {
     "data": {
      "text/plain": [
       "<matplotlib.axes._subplots.AxesSubplot at 0x1b34b53c8>"
      ]
     },
     "execution_count": 47,
     "metadata": {},
     "output_type": "execute_result"
    }
   ],
   "source": [
    "# Visualise the frequency distribution for a select number of tokens\n",
    "plt.figure(figsize = (18, 8))                # customise the width and height of the plot\n",
    "plt.rc('font', size=12)                       # customise the font size of the title, axes names, and axes labels\n",
    "mag_fdist.plot(20, title=\"Frequency Distribution of the 20 Most Common Words in Ladies' Edinburgh Magazine (excluding stop words, 1-letter and 2-letter words)\")"
   ]
  },
  {
   "cell_type": "markdown",
   "metadata": {},
   "source": [
    "[Discuss charts]"
   ]
  },
  {
   "cell_type": "markdown",
   "metadata": {},
   "source": [
    "#### 2.2 Uniqueness and Variety"
   ]
  },
  {
   "cell_type": "markdown",
   "metadata": {},
   "source": [
    "[Narration]"
   ]
  },
  {
   "cell_type": "code",
   "execution_count": 25,
   "metadata": {},
   "outputs": [
    {
     "name": "stdout",
     "output_type": "stream",
     "text": [
      "LEDS vocabulary size: 66202 words\n",
      "The Attempt vocabulary size: 81408 words\n",
      "Ladies' Edinburgh Magazine vocablary size: 70850 words\n"
     ]
    }
   ],
   "source": [
    "# Remove duplicate lemmas to obtain the vocabulary of the text and each publication\n",
    "leds_vocab = set(leds_lemmas)\n",
    "attempt_vocab = set(alpha_tokens)\n",
    "mag_vocab = set(alpha_tokens_lower)\n",
    "print(\"LEDS vocabulary size:\", len(leds_vocab), \"words\")\n",
    "print(\"The Attempt vocabulary size:\", len(attempt_vocab), \"words\")\n",
    "print(\"Ladies' Edinburgh Magazine vocablary size:\", len(mag_vocab), \"words\")"
   ]
  },
  {
   "cell_type": "code",
   "execution_count": 26,
   "metadata": {},
   "outputs": [],
   "source": [
    "# Lexical Dispersion Plot?\n",
    "# corpus_text = Text(corpus_tokens)\n",
    "# targets = []\n",
    "# plt.figure(figsize=(30,20))\n",
    "# plt.rc('font', size=20)\n",
    "# displt(corpus_text, targets, ignore_case=True, title='Lexical Dispersion Plot of ')"
   ]
  },
  {
   "cell_type": "code",
   "execution_count": null,
   "metadata": {},
   "outputs": [],
   "source": []
  },
  {
   "cell_type": "markdown",
   "metadata": {},
   "source": [
    "### 3. Exploratory Analysis (this section will be included for 2-3 datasets)\n",
    "[Code cells in this section will have one function each, preceded with comments in a markdown cell posing an exploratory research question]"
   ]
  },
  {
   "cell_type": "markdown",
   "metadata": {},
   "source": [
    "#### 3.1 Who is named in the dataset?  (Named Entity Recognition)\n",
    "* https://medium.com/@pavankalyanpk986/named-entity-recognition-with-nltk-ec59ff6a9250\n",
    "* https://pypi.org/project/gender-guesser/"
   ]
  },
  {
   "cell_type": "code",
   "execution_count": 27,
   "metadata": {},
   "outputs": [],
   "source": [
    "# code goes here"
   ]
  },
  {
   "cell_type": "code",
   "execution_count": 28,
   "metadata": {},
   "outputs": [],
   "source": [
    "# visualizations go here"
   ]
  },
  {
   "cell_type": "markdown",
   "metadata": {},
   "source": [
    "#### 3.2 How many of the people named are found in Wikidata?"
   ]
  },
  {
   "cell_type": "code",
   "execution_count": 29,
   "metadata": {},
   "outputs": [],
   "source": [
    "# code goes here"
   ]
  },
  {
   "cell_type": "code",
   "execution_count": 30,
   "metadata": {},
   "outputs": [],
   "source": [
    "# visualizations go here"
   ]
  },
  {
   "cell_type": "code",
   "execution_count": null,
   "metadata": {},
   "outputs": [],
   "source": []
  },
  {
   "cell_type": "code",
   "execution_count": null,
   "metadata": {},
   "outputs": [],
   "source": []
  },
  {
   "cell_type": "code",
   "execution_count": null,
   "metadata": {},
   "outputs": [],
   "source": []
  },
  {
   "cell_type": "code",
   "execution_count": null,
   "metadata": {},
   "outputs": [],
   "source": []
  },
  {
   "cell_type": "code",
   "execution_count": null,
   "metadata": {},
   "outputs": [],
   "source": []
  }
 ],
 "metadata": {
  "kernelspec": {
   "display_name": "Python 3",
   "language": "python",
   "name": "python3"
  },
  "language_info": {
   "codemirror_mode": {
    "name": "ipython",
    "version": 3
   },
   "file_extension": ".py",
   "mimetype": "text/x-python",
   "name": "python",
   "nbconvert_exporter": "python",
   "pygments_lexer": "ipython3",
   "version": "3.6.3"
  }
 },
 "nbformat": 4,
 "nbformat_minor": 4
}
